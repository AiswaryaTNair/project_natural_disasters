{
  "cells": [
    {
      "cell_type": "code",
      "execution_count": null,
      "id": "2b0f9528",
      "metadata": {
        "id": "2b0f9528"
      },
      "outputs": [],
      "source": [
        "import numpy as np\n",
        "import pandas as pd\n",
        "import matplotlib.pyplot as plt\n",
        "import seaborn as sns\n",
        "import warnings \n",
        "warnings.filterwarnings(\"ignore\")\n",
        "from pandas import Series, DataFrame\n",
        "from sklearn.preprocessing import LabelEncoder\n",
        "from sklearn.preprocessing import StandardScaler\n",
        "from sklearn.model_selection import train_test_split\n",
        "from sklearn.metrics import f1_score,confusion_matrix\n",
        "from sklearn.metrics import classification_report\n",
        "from sklearn.metrics import accuracy_score\n",
        "from sklearn.linear_model import LogisticRegression\n",
        "from sklearn.neighbors import KNeighborsClassifier\n",
        "from sklearn.svm import SVC\n",
        "from sklearn.tree import DecisionTreeClassifier\n",
        "from sklearn.ensemble import GradientBoostingClassifier\n",
        "from xgboost import XGBClassifier\n",
        "from sklearn.ensemble import RandomForestClassifier"
      ]
    },
    {
      "cell_type": "code",
      "execution_count": null,
      "id": "47792189",
      "metadata": {
        "id": "47792189"
      },
      "outputs": [],
      "source": [
        "# Reading the data and understanding the data"
      ]
    },
    {
      "cell_type": "code",
      "execution_count": null,
      "id": "486aa1b4",
      "metadata": {
        "id": "486aa1b4",
        "outputId": "3066238b-950d-4016-94da-f6a39ef72526"
      },
      "outputs": [
        {
          "data": {
            "text/html": [
              "<div>\n",
              "<style scoped>\n",
              "    .dataframe tbody tr th:only-of-type {\n",
              "        vertical-align: middle;\n",
              "    }\n",
              "\n",
              "    .dataframe tbody tr th {\n",
              "        vertical-align: top;\n",
              "    }\n",
              "\n",
              "    .dataframe thead th {\n",
              "        text-align: right;\n",
              "    }\n",
              "</style>\n",
              "<table border=\"1\" class=\"dataframe\">\n",
              "  <thead>\n",
              "    <tr style=\"text-align: right;\">\n",
              "      <th></th>\n",
              "      <th>SUBDIVISION</th>\n",
              "      <th>YEAR</th>\n",
              "      <th>JAN</th>\n",
              "      <th>FEB</th>\n",
              "      <th>MAR</th>\n",
              "      <th>APR</th>\n",
              "      <th>MAY</th>\n",
              "      <th>JUN</th>\n",
              "      <th>JUL</th>\n",
              "      <th>AUG</th>\n",
              "      <th>SEP</th>\n",
              "      <th>OCT</th>\n",
              "      <th>NOV</th>\n",
              "      <th>DEC</th>\n",
              "      <th>ANNUAL</th>\n",
              "      <th>Jan-Feb</th>\n",
              "      <th>Mar-May</th>\n",
              "      <th>Jun-Sep</th>\n",
              "      <th>Oct-Dec</th>\n",
              "    </tr>\n",
              "  </thead>\n",
              "  <tbody>\n",
              "    <tr>\n",
              "      <th>0</th>\n",
              "      <td>ANDAMAN &amp; NICOBAR ISLANDS</td>\n",
              "      <td>1901</td>\n",
              "      <td>49.2</td>\n",
              "      <td>87.1</td>\n",
              "      <td>29.2</td>\n",
              "      <td>2.3</td>\n",
              "      <td>528.8</td>\n",
              "      <td>517.5</td>\n",
              "      <td>365.1</td>\n",
              "      <td>481.1</td>\n",
              "      <td>332.6</td>\n",
              "      <td>388.5</td>\n",
              "      <td>558.2</td>\n",
              "      <td>33.6</td>\n",
              "      <td>3373.2</td>\n",
              "      <td>136.3</td>\n",
              "      <td>560.3</td>\n",
              "      <td>1696.3</td>\n",
              "      <td>980.3</td>\n",
              "    </tr>\n",
              "    <tr>\n",
              "      <th>1</th>\n",
              "      <td>ANDAMAN &amp; NICOBAR ISLANDS</td>\n",
              "      <td>1902</td>\n",
              "      <td>0.0</td>\n",
              "      <td>159.8</td>\n",
              "      <td>12.2</td>\n",
              "      <td>0.0</td>\n",
              "      <td>446.1</td>\n",
              "      <td>537.1</td>\n",
              "      <td>228.9</td>\n",
              "      <td>753.7</td>\n",
              "      <td>666.2</td>\n",
              "      <td>197.2</td>\n",
              "      <td>359.0</td>\n",
              "      <td>160.5</td>\n",
              "      <td>3520.7</td>\n",
              "      <td>159.8</td>\n",
              "      <td>458.3</td>\n",
              "      <td>2185.9</td>\n",
              "      <td>716.7</td>\n",
              "    </tr>\n",
              "    <tr>\n",
              "      <th>2</th>\n",
              "      <td>ANDAMAN &amp; NICOBAR ISLANDS</td>\n",
              "      <td>1903</td>\n",
              "      <td>12.7</td>\n",
              "      <td>144.0</td>\n",
              "      <td>0.0</td>\n",
              "      <td>1.0</td>\n",
              "      <td>235.1</td>\n",
              "      <td>479.9</td>\n",
              "      <td>728.4</td>\n",
              "      <td>326.7</td>\n",
              "      <td>339.0</td>\n",
              "      <td>181.2</td>\n",
              "      <td>284.4</td>\n",
              "      <td>225.0</td>\n",
              "      <td>2957.4</td>\n",
              "      <td>156.7</td>\n",
              "      <td>236.1</td>\n",
              "      <td>1874.0</td>\n",
              "      <td>690.6</td>\n",
              "    </tr>\n",
              "    <tr>\n",
              "      <th>3</th>\n",
              "      <td>ANDAMAN &amp; NICOBAR ISLANDS</td>\n",
              "      <td>1904</td>\n",
              "      <td>9.4</td>\n",
              "      <td>14.7</td>\n",
              "      <td>0.0</td>\n",
              "      <td>202.4</td>\n",
              "      <td>304.5</td>\n",
              "      <td>495.1</td>\n",
              "      <td>502.0</td>\n",
              "      <td>160.1</td>\n",
              "      <td>820.4</td>\n",
              "      <td>222.2</td>\n",
              "      <td>308.7</td>\n",
              "      <td>40.1</td>\n",
              "      <td>3079.6</td>\n",
              "      <td>24.1</td>\n",
              "      <td>506.9</td>\n",
              "      <td>1977.6</td>\n",
              "      <td>571.0</td>\n",
              "    </tr>\n",
              "    <tr>\n",
              "      <th>4</th>\n",
              "      <td>ANDAMAN &amp; NICOBAR ISLANDS</td>\n",
              "      <td>1905</td>\n",
              "      <td>1.3</td>\n",
              "      <td>0.0</td>\n",
              "      <td>3.3</td>\n",
              "      <td>26.9</td>\n",
              "      <td>279.5</td>\n",
              "      <td>628.7</td>\n",
              "      <td>368.7</td>\n",
              "      <td>330.5</td>\n",
              "      <td>297.0</td>\n",
              "      <td>260.7</td>\n",
              "      <td>25.4</td>\n",
              "      <td>344.7</td>\n",
              "      <td>2566.7</td>\n",
              "      <td>1.3</td>\n",
              "      <td>309.7</td>\n",
              "      <td>1624.9</td>\n",
              "      <td>630.8</td>\n",
              "    </tr>\n",
              "  </tbody>\n",
              "</table>\n",
              "</div>"
            ],
            "text/plain": [
              "                 SUBDIVISION  YEAR   JAN    FEB   MAR    APR    MAY    JUN  \\\n",
              "0  ANDAMAN & NICOBAR ISLANDS  1901  49.2   87.1  29.2    2.3  528.8  517.5   \n",
              "1  ANDAMAN & NICOBAR ISLANDS  1902   0.0  159.8  12.2    0.0  446.1  537.1   \n",
              "2  ANDAMAN & NICOBAR ISLANDS  1903  12.7  144.0   0.0    1.0  235.1  479.9   \n",
              "3  ANDAMAN & NICOBAR ISLANDS  1904   9.4   14.7   0.0  202.4  304.5  495.1   \n",
              "4  ANDAMAN & NICOBAR ISLANDS  1905   1.3    0.0   3.3   26.9  279.5  628.7   \n",
              "\n",
              "     JUL    AUG    SEP    OCT    NOV    DEC  ANNUAL  Jan-Feb  Mar-May  \\\n",
              "0  365.1  481.1  332.6  388.5  558.2   33.6  3373.2    136.3    560.3   \n",
              "1  228.9  753.7  666.2  197.2  359.0  160.5  3520.7    159.8    458.3   \n",
              "2  728.4  326.7  339.0  181.2  284.4  225.0  2957.4    156.7    236.1   \n",
              "3  502.0  160.1  820.4  222.2  308.7   40.1  3079.6     24.1    506.9   \n",
              "4  368.7  330.5  297.0  260.7   25.4  344.7  2566.7      1.3    309.7   \n",
              "\n",
              "   Jun-Sep  Oct-Dec  \n",
              "0   1696.3    980.3  \n",
              "1   2185.9    716.7  \n",
              "2   1874.0    690.6  \n",
              "3   1977.6    571.0  \n",
              "4   1624.9    630.8  "
            ]
          },
          "execution_count": 228,
          "metadata": {},
          "output_type": "execute_result"
        }
      ],
      "source": [
        "df=pd.read_csv(r\"C:\\Users\\HP\\OneDrive\\Desktop\\rainfall in india 1901-2015.csv\")\n",
        "df.head()"
      ]
    },
    {
      "cell_type": "code",
      "execution_count": null,
      "id": "784753cc",
      "metadata": {
        "id": "784753cc",
        "outputId": "e9b3b90a-2692-4278-bb70-d88ef061f19e"
      },
      "outputs": [
        {
          "data": {
            "text/plain": [
              "(4116, 19)"
            ]
          },
          "execution_count": 4,
          "metadata": {},
          "output_type": "execute_result"
        }
      ],
      "source": [
        "df.shape\n"
      ]
    },
    {
      "cell_type": "code",
      "execution_count": null,
      "id": "96dafedf",
      "metadata": {
        "id": "96dafedf",
        "outputId": "5fcc0d21-f203-4b6a-b8a2-bb76b50c4767"
      },
      "outputs": [
        {
          "data": {
            "text/plain": [
              "Index(['SUBDIVISION', 'YEAR', 'JAN', 'FEB', 'MAR', 'APR', 'MAY', 'JUN', 'JUL',\n",
              "       'AUG', 'SEP', 'OCT', 'NOV', 'DEC', 'ANNUAL', 'Jan-Feb', 'Mar-May',\n",
              "       'Jun-Sep', 'Oct-Dec'],\n",
              "      dtype='object')"
            ]
          },
          "execution_count": 5,
          "metadata": {},
          "output_type": "execute_result"
        }
      ],
      "source": [
        "df.columns"
      ]
    },
    {
      "cell_type": "code",
      "execution_count": null,
      "id": "5dee4dfe",
      "metadata": {
        "id": "5dee4dfe",
        "outputId": "6e55ed2b-a6a3-44e4-bf59-92298a255117"
      },
      "outputs": [
        {
          "name": "stdout",
          "output_type": "stream",
          "text": [
            "<class 'pandas.core.frame.DataFrame'>\n",
            "RangeIndex: 4116 entries, 0 to 4115\n",
            "Data columns (total 19 columns):\n",
            " #   Column       Non-Null Count  Dtype  \n",
            "---  ------       --------------  -----  \n",
            " 0   SUBDIVISION  4116 non-null   object \n",
            " 1   YEAR         4116 non-null   int64  \n",
            " 2   JAN          4112 non-null   float64\n",
            " 3   FEB          4113 non-null   float64\n",
            " 4   MAR          4110 non-null   float64\n",
            " 5   APR          4112 non-null   float64\n",
            " 6   MAY          4113 non-null   float64\n",
            " 7   JUN          4111 non-null   float64\n",
            " 8   JUL          4109 non-null   float64\n",
            " 9   AUG          4112 non-null   float64\n",
            " 10  SEP          4110 non-null   float64\n",
            " 11  OCT          4109 non-null   float64\n",
            " 12  NOV          4105 non-null   float64\n",
            " 13  DEC          4106 non-null   float64\n",
            " 14  ANNUAL       4090 non-null   float64\n",
            " 15  Jan-Feb      4110 non-null   float64\n",
            " 16  Mar-May      4107 non-null   float64\n",
            " 17  Jun-Sep      4106 non-null   float64\n",
            " 18  Oct-Dec      4103 non-null   float64\n",
            "dtypes: float64(17), int64(1), object(1)\n",
            "memory usage: 611.1+ KB\n"
          ]
        }
      ],
      "source": [
        "df.info()"
      ]
    },
    {
      "cell_type": "code",
      "execution_count": null,
      "id": "f0d73235",
      "metadata": {
        "id": "f0d73235",
        "outputId": "5c86b74d-5e6e-4f03-d601-a3309756a951"
      },
      "outputs": [
        {
          "data": {
            "text/html": [
              "<div>\n",
              "<style scoped>\n",
              "    .dataframe tbody tr th:only-of-type {\n",
              "        vertical-align: middle;\n",
              "    }\n",
              "\n",
              "    .dataframe tbody tr th {\n",
              "        vertical-align: top;\n",
              "    }\n",
              "\n",
              "    .dataframe thead th {\n",
              "        text-align: right;\n",
              "    }\n",
              "</style>\n",
              "<table border=\"1\" class=\"dataframe\">\n",
              "  <thead>\n",
              "    <tr style=\"text-align: right;\">\n",
              "      <th></th>\n",
              "      <th>YEAR</th>\n",
              "      <th>JAN</th>\n",
              "      <th>FEB</th>\n",
              "      <th>MAR</th>\n",
              "      <th>APR</th>\n",
              "      <th>MAY</th>\n",
              "      <th>JUN</th>\n",
              "      <th>JUL</th>\n",
              "      <th>AUG</th>\n",
              "      <th>SEP</th>\n",
              "      <th>OCT</th>\n",
              "      <th>NOV</th>\n",
              "      <th>DEC</th>\n",
              "      <th>ANNUAL</th>\n",
              "      <th>Jan-Feb</th>\n",
              "      <th>Mar-May</th>\n",
              "      <th>Jun-Sep</th>\n",
              "      <th>Oct-Dec</th>\n",
              "    </tr>\n",
              "  </thead>\n",
              "  <tbody>\n",
              "    <tr>\n",
              "      <th>count</th>\n",
              "      <td>4116.000000</td>\n",
              "      <td>4112.000000</td>\n",
              "      <td>4113.000000</td>\n",
              "      <td>4110.000000</td>\n",
              "      <td>4112.000000</td>\n",
              "      <td>4113.000000</td>\n",
              "      <td>4111.000000</td>\n",
              "      <td>4109.000000</td>\n",
              "      <td>4112.000000</td>\n",
              "      <td>4110.000000</td>\n",
              "      <td>4109.000000</td>\n",
              "      <td>4105.000000</td>\n",
              "      <td>4106.000000</td>\n",
              "      <td>4090.000000</td>\n",
              "      <td>4110.000000</td>\n",
              "      <td>4107.000000</td>\n",
              "      <td>4106.000000</td>\n",
              "      <td>4103.000000</td>\n",
              "    </tr>\n",
              "    <tr>\n",
              "      <th>mean</th>\n",
              "      <td>1958.218659</td>\n",
              "      <td>18.957320</td>\n",
              "      <td>21.805325</td>\n",
              "      <td>27.359197</td>\n",
              "      <td>43.127432</td>\n",
              "      <td>85.745417</td>\n",
              "      <td>230.234444</td>\n",
              "      <td>347.214334</td>\n",
              "      <td>290.263497</td>\n",
              "      <td>197.361922</td>\n",
              "      <td>95.507009</td>\n",
              "      <td>39.866163</td>\n",
              "      <td>18.870580</td>\n",
              "      <td>1411.008900</td>\n",
              "      <td>40.747786</td>\n",
              "      <td>155.901753</td>\n",
              "      <td>1064.724769</td>\n",
              "      <td>154.100487</td>\n",
              "    </tr>\n",
              "    <tr>\n",
              "      <th>std</th>\n",
              "      <td>33.140898</td>\n",
              "      <td>33.585371</td>\n",
              "      <td>35.909488</td>\n",
              "      <td>46.959424</td>\n",
              "      <td>67.831168</td>\n",
              "      <td>123.234904</td>\n",
              "      <td>234.710758</td>\n",
              "      <td>269.539667</td>\n",
              "      <td>188.770477</td>\n",
              "      <td>135.408345</td>\n",
              "      <td>99.519134</td>\n",
              "      <td>68.685410</td>\n",
              "      <td>42.369611</td>\n",
              "      <td>903.846565</td>\n",
              "      <td>59.308277</td>\n",
              "      <td>201.316965</td>\n",
              "      <td>707.741531</td>\n",
              "      <td>166.942660</td>\n",
              "    </tr>\n",
              "    <tr>\n",
              "      <th>min</th>\n",
              "      <td>1901.000000</td>\n",
              "      <td>0.000000</td>\n",
              "      <td>0.000000</td>\n",
              "      <td>0.000000</td>\n",
              "      <td>0.000000</td>\n",
              "      <td>0.000000</td>\n",
              "      <td>0.400000</td>\n",
              "      <td>0.000000</td>\n",
              "      <td>0.000000</td>\n",
              "      <td>0.100000</td>\n",
              "      <td>0.000000</td>\n",
              "      <td>0.000000</td>\n",
              "      <td>0.000000</td>\n",
              "      <td>62.300000</td>\n",
              "      <td>0.000000</td>\n",
              "      <td>0.000000</td>\n",
              "      <td>57.400000</td>\n",
              "      <td>0.000000</td>\n",
              "    </tr>\n",
              "    <tr>\n",
              "      <th>25%</th>\n",
              "      <td>1930.000000</td>\n",
              "      <td>0.600000</td>\n",
              "      <td>0.600000</td>\n",
              "      <td>1.000000</td>\n",
              "      <td>3.000000</td>\n",
              "      <td>8.600000</td>\n",
              "      <td>70.350000</td>\n",
              "      <td>175.600000</td>\n",
              "      <td>155.975000</td>\n",
              "      <td>100.525000</td>\n",
              "      <td>14.600000</td>\n",
              "      <td>0.700000</td>\n",
              "      <td>0.100000</td>\n",
              "      <td>804.500000</td>\n",
              "      <td>4.100000</td>\n",
              "      <td>24.050000</td>\n",
              "      <td>573.850000</td>\n",
              "      <td>34.200000</td>\n",
              "    </tr>\n",
              "    <tr>\n",
              "      <th>50%</th>\n",
              "      <td>1958.000000</td>\n",
              "      <td>6.000000</td>\n",
              "      <td>6.700000</td>\n",
              "      <td>7.800000</td>\n",
              "      <td>15.700000</td>\n",
              "      <td>36.600000</td>\n",
              "      <td>138.700000</td>\n",
              "      <td>284.800000</td>\n",
              "      <td>259.400000</td>\n",
              "      <td>173.900000</td>\n",
              "      <td>65.200000</td>\n",
              "      <td>9.500000</td>\n",
              "      <td>3.000000</td>\n",
              "      <td>1121.300000</td>\n",
              "      <td>19.200000</td>\n",
              "      <td>74.800000</td>\n",
              "      <td>881.100000</td>\n",
              "      <td>98.200000</td>\n",
              "    </tr>\n",
              "    <tr>\n",
              "      <th>75%</th>\n",
              "      <td>1987.000000</td>\n",
              "      <td>22.200000</td>\n",
              "      <td>26.800000</td>\n",
              "      <td>31.300000</td>\n",
              "      <td>49.950000</td>\n",
              "      <td>97.200000</td>\n",
              "      <td>305.150000</td>\n",
              "      <td>418.400000</td>\n",
              "      <td>377.800000</td>\n",
              "      <td>265.800000</td>\n",
              "      <td>148.400000</td>\n",
              "      <td>46.100000</td>\n",
              "      <td>17.500000</td>\n",
              "      <td>1644.775000</td>\n",
              "      <td>50.375000</td>\n",
              "      <td>196.950000</td>\n",
              "      <td>1288.175000</td>\n",
              "      <td>213.500000</td>\n",
              "    </tr>\n",
              "    <tr>\n",
              "      <th>max</th>\n",
              "      <td>2015.000000</td>\n",
              "      <td>583.700000</td>\n",
              "      <td>403.500000</td>\n",
              "      <td>605.600000</td>\n",
              "      <td>595.100000</td>\n",
              "      <td>1168.600000</td>\n",
              "      <td>1609.900000</td>\n",
              "      <td>2362.800000</td>\n",
              "      <td>1664.600000</td>\n",
              "      <td>1222.000000</td>\n",
              "      <td>948.300000</td>\n",
              "      <td>648.900000</td>\n",
              "      <td>617.500000</td>\n",
              "      <td>6331.100000</td>\n",
              "      <td>699.500000</td>\n",
              "      <td>1745.800000</td>\n",
              "      <td>4536.900000</td>\n",
              "      <td>1252.500000</td>\n",
              "    </tr>\n",
              "  </tbody>\n",
              "</table>\n",
              "</div>"
            ],
            "text/plain": [
              "              YEAR          JAN          FEB          MAR          APR  \\\n",
              "count  4116.000000  4112.000000  4113.000000  4110.000000  4112.000000   \n",
              "mean   1958.218659    18.957320    21.805325    27.359197    43.127432   \n",
              "std      33.140898    33.585371    35.909488    46.959424    67.831168   \n",
              "min    1901.000000     0.000000     0.000000     0.000000     0.000000   \n",
              "25%    1930.000000     0.600000     0.600000     1.000000     3.000000   \n",
              "50%    1958.000000     6.000000     6.700000     7.800000    15.700000   \n",
              "75%    1987.000000    22.200000    26.800000    31.300000    49.950000   \n",
              "max    2015.000000   583.700000   403.500000   605.600000   595.100000   \n",
              "\n",
              "               MAY          JUN          JUL          AUG          SEP  \\\n",
              "count  4113.000000  4111.000000  4109.000000  4112.000000  4110.000000   \n",
              "mean     85.745417   230.234444   347.214334   290.263497   197.361922   \n",
              "std     123.234904   234.710758   269.539667   188.770477   135.408345   \n",
              "min       0.000000     0.400000     0.000000     0.000000     0.100000   \n",
              "25%       8.600000    70.350000   175.600000   155.975000   100.525000   \n",
              "50%      36.600000   138.700000   284.800000   259.400000   173.900000   \n",
              "75%      97.200000   305.150000   418.400000   377.800000   265.800000   \n",
              "max    1168.600000  1609.900000  2362.800000  1664.600000  1222.000000   \n",
              "\n",
              "               OCT          NOV          DEC       ANNUAL      Jan-Feb  \\\n",
              "count  4109.000000  4105.000000  4106.000000  4090.000000  4110.000000   \n",
              "mean     95.507009    39.866163    18.870580  1411.008900    40.747786   \n",
              "std      99.519134    68.685410    42.369611   903.846565    59.308277   \n",
              "min       0.000000     0.000000     0.000000    62.300000     0.000000   \n",
              "25%      14.600000     0.700000     0.100000   804.500000     4.100000   \n",
              "50%      65.200000     9.500000     3.000000  1121.300000    19.200000   \n",
              "75%     148.400000    46.100000    17.500000  1644.775000    50.375000   \n",
              "max     948.300000   648.900000   617.500000  6331.100000   699.500000   \n",
              "\n",
              "           Mar-May      Jun-Sep      Oct-Dec  \n",
              "count  4107.000000  4106.000000  4103.000000  \n",
              "mean    155.901753  1064.724769   154.100487  \n",
              "std     201.316965   707.741531   166.942660  \n",
              "min       0.000000    57.400000     0.000000  \n",
              "25%      24.050000   573.850000    34.200000  \n",
              "50%      74.800000   881.100000    98.200000  \n",
              "75%     196.950000  1288.175000   213.500000  \n",
              "max    1745.800000  4536.900000  1252.500000  "
            ]
          },
          "execution_count": 7,
          "metadata": {},
          "output_type": "execute_result"
        }
      ],
      "source": [
        "df.describe()"
      ]
    },
    {
      "cell_type": "markdown",
      "id": "6e4a5d31",
      "metadata": {
        "id": "6e4a5d31"
      },
      "source": [
        "Inference:\n",
        "1. The dataset has 19 features and 4116 entries\n",
        "2. Data is from 36 subdivisions of time span starting from 1901 to  2015\n",
        "3. Data contains monthly, annual and seasonal rainfall data"
      ]
    },
    {
      "cell_type": "code",
      "execution_count": null,
      "id": "1310289f",
      "metadata": {
        "id": "1310289f",
        "outputId": "f52cbc2c-3b83-412e-fc4c-24f7bba2558f"
      },
      "outputs": [
        {
          "data": {
            "text/plain": [
              "36"
            ]
          },
          "execution_count": 49,
          "metadata": {},
          "output_type": "execute_result"
        }
      ],
      "source": [
        "df['SUBDIVISION'].nunique()"
      ]
    },
    {
      "cell_type": "markdown",
      "id": "64a7c398",
      "metadata": {
        "id": "64a7c398"
      },
      "source": [
        "# Data Preprocessing Part I\n",
        "1. Feature Engineering"
      ]
    },
    {
      "cell_type": "code",
      "execution_count": null,
      "id": "3abbb95f",
      "metadata": {
        "id": "3abbb95f",
        "outputId": "df3a2e24-9d86-470c-8322-085030072c69"
      },
      "outputs": [
        {
          "data": {
            "text/html": [
              "<div>\n",
              "<style scoped>\n",
              "    .dataframe tbody tr th:only-of-type {\n",
              "        vertical-align: middle;\n",
              "    }\n",
              "\n",
              "    .dataframe tbody tr th {\n",
              "        vertical-align: top;\n",
              "    }\n",
              "\n",
              "    .dataframe thead th {\n",
              "        text-align: right;\n",
              "    }\n",
              "</style>\n",
              "<table border=\"1\" class=\"dataframe\">\n",
              "  <thead>\n",
              "    <tr style=\"text-align: right;\">\n",
              "      <th></th>\n",
              "      <th>ANNUAL</th>\n",
              "    </tr>\n",
              "    <tr>\n",
              "      <th>SUBDIVISION</th>\n",
              "      <th></th>\n",
              "    </tr>\n",
              "  </thead>\n",
              "  <tbody>\n",
              "    <tr>\n",
              "      <th>ANDAMAN &amp; NICOBAR ISLANDS</th>\n",
              "      <td>2927.439423</td>\n",
              "    </tr>\n",
              "    <tr>\n",
              "      <th>ARUNACHAL PRADESH</th>\n",
              "      <td>3418.857143</td>\n",
              "    </tr>\n",
              "    <tr>\n",
              "      <th>ASSAM &amp; MEGHALAYA</th>\n",
              "      <td>2580.695652</td>\n",
              "    </tr>\n",
              "    <tr>\n",
              "      <th>BIHAR</th>\n",
              "      <td>1197.633913</td>\n",
              "    </tr>\n",
              "    <tr>\n",
              "      <th>CHHATTISGARH</th>\n",
              "      <td>1371.728696</td>\n",
              "    </tr>\n",
              "    <tr>\n",
              "      <th>COASTAL ANDHRA PRADESH</th>\n",
              "      <td>1052.904348</td>\n",
              "    </tr>\n",
              "    <tr>\n",
              "      <th>COASTAL KARNATAKA</th>\n",
              "      <td>3408.409649</td>\n",
              "    </tr>\n",
              "    <tr>\n",
              "      <th>EAST MADHYA PRADESH</th>\n",
              "      <td>1205.000000</td>\n",
              "    </tr>\n",
              "    <tr>\n",
              "      <th>EAST RAJASTHAN</th>\n",
              "      <td>655.215652</td>\n",
              "    </tr>\n",
              "    <tr>\n",
              "      <th>EAST UTTAR PRADESH</th>\n",
              "      <td>979.213043</td>\n",
              "    </tr>\n",
              "    <tr>\n",
              "      <th>GANGETIC WEST BENGAL</th>\n",
              "      <td>1490.487826</td>\n",
              "    </tr>\n",
              "    <tr>\n",
              "      <th>GUJARAT REGION</th>\n",
              "      <td>918.230435</td>\n",
              "    </tr>\n",
              "    <tr>\n",
              "      <th>HARYANA DELHI &amp; CHANDIGARH</th>\n",
              "      <td>530.496522</td>\n",
              "    </tr>\n",
              "    <tr>\n",
              "      <th>HIMACHAL PRADESH</th>\n",
              "      <td>1260.345217</td>\n",
              "    </tr>\n",
              "    <tr>\n",
              "      <th>JAMMU &amp; KASHMIR</th>\n",
              "      <td>1139.684211</td>\n",
              "    </tr>\n",
              "    <tr>\n",
              "      <th>JHARKHAND</th>\n",
              "      <td>1309.303478</td>\n",
              "    </tr>\n",
              "    <tr>\n",
              "      <th>KERALA</th>\n",
              "      <td>2925.487826</td>\n",
              "    </tr>\n",
              "    <tr>\n",
              "      <th>KONKAN &amp; GOA</th>\n",
              "      <td>2977.686087</td>\n",
              "    </tr>\n",
              "    <tr>\n",
              "      <th>LAKSHADWEEP</th>\n",
              "      <td>1590.886408</td>\n",
              "    </tr>\n",
              "    <tr>\n",
              "      <th>MADHYA MAHARASHTRA</th>\n",
              "      <td>880.233043</td>\n",
              "    </tr>\n",
              "    <tr>\n",
              "      <th>MATATHWADA</th>\n",
              "      <td>790.692174</td>\n",
              "    </tr>\n",
              "    <tr>\n",
              "      <th>NAGA MANI MIZO TRIPURA</th>\n",
              "      <td>2433.619130</td>\n",
              "    </tr>\n",
              "    <tr>\n",
              "      <th>NORTH INTERIOR KARNATAKA</th>\n",
              "      <td>717.795652</td>\n",
              "    </tr>\n",
              "    <tr>\n",
              "      <th>ORISSA</th>\n",
              "      <td>1458.169565</td>\n",
              "    </tr>\n",
              "    <tr>\n",
              "      <th>PUNJAB</th>\n",
              "      <td>593.535652</td>\n",
              "    </tr>\n",
              "    <tr>\n",
              "      <th>RAYALSEEMA</th>\n",
              "      <td>766.206087</td>\n",
              "    </tr>\n",
              "    <tr>\n",
              "      <th>SAURASHTRA &amp; KUTCH</th>\n",
              "      <td>495.161739</td>\n",
              "    </tr>\n",
              "    <tr>\n",
              "      <th>SOUTH INTERIOR KARNATAKA</th>\n",
              "      <td>1040.391304</td>\n",
              "    </tr>\n",
              "    <tr>\n",
              "      <th>SUB HIMALAYAN WEST BENGAL &amp; SIKKIM</th>\n",
              "      <td>2752.217391</td>\n",
              "    </tr>\n",
              "    <tr>\n",
              "      <th>TAMIL NADU</th>\n",
              "      <td>943.713043</td>\n",
              "    </tr>\n",
              "    <tr>\n",
              "      <th>TELANGANA</th>\n",
              "      <td>953.378261</td>\n",
              "    </tr>\n",
              "    <tr>\n",
              "      <th>UTTARAKHAND</th>\n",
              "      <td>1465.696522</td>\n",
              "    </tr>\n",
              "    <tr>\n",
              "      <th>VIDARBHA</th>\n",
              "      <td>1095.459130</td>\n",
              "    </tr>\n",
              "    <tr>\n",
              "      <th>WEST MADHYA PRADESH</th>\n",
              "      <td>944.358772</td>\n",
              "    </tr>\n",
              "    <tr>\n",
              "      <th>WEST RAJASTHAN</th>\n",
              "      <td>292.673043</td>\n",
              "    </tr>\n",
              "    <tr>\n",
              "      <th>WEST UTTAR PRADESH</th>\n",
              "      <td>827.114783</td>\n",
              "    </tr>\n",
              "  </tbody>\n",
              "</table>\n",
              "</div>"
            ],
            "text/plain": [
              "                                         ANNUAL\n",
              "SUBDIVISION                                    \n",
              "ANDAMAN & NICOBAR ISLANDS           2927.439423\n",
              "ARUNACHAL PRADESH                   3418.857143\n",
              "ASSAM & MEGHALAYA                   2580.695652\n",
              "BIHAR                               1197.633913\n",
              "CHHATTISGARH                        1371.728696\n",
              "COASTAL ANDHRA PRADESH              1052.904348\n",
              "COASTAL KARNATAKA                   3408.409649\n",
              "EAST MADHYA PRADESH                 1205.000000\n",
              "EAST RAJASTHAN                       655.215652\n",
              "EAST UTTAR PRADESH                   979.213043\n",
              "GANGETIC WEST BENGAL                1490.487826\n",
              "GUJARAT REGION                       918.230435\n",
              "HARYANA DELHI & CHANDIGARH           530.496522\n",
              "HIMACHAL PRADESH                    1260.345217\n",
              "JAMMU & KASHMIR                     1139.684211\n",
              "JHARKHAND                           1309.303478\n",
              "KERALA                              2925.487826\n",
              "KONKAN & GOA                        2977.686087\n",
              "LAKSHADWEEP                         1590.886408\n",
              "MADHYA MAHARASHTRA                   880.233043\n",
              "MATATHWADA                           790.692174\n",
              "NAGA MANI MIZO TRIPURA              2433.619130\n",
              "NORTH INTERIOR KARNATAKA             717.795652\n",
              "ORISSA                              1458.169565\n",
              "PUNJAB                               593.535652\n",
              "RAYALSEEMA                           766.206087\n",
              "SAURASHTRA & KUTCH                   495.161739\n",
              "SOUTH INTERIOR KARNATAKA            1040.391304\n",
              "SUB HIMALAYAN WEST BENGAL & SIKKIM  2752.217391\n",
              "TAMIL NADU                           943.713043\n",
              "TELANGANA                            953.378261\n",
              "UTTARAKHAND                         1465.696522\n",
              "VIDARBHA                            1095.459130\n",
              "WEST MADHYA PRADESH                  944.358772\n",
              "WEST RAJASTHAN                       292.673043\n",
              "WEST UTTAR PRADESH                   827.114783"
            ]
          },
          "execution_count": 229,
          "metadata": {},
          "output_type": "execute_result"
        }
      ],
      "source": [
        "# Creating a new data frame containing mean value of annual rainfall in different subdivisions\n",
        "\n",
        "x=pd.DataFrame(df.groupby(\"SUBDIVISION\")['ANNUAL'].mean())\n",
        "x"
      ]
    },
    {
      "cell_type": "code",
      "execution_count": null,
      "id": "49b0a6f9",
      "metadata": {
        "id": "49b0a6f9",
        "outputId": "3ab67fd6-8569-4c2c-c588-b835018fdad8"
      },
      "outputs": [
        {
          "data": {
            "text/plain": [
              "(36, 1)"
            ]
          },
          "execution_count": 10,
          "metadata": {},
          "output_type": "execute_result"
        }
      ],
      "source": [
        "x.shape"
      ]
    },
    {
      "cell_type": "code",
      "execution_count": null,
      "id": "590514b0",
      "metadata": {
        "id": "590514b0",
        "outputId": "3855ebbb-5655-4285-acd5-b8d0ead6b6cd"
      },
      "outputs": [
        {
          "data": {
            "text/html": [
              "<div>\n",
              "<style scoped>\n",
              "    .dataframe tbody tr th:only-of-type {\n",
              "        vertical-align: middle;\n",
              "    }\n",
              "\n",
              "    .dataframe tbody tr th {\n",
              "        vertical-align: top;\n",
              "    }\n",
              "\n",
              "    .dataframe thead th {\n",
              "        text-align: right;\n",
              "    }\n",
              "</style>\n",
              "<table border=\"1\" class=\"dataframe\">\n",
              "  <thead>\n",
              "    <tr style=\"text-align: right;\">\n",
              "      <th></th>\n",
              "      <th>SUBDIVISION</th>\n",
              "      <th>ANNUAL</th>\n",
              "    </tr>\n",
              "  </thead>\n",
              "  <tbody>\n",
              "    <tr>\n",
              "      <th>0</th>\n",
              "      <td>ANDAMAN &amp; NICOBAR ISLANDS</td>\n",
              "      <td>2927.439423</td>\n",
              "    </tr>\n",
              "    <tr>\n",
              "      <th>1</th>\n",
              "      <td>ARUNACHAL PRADESH</td>\n",
              "      <td>3418.857143</td>\n",
              "    </tr>\n",
              "    <tr>\n",
              "      <th>2</th>\n",
              "      <td>ASSAM &amp; MEGHALAYA</td>\n",
              "      <td>2580.695652</td>\n",
              "    </tr>\n",
              "    <tr>\n",
              "      <th>3</th>\n",
              "      <td>BIHAR</td>\n",
              "      <td>1197.633913</td>\n",
              "    </tr>\n",
              "    <tr>\n",
              "      <th>4</th>\n",
              "      <td>CHHATTISGARH</td>\n",
              "      <td>1371.728696</td>\n",
              "    </tr>\n",
              "    <tr>\n",
              "      <th>5</th>\n",
              "      <td>COASTAL ANDHRA PRADESH</td>\n",
              "      <td>1052.904348</td>\n",
              "    </tr>\n",
              "    <tr>\n",
              "      <th>6</th>\n",
              "      <td>COASTAL KARNATAKA</td>\n",
              "      <td>3408.409649</td>\n",
              "    </tr>\n",
              "    <tr>\n",
              "      <th>7</th>\n",
              "      <td>EAST MADHYA PRADESH</td>\n",
              "      <td>1205.000000</td>\n",
              "    </tr>\n",
              "    <tr>\n",
              "      <th>8</th>\n",
              "      <td>EAST RAJASTHAN</td>\n",
              "      <td>655.215652</td>\n",
              "    </tr>\n",
              "    <tr>\n",
              "      <th>9</th>\n",
              "      <td>EAST UTTAR PRADESH</td>\n",
              "      <td>979.213043</td>\n",
              "    </tr>\n",
              "    <tr>\n",
              "      <th>10</th>\n",
              "      <td>GANGETIC WEST BENGAL</td>\n",
              "      <td>1490.487826</td>\n",
              "    </tr>\n",
              "    <tr>\n",
              "      <th>11</th>\n",
              "      <td>GUJARAT REGION</td>\n",
              "      <td>918.230435</td>\n",
              "    </tr>\n",
              "    <tr>\n",
              "      <th>12</th>\n",
              "      <td>HARYANA DELHI &amp; CHANDIGARH</td>\n",
              "      <td>530.496522</td>\n",
              "    </tr>\n",
              "    <tr>\n",
              "      <th>13</th>\n",
              "      <td>HIMACHAL PRADESH</td>\n",
              "      <td>1260.345217</td>\n",
              "    </tr>\n",
              "    <tr>\n",
              "      <th>14</th>\n",
              "      <td>JAMMU &amp; KASHMIR</td>\n",
              "      <td>1139.684211</td>\n",
              "    </tr>\n",
              "    <tr>\n",
              "      <th>15</th>\n",
              "      <td>JHARKHAND</td>\n",
              "      <td>1309.303478</td>\n",
              "    </tr>\n",
              "    <tr>\n",
              "      <th>16</th>\n",
              "      <td>KERALA</td>\n",
              "      <td>2925.487826</td>\n",
              "    </tr>\n",
              "    <tr>\n",
              "      <th>17</th>\n",
              "      <td>KONKAN &amp; GOA</td>\n",
              "      <td>2977.686087</td>\n",
              "    </tr>\n",
              "    <tr>\n",
              "      <th>18</th>\n",
              "      <td>LAKSHADWEEP</td>\n",
              "      <td>1590.886408</td>\n",
              "    </tr>\n",
              "    <tr>\n",
              "      <th>19</th>\n",
              "      <td>MADHYA MAHARASHTRA</td>\n",
              "      <td>880.233043</td>\n",
              "    </tr>\n",
              "    <tr>\n",
              "      <th>20</th>\n",
              "      <td>MATATHWADA</td>\n",
              "      <td>790.692174</td>\n",
              "    </tr>\n",
              "    <tr>\n",
              "      <th>21</th>\n",
              "      <td>NAGA MANI MIZO TRIPURA</td>\n",
              "      <td>2433.619130</td>\n",
              "    </tr>\n",
              "    <tr>\n",
              "      <th>22</th>\n",
              "      <td>NORTH INTERIOR KARNATAKA</td>\n",
              "      <td>717.795652</td>\n",
              "    </tr>\n",
              "    <tr>\n",
              "      <th>23</th>\n",
              "      <td>ORISSA</td>\n",
              "      <td>1458.169565</td>\n",
              "    </tr>\n",
              "    <tr>\n",
              "      <th>24</th>\n",
              "      <td>PUNJAB</td>\n",
              "      <td>593.535652</td>\n",
              "    </tr>\n",
              "    <tr>\n",
              "      <th>25</th>\n",
              "      <td>RAYALSEEMA</td>\n",
              "      <td>766.206087</td>\n",
              "    </tr>\n",
              "    <tr>\n",
              "      <th>26</th>\n",
              "      <td>SAURASHTRA &amp; KUTCH</td>\n",
              "      <td>495.161739</td>\n",
              "    </tr>\n",
              "    <tr>\n",
              "      <th>27</th>\n",
              "      <td>SOUTH INTERIOR KARNATAKA</td>\n",
              "      <td>1040.391304</td>\n",
              "    </tr>\n",
              "    <tr>\n",
              "      <th>28</th>\n",
              "      <td>SUB HIMALAYAN WEST BENGAL &amp; SIKKIM</td>\n",
              "      <td>2752.217391</td>\n",
              "    </tr>\n",
              "    <tr>\n",
              "      <th>29</th>\n",
              "      <td>TAMIL NADU</td>\n",
              "      <td>943.713043</td>\n",
              "    </tr>\n",
              "    <tr>\n",
              "      <th>30</th>\n",
              "      <td>TELANGANA</td>\n",
              "      <td>953.378261</td>\n",
              "    </tr>\n",
              "    <tr>\n",
              "      <th>31</th>\n",
              "      <td>UTTARAKHAND</td>\n",
              "      <td>1465.696522</td>\n",
              "    </tr>\n",
              "    <tr>\n",
              "      <th>32</th>\n",
              "      <td>VIDARBHA</td>\n",
              "      <td>1095.459130</td>\n",
              "    </tr>\n",
              "    <tr>\n",
              "      <th>33</th>\n",
              "      <td>WEST MADHYA PRADESH</td>\n",
              "      <td>944.358772</td>\n",
              "    </tr>\n",
              "    <tr>\n",
              "      <th>34</th>\n",
              "      <td>WEST RAJASTHAN</td>\n",
              "      <td>292.673043</td>\n",
              "    </tr>\n",
              "    <tr>\n",
              "      <th>35</th>\n",
              "      <td>WEST UTTAR PRADESH</td>\n",
              "      <td>827.114783</td>\n",
              "    </tr>\n",
              "  </tbody>\n",
              "</table>\n",
              "</div>"
            ],
            "text/plain": [
              "                           SUBDIVISION       ANNUAL\n",
              "0            ANDAMAN & NICOBAR ISLANDS  2927.439423\n",
              "1                    ARUNACHAL PRADESH  3418.857143\n",
              "2                    ASSAM & MEGHALAYA  2580.695652\n",
              "3                                BIHAR  1197.633913\n",
              "4                         CHHATTISGARH  1371.728696\n",
              "5               COASTAL ANDHRA PRADESH  1052.904348\n",
              "6                    COASTAL KARNATAKA  3408.409649\n",
              "7                  EAST MADHYA PRADESH  1205.000000\n",
              "8                       EAST RAJASTHAN   655.215652\n",
              "9                   EAST UTTAR PRADESH   979.213043\n",
              "10                GANGETIC WEST BENGAL  1490.487826\n",
              "11                      GUJARAT REGION   918.230435\n",
              "12          HARYANA DELHI & CHANDIGARH   530.496522\n",
              "13                    HIMACHAL PRADESH  1260.345217\n",
              "14                     JAMMU & KASHMIR  1139.684211\n",
              "15                           JHARKHAND  1309.303478\n",
              "16                              KERALA  2925.487826\n",
              "17                        KONKAN & GOA  2977.686087\n",
              "18                         LAKSHADWEEP  1590.886408\n",
              "19                  MADHYA MAHARASHTRA   880.233043\n",
              "20                          MATATHWADA   790.692174\n",
              "21              NAGA MANI MIZO TRIPURA  2433.619130\n",
              "22            NORTH INTERIOR KARNATAKA   717.795652\n",
              "23                              ORISSA  1458.169565\n",
              "24                              PUNJAB   593.535652\n",
              "25                          RAYALSEEMA   766.206087\n",
              "26                  SAURASHTRA & KUTCH   495.161739\n",
              "27            SOUTH INTERIOR KARNATAKA  1040.391304\n",
              "28  SUB HIMALAYAN WEST BENGAL & SIKKIM  2752.217391\n",
              "29                          TAMIL NADU   943.713043\n",
              "30                           TELANGANA   953.378261\n",
              "31                         UTTARAKHAND  1465.696522\n",
              "32                            VIDARBHA  1095.459130\n",
              "33                 WEST MADHYA PRADESH   944.358772\n",
              "34                      WEST RAJASTHAN   292.673043\n",
              "35                  WEST UTTAR PRADESH   827.114783"
            ]
          },
          "execution_count": 132,
          "metadata": {},
          "output_type": "execute_result"
        }
      ],
      "source": [
        "x=x.reset_index() \n",
        "x"
      ]
    },
    {
      "cell_type": "code",
      "execution_count": null,
      "id": "ed67cf70",
      "metadata": {
        "id": "ed67cf70"
      },
      "outputs": [],
      "source": [
        "# Creating a new dataframe by merging df and x \n",
        "\n",
        "df1 = df.merge(x, on='SUBDIVISION', how='left')"
      ]
    },
    {
      "cell_type": "code",
      "execution_count": null,
      "id": "a0b8b660",
      "metadata": {
        "id": "a0b8b660",
        "outputId": "0f3641e2-52b9-4ab5-a4b3-dc859372b137"
      },
      "outputs": [
        {
          "data": {
            "text/html": [
              "<div>\n",
              "<style scoped>\n",
              "    .dataframe tbody tr th:only-of-type {\n",
              "        vertical-align: middle;\n",
              "    }\n",
              "\n",
              "    .dataframe tbody tr th {\n",
              "        vertical-align: top;\n",
              "    }\n",
              "\n",
              "    .dataframe thead th {\n",
              "        text-align: right;\n",
              "    }\n",
              "</style>\n",
              "<table border=\"1\" class=\"dataframe\">\n",
              "  <thead>\n",
              "    <tr style=\"text-align: right;\">\n",
              "      <th></th>\n",
              "      <th>SUBDIVISION</th>\n",
              "      <th>YEAR</th>\n",
              "      <th>JAN</th>\n",
              "      <th>FEB</th>\n",
              "      <th>MAR</th>\n",
              "      <th>APR</th>\n",
              "      <th>MAY</th>\n",
              "      <th>JUN</th>\n",
              "      <th>JUL</th>\n",
              "      <th>AUG</th>\n",
              "      <th>SEP</th>\n",
              "      <th>OCT</th>\n",
              "      <th>NOV</th>\n",
              "      <th>DEC</th>\n",
              "      <th>ANNUAL_x</th>\n",
              "      <th>Jan-Feb</th>\n",
              "      <th>Mar-May</th>\n",
              "      <th>Jun-Sep</th>\n",
              "      <th>Oct-Dec</th>\n",
              "      <th>ANNUAL_y</th>\n",
              "    </tr>\n",
              "  </thead>\n",
              "  <tbody>\n",
              "    <tr>\n",
              "      <th>0</th>\n",
              "      <td>ANDAMAN &amp; NICOBAR ISLANDS</td>\n",
              "      <td>1901</td>\n",
              "      <td>49.2</td>\n",
              "      <td>87.1</td>\n",
              "      <td>29.2</td>\n",
              "      <td>2.3</td>\n",
              "      <td>528.8</td>\n",
              "      <td>517.5</td>\n",
              "      <td>365.1</td>\n",
              "      <td>481.1</td>\n",
              "      <td>332.6</td>\n",
              "      <td>388.5</td>\n",
              "      <td>558.2</td>\n",
              "      <td>33.6</td>\n",
              "      <td>3373.2</td>\n",
              "      <td>136.3</td>\n",
              "      <td>560.3</td>\n",
              "      <td>1696.3</td>\n",
              "      <td>980.3</td>\n",
              "      <td>2927.439423</td>\n",
              "    </tr>\n",
              "    <tr>\n",
              "      <th>1</th>\n",
              "      <td>ANDAMAN &amp; NICOBAR ISLANDS</td>\n",
              "      <td>1902</td>\n",
              "      <td>0.0</td>\n",
              "      <td>159.8</td>\n",
              "      <td>12.2</td>\n",
              "      <td>0.0</td>\n",
              "      <td>446.1</td>\n",
              "      <td>537.1</td>\n",
              "      <td>228.9</td>\n",
              "      <td>753.7</td>\n",
              "      <td>666.2</td>\n",
              "      <td>197.2</td>\n",
              "      <td>359.0</td>\n",
              "      <td>160.5</td>\n",
              "      <td>3520.7</td>\n",
              "      <td>159.8</td>\n",
              "      <td>458.3</td>\n",
              "      <td>2185.9</td>\n",
              "      <td>716.7</td>\n",
              "      <td>2927.439423</td>\n",
              "    </tr>\n",
              "    <tr>\n",
              "      <th>2</th>\n",
              "      <td>ANDAMAN &amp; NICOBAR ISLANDS</td>\n",
              "      <td>1903</td>\n",
              "      <td>12.7</td>\n",
              "      <td>144.0</td>\n",
              "      <td>0.0</td>\n",
              "      <td>1.0</td>\n",
              "      <td>235.1</td>\n",
              "      <td>479.9</td>\n",
              "      <td>728.4</td>\n",
              "      <td>326.7</td>\n",
              "      <td>339.0</td>\n",
              "      <td>181.2</td>\n",
              "      <td>284.4</td>\n",
              "      <td>225.0</td>\n",
              "      <td>2957.4</td>\n",
              "      <td>156.7</td>\n",
              "      <td>236.1</td>\n",
              "      <td>1874.0</td>\n",
              "      <td>690.6</td>\n",
              "      <td>2927.439423</td>\n",
              "    </tr>\n",
              "    <tr>\n",
              "      <th>3</th>\n",
              "      <td>ANDAMAN &amp; NICOBAR ISLANDS</td>\n",
              "      <td>1904</td>\n",
              "      <td>9.4</td>\n",
              "      <td>14.7</td>\n",
              "      <td>0.0</td>\n",
              "      <td>202.4</td>\n",
              "      <td>304.5</td>\n",
              "      <td>495.1</td>\n",
              "      <td>502.0</td>\n",
              "      <td>160.1</td>\n",
              "      <td>820.4</td>\n",
              "      <td>222.2</td>\n",
              "      <td>308.7</td>\n",
              "      <td>40.1</td>\n",
              "      <td>3079.6</td>\n",
              "      <td>24.1</td>\n",
              "      <td>506.9</td>\n",
              "      <td>1977.6</td>\n",
              "      <td>571.0</td>\n",
              "      <td>2927.439423</td>\n",
              "    </tr>\n",
              "    <tr>\n",
              "      <th>4</th>\n",
              "      <td>ANDAMAN &amp; NICOBAR ISLANDS</td>\n",
              "      <td>1905</td>\n",
              "      <td>1.3</td>\n",
              "      <td>0.0</td>\n",
              "      <td>3.3</td>\n",
              "      <td>26.9</td>\n",
              "      <td>279.5</td>\n",
              "      <td>628.7</td>\n",
              "      <td>368.7</td>\n",
              "      <td>330.5</td>\n",
              "      <td>297.0</td>\n",
              "      <td>260.7</td>\n",
              "      <td>25.4</td>\n",
              "      <td>344.7</td>\n",
              "      <td>2566.7</td>\n",
              "      <td>1.3</td>\n",
              "      <td>309.7</td>\n",
              "      <td>1624.9</td>\n",
              "      <td>630.8</td>\n",
              "      <td>2927.439423</td>\n",
              "    </tr>\n",
              "  </tbody>\n",
              "</table>\n",
              "</div>"
            ],
            "text/plain": [
              "                 SUBDIVISION  YEAR   JAN    FEB   MAR    APR    MAY    JUN  \\\n",
              "0  ANDAMAN & NICOBAR ISLANDS  1901  49.2   87.1  29.2    2.3  528.8  517.5   \n",
              "1  ANDAMAN & NICOBAR ISLANDS  1902   0.0  159.8  12.2    0.0  446.1  537.1   \n",
              "2  ANDAMAN & NICOBAR ISLANDS  1903  12.7  144.0   0.0    1.0  235.1  479.9   \n",
              "3  ANDAMAN & NICOBAR ISLANDS  1904   9.4   14.7   0.0  202.4  304.5  495.1   \n",
              "4  ANDAMAN & NICOBAR ISLANDS  1905   1.3    0.0   3.3   26.9  279.5  628.7   \n",
              "\n",
              "     JUL    AUG    SEP    OCT    NOV    DEC  ANNUAL_x  Jan-Feb  Mar-May  \\\n",
              "0  365.1  481.1  332.6  388.5  558.2   33.6    3373.2    136.3    560.3   \n",
              "1  228.9  753.7  666.2  197.2  359.0  160.5    3520.7    159.8    458.3   \n",
              "2  728.4  326.7  339.0  181.2  284.4  225.0    2957.4    156.7    236.1   \n",
              "3  502.0  160.1  820.4  222.2  308.7   40.1    3079.6     24.1    506.9   \n",
              "4  368.7  330.5  297.0  260.7   25.4  344.7    2566.7      1.3    309.7   \n",
              "\n",
              "   Jun-Sep  Oct-Dec     ANNUAL_y  \n",
              "0   1696.3    980.3  2927.439423  \n",
              "1   2185.9    716.7  2927.439423  \n",
              "2   1874.0    690.6  2927.439423  \n",
              "3   1977.6    571.0  2927.439423  \n",
              "4   1624.9    630.8  2927.439423  "
            ]
          },
          "execution_count": 13,
          "metadata": {},
          "output_type": "execute_result"
        }
      ],
      "source": [
        "df1.head()"
      ]
    },
    {
      "cell_type": "code",
      "execution_count": null,
      "id": "0379b275",
      "metadata": {
        "id": "0379b275"
      },
      "outputs": [],
      "source": [
        "# Assigning mean value of annual rainfall to dataset as a new column\n",
        "\n",
        "df['MEAN ANNUAL']=df1['ANNUAL_y']"
      ]
    },
    {
      "cell_type": "code",
      "execution_count": null,
      "id": "a55d509b",
      "metadata": {
        "id": "a55d509b",
        "outputId": "9bc5013c-7c43-4e3c-b03e-29f0b4058228"
      },
      "outputs": [
        {
          "data": {
            "text/html": [
              "<div>\n",
              "<style scoped>\n",
              "    .dataframe tbody tr th:only-of-type {\n",
              "        vertical-align: middle;\n",
              "    }\n",
              "\n",
              "    .dataframe tbody tr th {\n",
              "        vertical-align: top;\n",
              "    }\n",
              "\n",
              "    .dataframe thead th {\n",
              "        text-align: right;\n",
              "    }\n",
              "</style>\n",
              "<table border=\"1\" class=\"dataframe\">\n",
              "  <thead>\n",
              "    <tr style=\"text-align: right;\">\n",
              "      <th></th>\n",
              "      <th>SUBDIVISION</th>\n",
              "      <th>YEAR</th>\n",
              "      <th>JAN</th>\n",
              "      <th>FEB</th>\n",
              "      <th>MAR</th>\n",
              "      <th>APR</th>\n",
              "      <th>MAY</th>\n",
              "      <th>JUN</th>\n",
              "      <th>JUL</th>\n",
              "      <th>AUG</th>\n",
              "      <th>SEP</th>\n",
              "      <th>OCT</th>\n",
              "      <th>NOV</th>\n",
              "      <th>DEC</th>\n",
              "      <th>ANNUAL</th>\n",
              "      <th>Jan-Feb</th>\n",
              "      <th>Mar-May</th>\n",
              "      <th>Jun-Sep</th>\n",
              "      <th>Oct-Dec</th>\n",
              "      <th>MEAN ANNUAL</th>\n",
              "    </tr>\n",
              "  </thead>\n",
              "  <tbody>\n",
              "    <tr>\n",
              "      <th>0</th>\n",
              "      <td>ANDAMAN &amp; NICOBAR ISLANDS</td>\n",
              "      <td>1901</td>\n",
              "      <td>49.2</td>\n",
              "      <td>87.1</td>\n",
              "      <td>29.2</td>\n",
              "      <td>2.3</td>\n",
              "      <td>528.8</td>\n",
              "      <td>517.5</td>\n",
              "      <td>365.1</td>\n",
              "      <td>481.1</td>\n",
              "      <td>332.6</td>\n",
              "      <td>388.5</td>\n",
              "      <td>558.2</td>\n",
              "      <td>33.6</td>\n",
              "      <td>3373.2</td>\n",
              "      <td>136.3</td>\n",
              "      <td>560.3</td>\n",
              "      <td>1696.3</td>\n",
              "      <td>980.3</td>\n",
              "      <td>2927.439423</td>\n",
              "    </tr>\n",
              "    <tr>\n",
              "      <th>1</th>\n",
              "      <td>ANDAMAN &amp; NICOBAR ISLANDS</td>\n",
              "      <td>1902</td>\n",
              "      <td>0.0</td>\n",
              "      <td>159.8</td>\n",
              "      <td>12.2</td>\n",
              "      <td>0.0</td>\n",
              "      <td>446.1</td>\n",
              "      <td>537.1</td>\n",
              "      <td>228.9</td>\n",
              "      <td>753.7</td>\n",
              "      <td>666.2</td>\n",
              "      <td>197.2</td>\n",
              "      <td>359.0</td>\n",
              "      <td>160.5</td>\n",
              "      <td>3520.7</td>\n",
              "      <td>159.8</td>\n",
              "      <td>458.3</td>\n",
              "      <td>2185.9</td>\n",
              "      <td>716.7</td>\n",
              "      <td>2927.439423</td>\n",
              "    </tr>\n",
              "    <tr>\n",
              "      <th>2</th>\n",
              "      <td>ANDAMAN &amp; NICOBAR ISLANDS</td>\n",
              "      <td>1903</td>\n",
              "      <td>12.7</td>\n",
              "      <td>144.0</td>\n",
              "      <td>0.0</td>\n",
              "      <td>1.0</td>\n",
              "      <td>235.1</td>\n",
              "      <td>479.9</td>\n",
              "      <td>728.4</td>\n",
              "      <td>326.7</td>\n",
              "      <td>339.0</td>\n",
              "      <td>181.2</td>\n",
              "      <td>284.4</td>\n",
              "      <td>225.0</td>\n",
              "      <td>2957.4</td>\n",
              "      <td>156.7</td>\n",
              "      <td>236.1</td>\n",
              "      <td>1874.0</td>\n",
              "      <td>690.6</td>\n",
              "      <td>2927.439423</td>\n",
              "    </tr>\n",
              "    <tr>\n",
              "      <th>3</th>\n",
              "      <td>ANDAMAN &amp; NICOBAR ISLANDS</td>\n",
              "      <td>1904</td>\n",
              "      <td>9.4</td>\n",
              "      <td>14.7</td>\n",
              "      <td>0.0</td>\n",
              "      <td>202.4</td>\n",
              "      <td>304.5</td>\n",
              "      <td>495.1</td>\n",
              "      <td>502.0</td>\n",
              "      <td>160.1</td>\n",
              "      <td>820.4</td>\n",
              "      <td>222.2</td>\n",
              "      <td>308.7</td>\n",
              "      <td>40.1</td>\n",
              "      <td>3079.6</td>\n",
              "      <td>24.1</td>\n",
              "      <td>506.9</td>\n",
              "      <td>1977.6</td>\n",
              "      <td>571.0</td>\n",
              "      <td>2927.439423</td>\n",
              "    </tr>\n",
              "    <tr>\n",
              "      <th>4</th>\n",
              "      <td>ANDAMAN &amp; NICOBAR ISLANDS</td>\n",
              "      <td>1905</td>\n",
              "      <td>1.3</td>\n",
              "      <td>0.0</td>\n",
              "      <td>3.3</td>\n",
              "      <td>26.9</td>\n",
              "      <td>279.5</td>\n",
              "      <td>628.7</td>\n",
              "      <td>368.7</td>\n",
              "      <td>330.5</td>\n",
              "      <td>297.0</td>\n",
              "      <td>260.7</td>\n",
              "      <td>25.4</td>\n",
              "      <td>344.7</td>\n",
              "      <td>2566.7</td>\n",
              "      <td>1.3</td>\n",
              "      <td>309.7</td>\n",
              "      <td>1624.9</td>\n",
              "      <td>630.8</td>\n",
              "      <td>2927.439423</td>\n",
              "    </tr>\n",
              "  </tbody>\n",
              "</table>\n",
              "</div>"
            ],
            "text/plain": [
              "                 SUBDIVISION  YEAR   JAN    FEB   MAR    APR    MAY    JUN  \\\n",
              "0  ANDAMAN & NICOBAR ISLANDS  1901  49.2   87.1  29.2    2.3  528.8  517.5   \n",
              "1  ANDAMAN & NICOBAR ISLANDS  1902   0.0  159.8  12.2    0.0  446.1  537.1   \n",
              "2  ANDAMAN & NICOBAR ISLANDS  1903  12.7  144.0   0.0    1.0  235.1  479.9   \n",
              "3  ANDAMAN & NICOBAR ISLANDS  1904   9.4   14.7   0.0  202.4  304.5  495.1   \n",
              "4  ANDAMAN & NICOBAR ISLANDS  1905   1.3    0.0   3.3   26.9  279.5  628.7   \n",
              "\n",
              "     JUL    AUG    SEP    OCT    NOV    DEC  ANNUAL  Jan-Feb  Mar-May  \\\n",
              "0  365.1  481.1  332.6  388.5  558.2   33.6  3373.2    136.3    560.3   \n",
              "1  228.9  753.7  666.2  197.2  359.0  160.5  3520.7    159.8    458.3   \n",
              "2  728.4  326.7  339.0  181.2  284.4  225.0  2957.4    156.7    236.1   \n",
              "3  502.0  160.1  820.4  222.2  308.7   40.1  3079.6     24.1    506.9   \n",
              "4  368.7  330.5  297.0  260.7   25.4  344.7  2566.7      1.3    309.7   \n",
              "\n",
              "   Jun-Sep  Oct-Dec  MEAN ANNUAL  \n",
              "0   1696.3    980.3  2927.439423  \n",
              "1   2185.9    716.7  2927.439423  \n",
              "2   1874.0    690.6  2927.439423  \n",
              "3   1977.6    571.0  2927.439423  \n",
              "4   1624.9    630.8  2927.439423  "
            ]
          },
          "execution_count": 15,
          "metadata": {},
          "output_type": "execute_result"
        }
      ],
      "source": [
        "df.head()"
      ]
    },
    {
      "cell_type": "markdown",
      "id": "9c65d32d",
      "metadata": {
        "id": "9c65d32d"
      },
      "source": [
        "#Creating a new column as Prediction which predicts 'flood', if annual rainfall is 25% greater than mean of annual rainfall of that subdivision, if 25% lesser than the the mean of annual rainfall of that subdivision, predict \"drought\"  if otherwise 'normal'\n",
        "\n"
      ]
    },
    {
      "cell_type": "code",
      "execution_count": null,
      "id": "8ae848da",
      "metadata": {
        "id": "8ae848da"
      },
      "outputs": [],
      "source": [
        "#Creating a new column as Prediction which predicts flood as yes(1) if sum of monthly rainfall is greater than 25% of the mean of annual rainfall of that subdivision and no(0) if otherwise\n",
        "df.loc[df['ANNUAL']>=(df['MEAN ANNUAL']*125/100),'Prediction']=\"Flood\"\n",
        "df.loc[df['ANNUAL']<=(df['MEAN ANNUAL']*75/100),'Prediction']=\"Drought\"\n",
        "df['Prediction'].fillna('Normal', inplace=True)\n"
      ]
    },
    {
      "cell_type": "code",
      "execution_count": null,
      "id": "e6fc93c2",
      "metadata": {
        "id": "e6fc93c2",
        "outputId": "9fc5d806-80d4-41d3-f38c-96fb281d2391"
      },
      "outputs": [
        {
          "data": {
            "text/html": [
              "<div>\n",
              "<style scoped>\n",
              "    .dataframe tbody tr th:only-of-type {\n",
              "        vertical-align: middle;\n",
              "    }\n",
              "\n",
              "    .dataframe tbody tr th {\n",
              "        vertical-align: top;\n",
              "    }\n",
              "\n",
              "    .dataframe thead th {\n",
              "        text-align: right;\n",
              "    }\n",
              "</style>\n",
              "<table border=\"1\" class=\"dataframe\">\n",
              "  <thead>\n",
              "    <tr style=\"text-align: right;\">\n",
              "      <th></th>\n",
              "      <th>SUBDIVISION</th>\n",
              "      <th>YEAR</th>\n",
              "      <th>JAN</th>\n",
              "      <th>FEB</th>\n",
              "      <th>MAR</th>\n",
              "      <th>APR</th>\n",
              "      <th>MAY</th>\n",
              "      <th>JUN</th>\n",
              "      <th>JUL</th>\n",
              "      <th>AUG</th>\n",
              "      <th>...</th>\n",
              "      <th>OCT</th>\n",
              "      <th>NOV</th>\n",
              "      <th>DEC</th>\n",
              "      <th>ANNUAL</th>\n",
              "      <th>Jan-Feb</th>\n",
              "      <th>Mar-May</th>\n",
              "      <th>Jun-Sep</th>\n",
              "      <th>Oct-Dec</th>\n",
              "      <th>MEAN ANNUAL</th>\n",
              "      <th>Prediction</th>\n",
              "    </tr>\n",
              "  </thead>\n",
              "  <tbody>\n",
              "    <tr>\n",
              "      <th>0</th>\n",
              "      <td>ANDAMAN &amp; NICOBAR ISLANDS</td>\n",
              "      <td>1901</td>\n",
              "      <td>49.2</td>\n",
              "      <td>87.1</td>\n",
              "      <td>29.2</td>\n",
              "      <td>2.3</td>\n",
              "      <td>528.8</td>\n",
              "      <td>517.5</td>\n",
              "      <td>365.1</td>\n",
              "      <td>481.1</td>\n",
              "      <td>...</td>\n",
              "      <td>388.5</td>\n",
              "      <td>558.2</td>\n",
              "      <td>33.6</td>\n",
              "      <td>3373.2</td>\n",
              "      <td>136.3</td>\n",
              "      <td>560.3</td>\n",
              "      <td>1696.3</td>\n",
              "      <td>980.3</td>\n",
              "      <td>2927.439423</td>\n",
              "      <td>Normal</td>\n",
              "    </tr>\n",
              "    <tr>\n",
              "      <th>1</th>\n",
              "      <td>ANDAMAN &amp; NICOBAR ISLANDS</td>\n",
              "      <td>1902</td>\n",
              "      <td>0.0</td>\n",
              "      <td>159.8</td>\n",
              "      <td>12.2</td>\n",
              "      <td>0.0</td>\n",
              "      <td>446.1</td>\n",
              "      <td>537.1</td>\n",
              "      <td>228.9</td>\n",
              "      <td>753.7</td>\n",
              "      <td>...</td>\n",
              "      <td>197.2</td>\n",
              "      <td>359.0</td>\n",
              "      <td>160.5</td>\n",
              "      <td>3520.7</td>\n",
              "      <td>159.8</td>\n",
              "      <td>458.3</td>\n",
              "      <td>2185.9</td>\n",
              "      <td>716.7</td>\n",
              "      <td>2927.439423</td>\n",
              "      <td>Normal</td>\n",
              "    </tr>\n",
              "    <tr>\n",
              "      <th>2</th>\n",
              "      <td>ANDAMAN &amp; NICOBAR ISLANDS</td>\n",
              "      <td>1903</td>\n",
              "      <td>12.7</td>\n",
              "      <td>144.0</td>\n",
              "      <td>0.0</td>\n",
              "      <td>1.0</td>\n",
              "      <td>235.1</td>\n",
              "      <td>479.9</td>\n",
              "      <td>728.4</td>\n",
              "      <td>326.7</td>\n",
              "      <td>...</td>\n",
              "      <td>181.2</td>\n",
              "      <td>284.4</td>\n",
              "      <td>225.0</td>\n",
              "      <td>2957.4</td>\n",
              "      <td>156.7</td>\n",
              "      <td>236.1</td>\n",
              "      <td>1874.0</td>\n",
              "      <td>690.6</td>\n",
              "      <td>2927.439423</td>\n",
              "      <td>Normal</td>\n",
              "    </tr>\n",
              "    <tr>\n",
              "      <th>3</th>\n",
              "      <td>ANDAMAN &amp; NICOBAR ISLANDS</td>\n",
              "      <td>1904</td>\n",
              "      <td>9.4</td>\n",
              "      <td>14.7</td>\n",
              "      <td>0.0</td>\n",
              "      <td>202.4</td>\n",
              "      <td>304.5</td>\n",
              "      <td>495.1</td>\n",
              "      <td>502.0</td>\n",
              "      <td>160.1</td>\n",
              "      <td>...</td>\n",
              "      <td>222.2</td>\n",
              "      <td>308.7</td>\n",
              "      <td>40.1</td>\n",
              "      <td>3079.6</td>\n",
              "      <td>24.1</td>\n",
              "      <td>506.9</td>\n",
              "      <td>1977.6</td>\n",
              "      <td>571.0</td>\n",
              "      <td>2927.439423</td>\n",
              "      <td>Normal</td>\n",
              "    </tr>\n",
              "    <tr>\n",
              "      <th>4</th>\n",
              "      <td>ANDAMAN &amp; NICOBAR ISLANDS</td>\n",
              "      <td>1905</td>\n",
              "      <td>1.3</td>\n",
              "      <td>0.0</td>\n",
              "      <td>3.3</td>\n",
              "      <td>26.9</td>\n",
              "      <td>279.5</td>\n",
              "      <td>628.7</td>\n",
              "      <td>368.7</td>\n",
              "      <td>330.5</td>\n",
              "      <td>...</td>\n",
              "      <td>260.7</td>\n",
              "      <td>25.4</td>\n",
              "      <td>344.7</td>\n",
              "      <td>2566.7</td>\n",
              "      <td>1.3</td>\n",
              "      <td>309.7</td>\n",
              "      <td>1624.9</td>\n",
              "      <td>630.8</td>\n",
              "      <td>2927.439423</td>\n",
              "      <td>Normal</td>\n",
              "    </tr>\n",
              "  </tbody>\n",
              "</table>\n",
              "<p>5 rows × 21 columns</p>\n",
              "</div>"
            ],
            "text/plain": [
              "                 SUBDIVISION  YEAR   JAN    FEB   MAR    APR    MAY    JUN  \\\n",
              "0  ANDAMAN & NICOBAR ISLANDS  1901  49.2   87.1  29.2    2.3  528.8  517.5   \n",
              "1  ANDAMAN & NICOBAR ISLANDS  1902   0.0  159.8  12.2    0.0  446.1  537.1   \n",
              "2  ANDAMAN & NICOBAR ISLANDS  1903  12.7  144.0   0.0    1.0  235.1  479.9   \n",
              "3  ANDAMAN & NICOBAR ISLANDS  1904   9.4   14.7   0.0  202.4  304.5  495.1   \n",
              "4  ANDAMAN & NICOBAR ISLANDS  1905   1.3    0.0   3.3   26.9  279.5  628.7   \n",
              "\n",
              "     JUL    AUG  ...    OCT    NOV    DEC  ANNUAL  Jan-Feb  Mar-May  Jun-Sep  \\\n",
              "0  365.1  481.1  ...  388.5  558.2   33.6  3373.2    136.3    560.3   1696.3   \n",
              "1  228.9  753.7  ...  197.2  359.0  160.5  3520.7    159.8    458.3   2185.9   \n",
              "2  728.4  326.7  ...  181.2  284.4  225.0  2957.4    156.7    236.1   1874.0   \n",
              "3  502.0  160.1  ...  222.2  308.7   40.1  3079.6     24.1    506.9   1977.6   \n",
              "4  368.7  330.5  ...  260.7   25.4  344.7  2566.7      1.3    309.7   1624.9   \n",
              "\n",
              "   Oct-Dec  MEAN ANNUAL  Prediction  \n",
              "0    980.3  2927.439423      Normal  \n",
              "1    716.7  2927.439423      Normal  \n",
              "2    690.6  2927.439423      Normal  \n",
              "3    571.0  2927.439423      Normal  \n",
              "4    630.8  2927.439423      Normal  \n",
              "\n",
              "[5 rows x 21 columns]"
            ]
          },
          "execution_count": 207,
          "metadata": {},
          "output_type": "execute_result"
        }
      ],
      "source": [
        "df.head()"
      ]
    },
    {
      "cell_type": "code",
      "execution_count": null,
      "id": "4bf98dec",
      "metadata": {
        "id": "4bf98dec",
        "outputId": "f5058666-d4d2-4100-f448-1ea97a914d49"
      },
      "outputs": [
        {
          "data": {
            "text/plain": [
              "3"
            ]
          },
          "execution_count": 18,
          "metadata": {},
          "output_type": "execute_result"
        }
      ],
      "source": [
        "df.Prediction.nunique()"
      ]
    },
    {
      "cell_type": "code",
      "execution_count": null,
      "id": "5fa8d5d2",
      "metadata": {
        "id": "5fa8d5d2",
        "outputId": "4a52fa60-b5bd-4986-91a2-0c5af2ac2fa7"
      },
      "outputs": [
        {
          "data": {
            "text/plain": [
              "Normal     3296\n",
              "Flood       419\n",
              "Drought     401\n",
              "Name: Prediction, dtype: int64"
            ]
          },
          "execution_count": 19,
          "metadata": {},
          "output_type": "execute_result"
        }
      ],
      "source": [
        "df['Prediction'].value_counts()"
      ]
    },
    {
      "cell_type": "markdown",
      "id": "93b8181d",
      "metadata": {
        "id": "93b8181d"
      },
      "source": [
        "Missing value identification and handling\n",
        "Numeric Data: Inputing with Mean/Median/Mode/Backward fill/ Forward fill. Null values are replaced with mean/median.mode in this method. \n",
        "The mean of the numerical column data is used to replace null values when the data is normally distributed. Median is used if the data comprised of outliers. Mode is used when the data having more occurences of a particular value or more frequent value.\n",
        "\n",
        "Categorical Data Replacing those null values with most frequent value among them"
      ]
    },
    {
      "cell_type": "code",
      "execution_count": null,
      "id": "0818c212",
      "metadata": {
        "id": "0818c212",
        "outputId": "b91d198b-37be-49bd-aa46-c1135b6c1d45"
      },
      "outputs": [
        {
          "data": {
            "text/plain": [
              "SUBDIVISION     0\n",
              "YEAR            0\n",
              "JAN             4\n",
              "FEB             3\n",
              "MAR             6\n",
              "APR             4\n",
              "MAY             3\n",
              "JUN             5\n",
              "JUL             7\n",
              "AUG             4\n",
              "SEP             6\n",
              "OCT             7\n",
              "NOV            11\n",
              "DEC            10\n",
              "ANNUAL         26\n",
              "Jan-Feb         6\n",
              "Mar-May         9\n",
              "Jun-Sep        10\n",
              "Oct-Dec        13\n",
              "MEAN ANNUAL     0\n",
              "Prediction      0\n",
              "dtype: int64"
            ]
          },
          "execution_count": 20,
          "metadata": {},
          "output_type": "execute_result"
        }
      ],
      "source": [
        "df.isna().sum()"
      ]
    },
    {
      "cell_type": "code",
      "execution_count": null,
      "id": "52ec8b72",
      "metadata": {
        "id": "52ec8b72",
        "outputId": "79b860f2-542f-410f-ae8a-14ba9b622a86"
      },
      "outputs": [
        {
          "data": {
            "image/png": "[encoded data removed]",
            "text/plain": [
              "<Figure size 1440x1080 with 20 Axes>"
            ]
          },
          "metadata": {
            "needs_background": "light"
          },
          "output_type": "display_data"
        }
      ],
      "source": [
        "freqgraph=df[df['SUBDIVISION']=='ANDAMAN & NICOBAR ISLANDS']\n",
        "freqgraph.hist(figsize=(20,15))\n",
        "plt.show()"
      ]
    },
    {
      "cell_type": "code",
      "execution_count": null,
      "id": "776e5c87",
      "metadata": {
        "id": "776e5c87",
        "outputId": "7525195e-d06d-4a14-9bb6-9f584ea100a9"
      },
      "outputs": [
        {
          "data": {
            "image/png": "[encoded data removed]",
            "text/plain": [
              "<Figure size 1440x1080 with 20 Axes>"
            ]
          },
          "metadata": {
            "needs_background": "light"
          },
          "output_type": "display_data"
        }
      ],
      "source": [
        "freqgraph=df[df['SUBDIVISION']=='LAKSHADWEEP']\n",
        "freqgraph.hist(figsize=(20,15))\n",
        "plt.show()"
      ]
    },
    {
      "cell_type": "markdown",
      "id": "f29c41f4",
      "metadata": {
        "id": "f29c41f4"
      },
      "source": [
        "From the above frequency graph we can see that different parameters have different distribution(mostly normal distribution), so we will be taking mean of the each column in that subdivision to fill missing values"
      ]
    },
    {
      "cell_type": "code",
      "execution_count": null,
      "id": "682bfffd",
      "metadata": {
        "id": "682bfffd"
      },
      "outputs": [],
      "source": [
        "for x in df['SUBDIVISION'].unique():\n",
        "    for i in ['JAN']:\n",
        "        df[i]=df[i].fillna(df[df['SUBDIVISION']==x]['JAN'].mean()) \n",
        "    for i in ['FEB']:\n",
        "        df[i]=df[i].fillna(df[df['SUBDIVISION']==x]['FEB'].mean()) \n",
        "    for i in ['MAR']:\n",
        "        df[i]=df[i].fillna(df[df['SUBDIVISION']==x]['MAR'].mean())\n",
        "    for i in ['APR']:\n",
        "        df[i]=df[i].fillna(df[df['SUBDIVISION']==x]['APR'].mean()) \n",
        "    for i in ['MAY']:\n",
        "        df[i]=df[i].fillna(df[df['SUBDIVISION']==x]['MAY'].mean()) \n",
        "    for i in ['JUN']:\n",
        "        df[i]=df[i].fillna(df[df['SUBDIVISION']==x]['JUN'].mean()) \n",
        "    for i in ['JUL']:\n",
        "        df[i]=df[i].fillna(df[df['SUBDIVISION']==x]['JUL'].mean()) \n",
        "    for i in ['AUG']:\n",
        "        df[i]=df[i].fillna(df[df['SUBDIVISION']==x]['AUG'].mean()) \n",
        "    for i in ['SEP']:\n",
        "        df[i]=df[i].fillna(df[df['SUBDIVISION']==x]['SEP'].mean())\n",
        "    for i in ['OCT']:\n",
        "        df[i]=df[i].fillna(df[df['SUBDIVISION']==x]['OCT'].mean()) \n",
        "    for i in ['NOV']:\n",
        "        df[i]=df[i].fillna(df[df['SUBDIVISION']==x]['NOV'].mean()) \n",
        "    for i in ['DEC']:\n",
        "        df[i]=df[i].fillna(df[df['SUBDIVISION']==x]['DEC'].mean()) \n",
        "    for i in ['ANNUAL']:\n",
        "        df[i]=df[i].fillna(df[df['SUBDIVISION']==x]['ANNUAL'].mean()) \n",
        "    for i in ['Jan-Feb']:\n",
        "        df[i]=df[i].fillna(df[df['SUBDIVISION']==x]['Jan-Feb'].mean())\n",
        "    for i in ['Mar-May']:\n",
        "        df[i]=df[i].fillna(df[df['SUBDIVISION']==x]['Mar-May'].mean()) \n",
        "    for i in ['Jun-Sep']:\n",
        "        df[i]=df[i].fillna(df[df['SUBDIVISION']==x]['Jun-Sep'].mean()) \n",
        "    for i in ['Oct-Dec']:\n",
        "        df[i]=df[i].fillna(df[df['SUBDIVISION']==x]['Oct-Dec'].mean()) "
      ]
    },
    {
      "cell_type": "code",
      "execution_count": null,
      "id": "31d6425a",
      "metadata": {
        "id": "31d6425a",
        "outputId": "1fb063ef-a799-46ad-ac35-17a559c1dfe0"
      },
      "outputs": [
        {
          "data": {
            "text/plain": [
              "SUBDIVISION    0\n",
              "YEAR           0\n",
              "JAN            0\n",
              "FEB            0\n",
              "MAR            0\n",
              "APR            0\n",
              "MAY            0\n",
              "JUN            0\n",
              "JUL            0\n",
              "AUG            0\n",
              "SEP            0\n",
              "OCT            0\n",
              "NOV            0\n",
              "DEC            0\n",
              "ANNUAL         0\n",
              "Jan-Feb        0\n",
              "Mar-May        0\n",
              "Jun-Sep        0\n",
              "Oct-Dec        0\n",
              "MEAN ANNUAL    0\n",
              "Prediction     0\n",
              "dtype: int64"
            ]
          },
          "execution_count": 209,
          "metadata": {},
          "output_type": "execute_result"
        }
      ],
      "source": [
        "df.isna().sum()"
      ]
    },
    {
      "cell_type": "markdown",
      "id": "9426cbcf",
      "metadata": {
        "id": "9426cbcf"
      },
      "source": [
        "# Exploratory data Analysis"
      ]
    },
    {
      "cell_type": "code",
      "execution_count": null,
      "id": "689ee3a7",
      "metadata": {
        "id": "689ee3a7",
        "outputId": "c7a1e2d1-a951-4d7d-ca61-22d706a885c7"
      },
      "outputs": [
        {
          "data": {
            "text/plain": [
              "Index(['SUBDIVISION', 'YEAR', 'JAN', 'FEB', 'MAR', 'APR', 'MAY', 'JUN', 'JUL',\n",
              "       'AUG', 'SEP', 'OCT', 'NOV', 'DEC', 'ANNUAL', 'Jan-Feb', 'Mar-May',\n",
              "       'Jun-Sep', 'Oct-Dec', 'MEAN ANNUAL', 'Prediction'],\n",
              "      dtype='object')"
            ]
          },
          "execution_count": 25,
          "metadata": {},
          "output_type": "execute_result"
        }
      ],
      "source": [
        "df.columns"
      ]
    },
    {
      "cell_type": "markdown",
      "id": "cca8a656",
      "metadata": {
        "id": "cca8a656"
      },
      "source": [
        "# Highest Rainfall ever received in a year in Subdivisions"
      ]
    },
    {
      "cell_type": "code",
      "execution_count": null,
      "id": "47bb003a",
      "metadata": {
        "id": "47bb003a",
        "outputId": "406a2afc-dbd7-4f2c-e506-971301096da9"
      },
      "outputs": [
        {
          "data": {
            "image/png": "[encoded data removed]",
            "text/plain": [
              "<Figure size 1080x576 with 1 Axes>"
            ]
          },
          "metadata": {
            "needs_background": "light"
          },
          "output_type": "display_data"
        }
      ],
      "source": [
        "plt.figure(figsize=(15,8))\n",
        "df.groupby(['SUBDIVISION','YEAR'])['ANNUAL'].sum().sort_values(ascending=False).plot()\n",
        "\n",
        "plt.grid()\n",
        "plt.xlabel(\"Subdivision,Year\",fontsize=15)\n",
        "plt.ylabel(\"Annual Rainfall received\",fontsize=15)\n",
        "plt.title('Highest Rainfall year Data of Subdivisions',fontsize=20);"
      ]
    },
    {
      "cell_type": "markdown",
      "id": "6be3df16",
      "metadata": {
        "id": "6be3df16"
      },
      "source": [
        "Insight:\n",
        "\n",
        "    Here, the plot represents the analysis of the highest amount of annual rainfall recieved in the states , over the span of years from 1901-2015. From here, we can infer that the highest amount of rainfall ever received in span of given data is in year 1948, in the Sub Division of Arunachal Pradesh."
      ]
    },
    {
      "cell_type": "markdown",
      "id": "1f556b23",
      "metadata": {
        "id": "1f556b23"
      },
      "source": [
        "# Total amount of rainfall recieved overall by each subdivision"
      ]
    },
    {
      "cell_type": "code",
      "execution_count": null,
      "id": "b3f2167a",
      "metadata": {
        "id": "b3f2167a",
        "outputId": "3a60c354-73db-4a73-fb0a-a99efd4be66e"
      },
      "outputs": [
        {
          "data": {
            "image/png": "[encoded data removed]",
            "text/plain": [
              "<Figure size 1080x720 with 1 Axes>"
            ]
          },
          "metadata": {
            "needs_background": "light"
          },
          "output_type": "display_data"
        }
      ],
      "source": [
        "plt.figure(figsize=(15,10))\n",
        "df.groupby(['SUBDIVISION'])['ANNUAL'].sum().sort_values(ascending=False).head(15).plot(kind='bar', color = 'purple')\n",
        "plt.ylabel('Total Rainfall')\n",
        "plt.title('Total Rainfall Data',fontsize=20)\n",
        "plt.grid();"
      ]
    },
    {
      "cell_type": "markdown",
      "id": "2c0c5c99",
      "metadata": {
        "id": "2c0c5c99"
      },
      "source": [
        "Insight:\n",
        "\n",
        "Here, the plot represents the analysis of the total amount of annual rainfall recieved in the subdivisions , over the total span of years from 1901-2015. From here, we can infer that the highest amount of rainfall receiving Sub Division is Coastal Karnataka"
      ]
    },
    {
      "cell_type": "markdown",
      "id": "3ab164dd",
      "metadata": {
        "id": "3ab164dd"
      },
      "source": [
        "# The month with the hightest rainfall"
      ]
    },
    {
      "cell_type": "code",
      "execution_count": null,
      "id": "47c7aa71",
      "metadata": {
        "id": "47c7aa71",
        "outputId": "7aaebe8a-4ac9-4fdd-8057-5d2400d4bf3c"
      },
      "outputs": [
        {
          "data": {
            "image/png": "[encoded data removed]",
            "text/plain": [
              "<Figure size 720x504 with 1 Axes>"
            ]
          },
          "metadata": {
            "needs_background": "light"
          },
          "output_type": "display_data"
        }
      ],
      "source": [
        "plt.figure(figsize=(10,7))\n",
        "df[['JAN', 'FEB', 'MAR', 'APR', 'MAY', 'JUN', 'JUL', 'AUG',\n",
        "       'SEP', 'OCT', 'NOV', 'DEC']].mean().plot(kind= 'bar', color='pink')\n",
        "plt.xlabel('Months',fontsize=15)\n",
        "plt.ylabel('Avg. Rainfall',fontsize=15)\n",
        "plt.title('Avg. Monthly Rainfall Data',fontsize=25)\n",
        "plt.grid()\n",
        "plt.show();"
      ]
    },
    {
      "cell_type": "markdown",
      "id": "5eb35797",
      "metadata": {
        "id": "5eb35797"
      },
      "source": [
        "Insight:\n",
        "\n",
        "From graph, we analysed July has the most rainfall on average. By contrast, December and Jan have the least rainfall. Moreover, there are many differences in rainfall amount among months."
      ]
    },
    {
      "cell_type": "markdown",
      "id": "ff42cfe4",
      "metadata": {
        "id": "ff42cfe4"
      },
      "source": [
        "# Seasonwise Rainfall in India"
      ]
    },
    {
      "cell_type": "code",
      "execution_count": null,
      "id": "4e337052",
      "metadata": {
        "id": "4e337052",
        "outputId": "0a49be53-2c39-4cdc-8238-9668145f1a3d"
      },
      "outputs": [
        {
          "data": {
            "text/plain": [
              "<Figure size 720x144 with 0 Axes>"
            ]
          },
          "metadata": {},
          "output_type": "display_data"
        },
        {
          "data": {
            "image/png": "[encoded data removed]",
            "text/plain": [
              "<Figure size 1152x576 with 1 Axes>"
            ]
          },
          "metadata": {
            "needs_background": "light"
          },
          "output_type": "display_data"
        }
      ],
      "source": [
        "plt.figure(figsize=(10,2))\n",
        "df[['SUBDIVISION', 'Jan-Feb', 'Mar-May', 'Jun-Sep', 'Oct-Dec']].groupby('SUBDIVISION').mean().sort_values('Jun-Sep').plot.bar(width=0.5,edgecolor='k',align='center',stacked=True,figsize=(16,8));\n",
        "plt.xlabel('SUBDIVISION',fontsize=15)\n",
        "plt.ylabel('Rainfall (in mm)',fontsize=15)\n",
        "plt.title('Rainfall in Subdivisions of India',fontsize=25)\n",
        "plt.grid();"
      ]
    },
    {
      "cell_type": "markdown",
      "id": "d904a394",
      "metadata": {
        "id": "d904a394"
      },
      "source": [
        "Insight:\n",
        "\n",
        "The above graph depicts the average rainfall received in each season in varous subdivisions of India. From here, we can conclude about the highest rainfall receiving Sub division in  India and can see that in which season our country receives the highest rainfall, which results to be Jun-Sept and thus we sorted the graph according to average amount lof rainfall in this season."
      ]
    },
    {
      "cell_type": "markdown",
      "id": "a384f742",
      "metadata": {
        "id": "a384f742"
      },
      "source": [
        "# Box Plot of Annual Rainfall in Subdivisions of India"
      ]
    },
    {
      "cell_type": "code",
      "execution_count": null,
      "id": "9f4aafe9",
      "metadata": {
        "id": "9f4aafe9",
        "outputId": "e673caea-580e-4ea6-a791-29e92f55d588"
      },
      "outputs": [
        {
          "data": {
            "image/png": "[encoded data removed]",
            "text/plain": [
              "<Figure size 1440x720 with 1 Axes>"
            ]
          },
          "metadata": {
            "needs_background": "light"
          },
          "output_type": "display_data"
        }
      ],
      "source": [
        "plt.rcParams['figure.figsize']=(20,10)\n",
        "ax = sns.boxplot(x=\"SUBDIVISION\", y=\"ANNUAL\", data=df, width=0.8,linewidth=3);\n",
        "ax.set_xlabel('SUBDIVISION',fontsize=20)\n",
        "ax.set_ylabel('Annual Rainfall (in mm)',fontsize=20)\n",
        "plt.title('Annual Rainfall in Subdivisions of India',fontsize=30)\n",
        "ax.tick_params(axis='x',labelsize=10,rotation=90)\n",
        "ax.tick_params(axis='y',labelsize=10,rotation=0)\n",
        "plt.grid();\n"
      ]
    },
    {
      "cell_type": "markdown",
      "id": "1a1174b1",
      "metadata": {
        "id": "1a1174b1"
      },
      "source": [
        "Insights:\n",
        "\n",
        "From here, we can see that Arunachal Pradesh has recorded maximum rainfall annually but its median is similar to Coastal Karnataka, which means their average of total annual rainfall over years is approximately same, but the highest ever rainfall in a year is received by Arunachal Pradesh."
      ]
    },
    {
      "cell_type": "markdown",
      "id": "900f97b7",
      "metadata": {
        "id": "900f97b7"
      },
      "source": [
        "# Yearly Rainfall visualized in ascending order"
      ]
    },
    {
      "cell_type": "code",
      "execution_count": null,
      "id": "85d5baab",
      "metadata": {
        "scrolled": true,
        "id": "85d5baab",
        "outputId": "f3c7bac6-40e0-4541-bef1-1edc26879f11"
      },
      "outputs": [
        {
          "data": {
            "image/png": "[encoded data removed]",
            "text/plain": [
              "<Figure size 1440x576 with 1 Axes>"
            ]
          },
          "metadata": {
            "needs_background": "light"
          },
          "output_type": "display_data"
        }
      ],
      "source": [
        "yearly_rainfall = df.groupby(['YEAR']).sum()\n",
        "x1 = yearly_rainfall.sort_values('ANNUAL')\n",
        "fig = plt.figure(figsize=(20, 8))\n",
        "ax = plt.xticks(rotation=90)\n",
        "ax = x1['ANNUAL'].plot.bar(color=['red', 'pink', 'darkred'], edgecolor = 'black')\n",
        "ax = plt.title('Highest and Lowest rainfalls')"
      ]
    },
    {
      "cell_type": "markdown",
      "id": "747a1e96",
      "metadata": {
        "id": "747a1e96"
      },
      "source": [
        "Inference: 1972 and 2002 were the years with least amount of rainfall. 1917 and 1961 were the years with highest rainfall."
      ]
    },
    {
      "cell_type": "markdown",
      "id": "3bd8a3f4",
      "metadata": {
        "id": "3bd8a3f4"
      },
      "source": [
        "# Frequency of Flood and Drought during June-September"
      ]
    },
    {
      "cell_type": "code",
      "execution_count": null,
      "id": "32c7c220",
      "metadata": {
        "scrolled": true,
        "id": "32c7c220",
        "outputId": "bc27eedf-ed4e-483f-a3fe-ae1d238d559e"
      },
      "outputs": [
        {
          "data": {
            "image/png": "[encoded data removed]",
            "text/plain": [
              "<Figure size 1440x720 with 1 Axes>"
            ]
          },
          "metadata": {
            "needs_background": "light"
          },
          "output_type": "display_data"
        }
      ],
      "source": [
        "y1=list(df['Prediction'])\n",
        "x1=list(df['Jun-Sep'])\n",
        "plt.plot(y1,x1,'*')\n",
        "plt.show()"
      ]
    },
    {
      "cell_type": "markdown",
      "id": "8e3b6596",
      "metadata": {
        "id": "8e3b6596"
      },
      "source": [
        "Inference:The frequency of flood is higher during the season June-September compared to drought"
      ]
    },
    {
      "cell_type": "markdown",
      "id": "369f85dc",
      "metadata": {
        "id": "369f85dc"
      },
      "source": [
        "# India Flood Time Line"
      ]
    },
    {
      "cell_type": "code",
      "execution_count": null,
      "id": "31d214bf",
      "metadata": {
        "id": "31d214bf",
        "outputId": "2f29a839-2463-4653-ae2d-4bdca84c7808"
      },
      "outputs": [
        {
          "data": {
            "text/html": [
              "<div>\n",
              "<style scoped>\n",
              "    .dataframe tbody tr th:only-of-type {\n",
              "        vertical-align: middle;\n",
              "    }\n",
              "\n",
              "    .dataframe tbody tr th {\n",
              "        vertical-align: top;\n",
              "    }\n",
              "\n",
              "    .dataframe thead th {\n",
              "        text-align: right;\n",
              "    }\n",
              "</style>\n",
              "<table border=\"1\" class=\"dataframe\">\n",
              "  <thead>\n",
              "    <tr style=\"text-align: right;\">\n",
              "      <th></th>\n",
              "      <th>SUBDIVISION</th>\n",
              "      <th>YEAR</th>\n",
              "      <th>JAN</th>\n",
              "      <th>FEB</th>\n",
              "      <th>MAR</th>\n",
              "      <th>APR</th>\n",
              "      <th>MAY</th>\n",
              "      <th>JUN</th>\n",
              "      <th>JUL</th>\n",
              "      <th>AUG</th>\n",
              "      <th>...</th>\n",
              "      <th>OCT</th>\n",
              "      <th>NOV</th>\n",
              "      <th>DEC</th>\n",
              "      <th>ANNUAL</th>\n",
              "      <th>Jan-Feb</th>\n",
              "      <th>Mar-May</th>\n",
              "      <th>Jun-Sep</th>\n",
              "      <th>Oct-Dec</th>\n",
              "      <th>MEAN ANNUAL</th>\n",
              "      <th>Prediction</th>\n",
              "    </tr>\n",
              "  </thead>\n",
              "  <tbody>\n",
              "    <tr>\n",
              "      <th>32</th>\n",
              "      <td>ANDAMAN &amp; NICOBAR ISLANDS</td>\n",
              "      <td>1934</td>\n",
              "      <td>7.3</td>\n",
              "      <td>172.9</td>\n",
              "      <td>6.9</td>\n",
              "      <td>131.4</td>\n",
              "      <td>62.0</td>\n",
              "      <td>708.4</td>\n",
              "      <td>323.5</td>\n",
              "      <td>924.9</td>\n",
              "      <td>...</td>\n",
              "      <td>338.1</td>\n",
              "      <td>240.2</td>\n",
              "      <td>46.1</td>\n",
              "      <td>3722.8</td>\n",
              "      <td>180.2</td>\n",
              "      <td>200.3</td>\n",
              "      <td>2717.9</td>\n",
              "      <td>624.4</td>\n",
              "      <td>2927.439423</td>\n",
              "      <td>Flood</td>\n",
              "    </tr>\n",
              "    <tr>\n",
              "      <th>55</th>\n",
              "      <td>ANDAMAN &amp; NICOBAR ISLANDS</td>\n",
              "      <td>1961</td>\n",
              "      <td>82.1</td>\n",
              "      <td>99.4</td>\n",
              "      <td>33.2</td>\n",
              "      <td>88.1</td>\n",
              "      <td>973.1</td>\n",
              "      <td>383.3</td>\n",
              "      <td>304.9</td>\n",
              "      <td>557.1</td>\n",
              "      <td>...</td>\n",
              "      <td>379.9</td>\n",
              "      <td>280.6</td>\n",
              "      <td>144.5</td>\n",
              "      <td>3938.2</td>\n",
              "      <td>181.5</td>\n",
              "      <td>1094.5</td>\n",
              "      <td>1857.3</td>\n",
              "      <td>805.0</td>\n",
              "      <td>2927.439423</td>\n",
              "      <td>Flood</td>\n",
              "    </tr>\n",
              "    <tr>\n",
              "      <th>105</th>\n",
              "      <td>ANDAMAN &amp; NICOBAR ISLANDS</td>\n",
              "      <td>2011</td>\n",
              "      <td>265.9</td>\n",
              "      <td>84.8</td>\n",
              "      <td>272.8</td>\n",
              "      <td>111.4</td>\n",
              "      <td>326.5</td>\n",
              "      <td>383.2</td>\n",
              "      <td>583.2</td>\n",
              "      <td>441.5</td>\n",
              "      <td>...</td>\n",
              "      <td>212.3</td>\n",
              "      <td>150.8</td>\n",
              "      <td>238.5</td>\n",
              "      <td>3828.0</td>\n",
              "      <td>350.7</td>\n",
              "      <td>710.7</td>\n",
              "      <td>2165.0</td>\n",
              "      <td>601.6</td>\n",
              "      <td>2927.439423</td>\n",
              "      <td>Flood</td>\n",
              "    </tr>\n",
              "    <tr>\n",
              "      <th>107</th>\n",
              "      <td>ANDAMAN &amp; NICOBAR ISLANDS</td>\n",
              "      <td>2013</td>\n",
              "      <td>67.1</td>\n",
              "      <td>37.6</td>\n",
              "      <td>43.0</td>\n",
              "      <td>46.3</td>\n",
              "      <td>509.3</td>\n",
              "      <td>777.0</td>\n",
              "      <td>564.8</td>\n",
              "      <td>336.7</td>\n",
              "      <td>...</td>\n",
              "      <td>455.8</td>\n",
              "      <td>354.2</td>\n",
              "      <td>92.3</td>\n",
              "      <td>3757.8</td>\n",
              "      <td>104.7</td>\n",
              "      <td>598.6</td>\n",
              "      <td>2152.1</td>\n",
              "      <td>902.4</td>\n",
              "      <td>2927.439423</td>\n",
              "      <td>Flood</td>\n",
              "    </tr>\n",
              "    <tr>\n",
              "      <th>112</th>\n",
              "      <td>ARUNACHAL PRADESH</td>\n",
              "      <td>1918</td>\n",
              "      <td>10.4</td>\n",
              "      <td>11.0</td>\n",
              "      <td>191.2</td>\n",
              "      <td>144.6</td>\n",
              "      <td>861.1</td>\n",
              "      <td>1609.9</td>\n",
              "      <td>1303.0</td>\n",
              "      <td>692.6</td>\n",
              "      <td>...</td>\n",
              "      <td>125.2</td>\n",
              "      <td>7.8</td>\n",
              "      <td>13.7</td>\n",
              "      <td>5486.3</td>\n",
              "      <td>21.4</td>\n",
              "      <td>1196.9</td>\n",
              "      <td>4121.3</td>\n",
              "      <td>146.7</td>\n",
              "      <td>3418.857143</td>\n",
              "      <td>Flood</td>\n",
              "    </tr>\n",
              "  </tbody>\n",
              "</table>\n",
              "<p>5 rows × 21 columns</p>\n",
              "</div>"
            ],
            "text/plain": [
              "                   SUBDIVISION  YEAR    JAN    FEB    MAR    APR    MAY  \\\n",
              "32   ANDAMAN & NICOBAR ISLANDS  1934    7.3  172.9    6.9  131.4   62.0   \n",
              "55   ANDAMAN & NICOBAR ISLANDS  1961   82.1   99.4   33.2   88.1  973.1   \n",
              "105  ANDAMAN & NICOBAR ISLANDS  2011  265.9   84.8  272.8  111.4  326.5   \n",
              "107  ANDAMAN & NICOBAR ISLANDS  2013   67.1   37.6   43.0   46.3  509.3   \n",
              "112          ARUNACHAL PRADESH  1918   10.4   11.0  191.2  144.6  861.1   \n",
              "\n",
              "        JUN     JUL    AUG  ...    OCT    NOV    DEC  ANNUAL  Jan-Feb  \\\n",
              "32    708.4   323.5  924.9  ...  338.1  240.2   46.1  3722.8    180.2   \n",
              "55    383.3   304.9  557.1  ...  379.9  280.6  144.5  3938.2    181.5   \n",
              "105   383.2   583.2  441.5  ...  212.3  150.8  238.5  3828.0    350.7   \n",
              "107   777.0   564.8  336.7  ...  455.8  354.2   92.3  3757.8    104.7   \n",
              "112  1609.9  1303.0  692.6  ...  125.2    7.8   13.7  5486.3     21.4   \n",
              "\n",
              "     Mar-May  Jun-Sep  Oct-Dec  MEAN ANNUAL  Prediction  \n",
              "32     200.3   2717.9    624.4  2927.439423       Flood  \n",
              "55    1094.5   1857.3    805.0  2927.439423       Flood  \n",
              "105    710.7   2165.0    601.6  2927.439423       Flood  \n",
              "107    598.6   2152.1    902.4  2927.439423       Flood  \n",
              "112   1196.9   4121.3    146.7  3418.857143       Flood  \n",
              "\n",
              "[5 rows x 21 columns]"
            ]
          },
          "execution_count": 33,
          "metadata": {},
          "output_type": "execute_result"
        }
      ],
      "source": [
        "india_flood_df= df[df['Prediction']=='Flood']\n",
        "india_flood_df.head()"
      ]
    },
    {
      "cell_type": "code",
      "execution_count": null,
      "id": "11bb939c",
      "metadata": {
        "id": "11bb939c",
        "outputId": "f27169bf-851c-406a-b056-0f8acb02155d"
      },
      "outputs": [
        {
          "data": {
            "text/plain": [
              "<AxesSubplot:xlabel='YEAR', ylabel='ANNUAL'>"
            ]
          },
          "execution_count": 34,
          "metadata": {},
          "output_type": "execute_result"
        },
        {
          "data": {
            "image/png": "[encoded data removed]",
            "text/plain": [
              "<Figure size 1296x432 with 1 Axes>"
            ]
          },
          "metadata": {
            "needs_background": "light"
          },
          "output_type": "display_data"
        }
      ],
      "source": [
        "# plotting a bar graph\n",
        "from matplotlib import rcParams\n",
        "\n",
        "rcParams['figure.figsize'] = 18,6\n",
        "\n",
        "plt.xticks(rotation=90)\n",
        "sns.barplot(x ='YEAR', y ='ANNUAL', data = india_flood_df, \n",
        "            palette ='plasma')"
      ]
    },
    {
      "cell_type": "markdown",
      "id": "11a18c86",
      "metadata": {
        "id": "11a18c86"
      },
      "source": [
        "Inference: Taking in to account of all subdivisions, India suffered most number of floods during the year 1918 "
      ]
    },
    {
      "cell_type": "markdown",
      "id": "bd97ec92",
      "metadata": {
        "id": "bd97ec92"
      },
      "source": [
        "# India Drought Time Line"
      ]
    },
    {
      "cell_type": "code",
      "execution_count": null,
      "id": "9dc94a46",
      "metadata": {
        "id": "9dc94a46",
        "outputId": "fd11f363-593f-48e2-ff55-79f3d77052b9"
      },
      "outputs": [
        {
          "data": {
            "text/html": [
              "<div>\n",
              "<style scoped>\n",
              "    .dataframe tbody tr th:only-of-type {\n",
              "        vertical-align: middle;\n",
              "    }\n",
              "\n",
              "    .dataframe tbody tr th {\n",
              "        vertical-align: top;\n",
              "    }\n",
              "\n",
              "    .dataframe thead th {\n",
              "        text-align: right;\n",
              "    }\n",
              "</style>\n",
              "<table border=\"1\" class=\"dataframe\">\n",
              "  <thead>\n",
              "    <tr style=\"text-align: right;\">\n",
              "      <th></th>\n",
              "      <th>SUBDIVISION</th>\n",
              "      <th>YEAR</th>\n",
              "      <th>JAN</th>\n",
              "      <th>FEB</th>\n",
              "      <th>MAR</th>\n",
              "      <th>APR</th>\n",
              "      <th>MAY</th>\n",
              "      <th>JUN</th>\n",
              "      <th>JUL</th>\n",
              "      <th>AUG</th>\n",
              "      <th>...</th>\n",
              "      <th>OCT</th>\n",
              "      <th>NOV</th>\n",
              "      <th>DEC</th>\n",
              "      <th>ANNUAL</th>\n",
              "      <th>Jan-Feb</th>\n",
              "      <th>Mar-May</th>\n",
              "      <th>Jun-Sep</th>\n",
              "      <th>Oct-Dec</th>\n",
              "      <th>MEAN ANNUAL</th>\n",
              "      <th>Prediction</th>\n",
              "    </tr>\n",
              "  </thead>\n",
              "  <tbody>\n",
              "    <tr>\n",
              "      <th>73</th>\n",
              "      <td>ANDAMAN &amp; NICOBAR ISLANDS</td>\n",
              "      <td>1979</td>\n",
              "      <td>35.5</td>\n",
              "      <td>9.4</td>\n",
              "      <td>3.9</td>\n",
              "      <td>64.8</td>\n",
              "      <td>146.3</td>\n",
              "      <td>282.8</td>\n",
              "      <td>455.9</td>\n",
              "      <td>173.6</td>\n",
              "      <td>...</td>\n",
              "      <td>163.5</td>\n",
              "      <td>169.8</td>\n",
              "      <td>13.6</td>\n",
              "      <td>1849.4</td>\n",
              "      <td>44.9</td>\n",
              "      <td>215.0</td>\n",
              "      <td>1242.5</td>\n",
              "      <td>347.0</td>\n",
              "      <td>2927.439423</td>\n",
              "      <td>Drought</td>\n",
              "    </tr>\n",
              "    <tr>\n",
              "      <th>80</th>\n",
              "      <td>ANDAMAN &amp; NICOBAR ISLANDS</td>\n",
              "      <td>1986</td>\n",
              "      <td>14.8</td>\n",
              "      <td>0.6</td>\n",
              "      <td>1.5</td>\n",
              "      <td>8.2</td>\n",
              "      <td>302.6</td>\n",
              "      <td>312.2</td>\n",
              "      <td>308.5</td>\n",
              "      <td>444.0</td>\n",
              "      <td>...</td>\n",
              "      <td>176.1</td>\n",
              "      <td>163.5</td>\n",
              "      <td>47.0</td>\n",
              "      <td>2187.8</td>\n",
              "      <td>15.4</td>\n",
              "      <td>312.3</td>\n",
              "      <td>1473.6</td>\n",
              "      <td>386.5</td>\n",
              "      <td>2927.439423</td>\n",
              "      <td>Drought</td>\n",
              "    </tr>\n",
              "    <tr>\n",
              "      <th>84</th>\n",
              "      <td>ANDAMAN &amp; NICOBAR ISLANDS</td>\n",
              "      <td>1990</td>\n",
              "      <td>13.4</td>\n",
              "      <td>0.2</td>\n",
              "      <td>24.6</td>\n",
              "      <td>87.5</td>\n",
              "      <td>424.6</td>\n",
              "      <td>291.0</td>\n",
              "      <td>213.2</td>\n",
              "      <td>293.3</td>\n",
              "      <td>...</td>\n",
              "      <td>133.6</td>\n",
              "      <td>291.1</td>\n",
              "      <td>100.3</td>\n",
              "      <td>2183.4</td>\n",
              "      <td>13.6</td>\n",
              "      <td>536.8</td>\n",
              "      <td>1108.0</td>\n",
              "      <td>525.1</td>\n",
              "      <td>2927.439423</td>\n",
              "      <td>Drought</td>\n",
              "    </tr>\n",
              "    <tr>\n",
              "      <th>86</th>\n",
              "      <td>ANDAMAN &amp; NICOBAR ISLANDS</td>\n",
              "      <td>1992</td>\n",
              "      <td>75.9</td>\n",
              "      <td>10.9</td>\n",
              "      <td>0.0</td>\n",
              "      <td>5.1</td>\n",
              "      <td>241.7</td>\n",
              "      <td>392.0</td>\n",
              "      <td>348.2</td>\n",
              "      <td>372.3</td>\n",
              "      <td>...</td>\n",
              "      <td>257.3</td>\n",
              "      <td>64.3</td>\n",
              "      <td>7.2</td>\n",
              "      <td>2098.7</td>\n",
              "      <td>86.8</td>\n",
              "      <td>246.8</td>\n",
              "      <td>1436.2</td>\n",
              "      <td>328.8</td>\n",
              "      <td>2927.439423</td>\n",
              "      <td>Drought</td>\n",
              "    </tr>\n",
              "    <tr>\n",
              "      <th>146</th>\n",
              "      <td>ARUNACHAL PRADESH</td>\n",
              "      <td>1952</td>\n",
              "      <td>17.2</td>\n",
              "      <td>24.5</td>\n",
              "      <td>189.6</td>\n",
              "      <td>151.5</td>\n",
              "      <td>235.1</td>\n",
              "      <td>276.8</td>\n",
              "      <td>320.6</td>\n",
              "      <td>481.1</td>\n",
              "      <td>...</td>\n",
              "      <td>257.9</td>\n",
              "      <td>43.9</td>\n",
              "      <td>29.7</td>\n",
              "      <td>2396.1</td>\n",
              "      <td>41.7</td>\n",
              "      <td>576.2</td>\n",
              "      <td>1446.7</td>\n",
              "      <td>331.5</td>\n",
              "      <td>3418.857143</td>\n",
              "      <td>Drought</td>\n",
              "    </tr>\n",
              "  </tbody>\n",
              "</table>\n",
              "<p>5 rows × 21 columns</p>\n",
              "</div>"
            ],
            "text/plain": [
              "                   SUBDIVISION  YEAR   JAN   FEB    MAR    APR    MAY    JUN  \\\n",
              "73   ANDAMAN & NICOBAR ISLANDS  1979  35.5   9.4    3.9   64.8  146.3  282.8   \n",
              "80   ANDAMAN & NICOBAR ISLANDS  1986  14.8   0.6    1.5    8.2  302.6  312.2   \n",
              "84   ANDAMAN & NICOBAR ISLANDS  1990  13.4   0.2   24.6   87.5  424.6  291.0   \n",
              "86   ANDAMAN & NICOBAR ISLANDS  1992  75.9  10.9    0.0    5.1  241.7  392.0   \n",
              "146          ARUNACHAL PRADESH  1952  17.2  24.5  189.6  151.5  235.1  276.8   \n",
              "\n",
              "       JUL    AUG  ...    OCT    NOV    DEC  ANNUAL  Jan-Feb  Mar-May  \\\n",
              "73   455.9  173.6  ...  163.5  169.8   13.6  1849.4     44.9    215.0   \n",
              "80   308.5  444.0  ...  176.1  163.5   47.0  2187.8     15.4    312.3   \n",
              "84   213.2  293.3  ...  133.6  291.1  100.3  2183.4     13.6    536.8   \n",
              "86   348.2  372.3  ...  257.3   64.3    7.2  2098.7     86.8    246.8   \n",
              "146  320.6  481.1  ...  257.9   43.9   29.7  2396.1     41.7    576.2   \n",
              "\n",
              "     Jun-Sep  Oct-Dec  MEAN ANNUAL  Prediction  \n",
              "73    1242.5    347.0  2927.439423     Drought  \n",
              "80    1473.6    386.5  2927.439423     Drought  \n",
              "84    1108.0    525.1  2927.439423     Drought  \n",
              "86    1436.2    328.8  2927.439423     Drought  \n",
              "146   1446.7    331.5  3418.857143     Drought  \n",
              "\n",
              "[5 rows x 21 columns]"
            ]
          },
          "execution_count": 35,
          "metadata": {},
          "output_type": "execute_result"
        }
      ],
      "source": [
        "india_drought_df= df[df['Prediction']=='Drought']\n",
        "india_drought_df.head()"
      ]
    },
    {
      "cell_type": "code",
      "execution_count": null,
      "id": "793425e9",
      "metadata": {
        "id": "793425e9",
        "outputId": "fa17363e-4baf-48bf-e324-4e29200875ac"
      },
      "outputs": [
        {
          "data": {
            "text/plain": [
              "<AxesSubplot:xlabel='YEAR', ylabel='ANNUAL'>"
            ]
          },
          "execution_count": 36,
          "metadata": {},
          "output_type": "execute_result"
        },
        {
          "data": {
            "image/png": "[encoded data removed]",
            "text/plain": [
              "<Figure size 1296x432 with 1 Axes>"
            ]
          },
          "metadata": {
            "needs_background": "light"
          },
          "output_type": "display_data"
        }
      ],
      "source": [
        "# plotting a bar graph\n",
        "from matplotlib import rcParams\n",
        "\n",
        "rcParams['figure.figsize'] = 18,6\n",
        "\n",
        "plt.xticks(rotation=90)\n",
        "sns.barplot(x ='YEAR', y ='ANNUAL', data = india_drought_df, \n",
        "            palette ='plasma')"
      ]
    },
    {
      "cell_type": "markdown",
      "id": "43983038",
      "metadata": {
        "id": "43983038"
      },
      "source": [
        "Inference: Taking in to account of all subdivisions, India suffered most number of droughts during the years 1978 & 1996 "
      ]
    },
    {
      "cell_type": "markdown",
      "id": "79326547",
      "metadata": {
        "id": "79326547"
      },
      "source": [
        "# Kerala Flood Time Line"
      ]
    },
    {
      "cell_type": "code",
      "execution_count": null,
      "id": "274b0d2e",
      "metadata": {
        "id": "274b0d2e",
        "outputId": "67858489-a575-4812-d479-758b5fe98a2e"
      },
      "outputs": [
        {
          "data": {
            "text/html": [
              "<div>\n",
              "<style scoped>\n",
              "    .dataframe tbody tr th:only-of-type {\n",
              "        vertical-align: middle;\n",
              "    }\n",
              "\n",
              "    .dataframe tbody tr th {\n",
              "        vertical-align: top;\n",
              "    }\n",
              "\n",
              "    .dataframe thead th {\n",
              "        text-align: right;\n",
              "    }\n",
              "</style>\n",
              "<table border=\"1\" class=\"dataframe\">\n",
              "  <thead>\n",
              "    <tr style=\"text-align: right;\">\n",
              "      <th></th>\n",
              "      <th>SUBDIVISION</th>\n",
              "      <th>YEAR</th>\n",
              "      <th>JAN</th>\n",
              "      <th>FEB</th>\n",
              "      <th>MAR</th>\n",
              "      <th>APR</th>\n",
              "      <th>MAY</th>\n",
              "      <th>JUN</th>\n",
              "      <th>JUL</th>\n",
              "      <th>AUG</th>\n",
              "      <th>...</th>\n",
              "      <th>OCT</th>\n",
              "      <th>NOV</th>\n",
              "      <th>DEC</th>\n",
              "      <th>ANNUAL</th>\n",
              "      <th>Jan-Feb</th>\n",
              "      <th>Mar-May</th>\n",
              "      <th>Jun-Sep</th>\n",
              "      <th>Oct-Dec</th>\n",
              "      <th>MEAN ANNUAL</th>\n",
              "      <th>Prediction</th>\n",
              "    </tr>\n",
              "  </thead>\n",
              "  <tbody>\n",
              "    <tr>\n",
              "      <th>3887</th>\n",
              "      <td>KERALA</td>\n",
              "      <td>1901</td>\n",
              "      <td>28.7</td>\n",
              "      <td>44.7</td>\n",
              "      <td>51.6</td>\n",
              "      <td>160.0</td>\n",
              "      <td>174.7</td>\n",
              "      <td>824.6</td>\n",
              "      <td>743.0</td>\n",
              "      <td>357.5</td>\n",
              "      <td>...</td>\n",
              "      <td>266.9</td>\n",
              "      <td>350.8</td>\n",
              "      <td>48.4</td>\n",
              "      <td>3248.6</td>\n",
              "      <td>73.4</td>\n",
              "      <td>386.2</td>\n",
              "      <td>2122.8</td>\n",
              "      <td>666.1</td>\n",
              "      <td>2925.487826</td>\n",
              "      <td>Normal</td>\n",
              "    </tr>\n",
              "    <tr>\n",
              "      <th>3888</th>\n",
              "      <td>KERALA</td>\n",
              "      <td>1902</td>\n",
              "      <td>6.7</td>\n",
              "      <td>2.6</td>\n",
              "      <td>57.3</td>\n",
              "      <td>83.9</td>\n",
              "      <td>134.5</td>\n",
              "      <td>390.9</td>\n",
              "      <td>1205.0</td>\n",
              "      <td>315.8</td>\n",
              "      <td>...</td>\n",
              "      <td>358.4</td>\n",
              "      <td>158.3</td>\n",
              "      <td>121.5</td>\n",
              "      <td>3326.6</td>\n",
              "      <td>9.3</td>\n",
              "      <td>275.7</td>\n",
              "      <td>2403.4</td>\n",
              "      <td>638.2</td>\n",
              "      <td>2925.487826</td>\n",
              "      <td>Normal</td>\n",
              "    </tr>\n",
              "    <tr>\n",
              "      <th>3889</th>\n",
              "      <td>KERALA</td>\n",
              "      <td>1903</td>\n",
              "      <td>3.2</td>\n",
              "      <td>18.6</td>\n",
              "      <td>3.1</td>\n",
              "      <td>83.6</td>\n",
              "      <td>249.7</td>\n",
              "      <td>558.6</td>\n",
              "      <td>1022.5</td>\n",
              "      <td>420.2</td>\n",
              "      <td>...</td>\n",
              "      <td>354.1</td>\n",
              "      <td>157.0</td>\n",
              "      <td>59.0</td>\n",
              "      <td>3271.2</td>\n",
              "      <td>21.7</td>\n",
              "      <td>336.3</td>\n",
              "      <td>2343.0</td>\n",
              "      <td>570.1</td>\n",
              "      <td>2925.487826</td>\n",
              "      <td>Normal</td>\n",
              "    </tr>\n",
              "    <tr>\n",
              "      <th>3890</th>\n",
              "      <td>KERALA</td>\n",
              "      <td>1904</td>\n",
              "      <td>23.7</td>\n",
              "      <td>3.0</td>\n",
              "      <td>32.2</td>\n",
              "      <td>71.5</td>\n",
              "      <td>235.7</td>\n",
              "      <td>1098.2</td>\n",
              "      <td>725.5</td>\n",
              "      <td>351.8</td>\n",
              "      <td>...</td>\n",
              "      <td>328.1</td>\n",
              "      <td>33.9</td>\n",
              "      <td>3.3</td>\n",
              "      <td>3129.7</td>\n",
              "      <td>26.7</td>\n",
              "      <td>339.4</td>\n",
              "      <td>2398.2</td>\n",
              "      <td>365.3</td>\n",
              "      <td>2925.487826</td>\n",
              "      <td>Normal</td>\n",
              "    </tr>\n",
              "    <tr>\n",
              "      <th>3891</th>\n",
              "      <td>KERALA</td>\n",
              "      <td>1905</td>\n",
              "      <td>1.2</td>\n",
              "      <td>22.3</td>\n",
              "      <td>9.4</td>\n",
              "      <td>105.9</td>\n",
              "      <td>263.3</td>\n",
              "      <td>850.2</td>\n",
              "      <td>520.5</td>\n",
              "      <td>293.6</td>\n",
              "      <td>...</td>\n",
              "      <td>383.5</td>\n",
              "      <td>74.4</td>\n",
              "      <td>0.2</td>\n",
              "      <td>2741.6</td>\n",
              "      <td>23.4</td>\n",
              "      <td>378.5</td>\n",
              "      <td>1881.5</td>\n",
              "      <td>458.1</td>\n",
              "      <td>2925.487826</td>\n",
              "      <td>Normal</td>\n",
              "    </tr>\n",
              "  </tbody>\n",
              "</table>\n",
              "<p>5 rows × 21 columns</p>\n",
              "</div>"
            ],
            "text/plain": [
              "     SUBDIVISION  YEAR   JAN   FEB   MAR    APR    MAY     JUN     JUL    AUG  \\\n",
              "3887      KERALA  1901  28.7  44.7  51.6  160.0  174.7   824.6   743.0  357.5   \n",
              "3888      KERALA  1902   6.7   2.6  57.3   83.9  134.5   390.9  1205.0  315.8   \n",
              "3889      KERALA  1903   3.2  18.6   3.1   83.6  249.7   558.6  1022.5  420.2   \n",
              "3890      KERALA  1904  23.7   3.0  32.2   71.5  235.7  1098.2   725.5  351.8   \n",
              "3891      KERALA  1905   1.2  22.3   9.4  105.9  263.3   850.2   520.5  293.6   \n",
              "\n",
              "      ...    OCT    NOV    DEC  ANNUAL  Jan-Feb  Mar-May  Jun-Sep  Oct-Dec  \\\n",
              "3887  ...  266.9  350.8   48.4  3248.6     73.4    386.2   2122.8    666.1   \n",
              "3888  ...  358.4  158.3  121.5  3326.6      9.3    275.7   2403.4    638.2   \n",
              "3889  ...  354.1  157.0   59.0  3271.2     21.7    336.3   2343.0    570.1   \n",
              "3890  ...  328.1   33.9    3.3  3129.7     26.7    339.4   2398.2    365.3   \n",
              "3891  ...  383.5   74.4    0.2  2741.6     23.4    378.5   1881.5    458.1   \n",
              "\n",
              "      MEAN ANNUAL  Prediction  \n",
              "3887  2925.487826      Normal  \n",
              "3888  2925.487826      Normal  \n",
              "3889  2925.487826      Normal  \n",
              "3890  2925.487826      Normal  \n",
              "3891  2925.487826      Normal  \n",
              "\n",
              "[5 rows x 21 columns]"
            ]
          },
          "execution_count": 38,
          "metadata": {},
          "output_type": "execute_result"
        }
      ],
      "source": [
        "df2=df.query(\"SUBDIVISION == 'KERALA'\")\n",
        "df2.head()"
      ]
    },
    {
      "cell_type": "code",
      "execution_count": null,
      "id": "b9c3ef6a",
      "metadata": {
        "id": "b9c3ef6a",
        "outputId": "e2d10ab1-458e-430b-d016-3c76918b9dd0"
      },
      "outputs": [
        {
          "data": {
            "text/html": [
              "<div>\n",
              "<style scoped>\n",
              "    .dataframe tbody tr th:only-of-type {\n",
              "        vertical-align: middle;\n",
              "    }\n",
              "\n",
              "    .dataframe tbody tr th {\n",
              "        vertical-align: top;\n",
              "    }\n",
              "\n",
              "    .dataframe thead th {\n",
              "        text-align: right;\n",
              "    }\n",
              "</style>\n",
              "<table border=\"1\" class=\"dataframe\">\n",
              "  <thead>\n",
              "    <tr style=\"text-align: right;\">\n",
              "      <th></th>\n",
              "      <th>SUBDIVISION</th>\n",
              "      <th>YEAR</th>\n",
              "      <th>JAN</th>\n",
              "      <th>FEB</th>\n",
              "      <th>MAR</th>\n",
              "      <th>APR</th>\n",
              "      <th>MAY</th>\n",
              "      <th>JUN</th>\n",
              "      <th>JUL</th>\n",
              "      <th>AUG</th>\n",
              "      <th>...</th>\n",
              "      <th>OCT</th>\n",
              "      <th>NOV</th>\n",
              "      <th>DEC</th>\n",
              "      <th>ANNUAL</th>\n",
              "      <th>Jan-Feb</th>\n",
              "      <th>Mar-May</th>\n",
              "      <th>Jun-Sep</th>\n",
              "      <th>Oct-Dec</th>\n",
              "      <th>MEAN ANNUAL</th>\n",
              "      <th>Prediction</th>\n",
              "    </tr>\n",
              "  </thead>\n",
              "  <tbody>\n",
              "    <tr>\n",
              "      <th>3893</th>\n",
              "      <td>KERALA</td>\n",
              "      <td>1907</td>\n",
              "      <td>18.8</td>\n",
              "      <td>4.8</td>\n",
              "      <td>55.7</td>\n",
              "      <td>170.8</td>\n",
              "      <td>101.4</td>\n",
              "      <td>770.9</td>\n",
              "      <td>760.4</td>\n",
              "      <td>981.5</td>\n",
              "      <td>...</td>\n",
              "      <td>309.7</td>\n",
              "      <td>219.1</td>\n",
              "      <td>52.8</td>\n",
              "      <td>3671.1</td>\n",
              "      <td>23.7</td>\n",
              "      <td>328.0</td>\n",
              "      <td>2737.8</td>\n",
              "      <td>581.7</td>\n",
              "      <td>2925.487826</td>\n",
              "      <td>Flood</td>\n",
              "    </tr>\n",
              "    <tr>\n",
              "      <th>3910</th>\n",
              "      <td>KERALA</td>\n",
              "      <td>1924</td>\n",
              "      <td>19.3</td>\n",
              "      <td>2.9</td>\n",
              "      <td>66.6</td>\n",
              "      <td>111.0</td>\n",
              "      <td>185.4</td>\n",
              "      <td>1011.7</td>\n",
              "      <td>1526.5</td>\n",
              "      <td>624.0</td>\n",
              "      <td>...</td>\n",
              "      <td>176.5</td>\n",
              "      <td>162.9</td>\n",
              "      <td>50.4</td>\n",
              "      <td>4226.4</td>\n",
              "      <td>22.2</td>\n",
              "      <td>363.0</td>\n",
              "      <td>3451.3</td>\n",
              "      <td>389.9</td>\n",
              "      <td>2925.487826</td>\n",
              "      <td>Flood</td>\n",
              "    </tr>\n",
              "    <tr>\n",
              "      <th>3919</th>\n",
              "      <td>KERALA</td>\n",
              "      <td>1933</td>\n",
              "      <td>1.0</td>\n",
              "      <td>9.3</td>\n",
              "      <td>36.9</td>\n",
              "      <td>139.5</td>\n",
              "      <td>738.8</td>\n",
              "      <td>859.3</td>\n",
              "      <td>773.4</td>\n",
              "      <td>479.5</td>\n",
              "      <td>...</td>\n",
              "      <td>397.0</td>\n",
              "      <td>126.1</td>\n",
              "      <td>42.3</td>\n",
              "      <td>4072.9</td>\n",
              "      <td>10.3</td>\n",
              "      <td>915.2</td>\n",
              "      <td>2581.9</td>\n",
              "      <td>565.5</td>\n",
              "      <td>2925.487826</td>\n",
              "      <td>Flood</td>\n",
              "    </tr>\n",
              "    <tr>\n",
              "      <th>3945</th>\n",
              "      <td>KERALA</td>\n",
              "      <td>1959</td>\n",
              "      <td>3.0</td>\n",
              "      <td>21.4</td>\n",
              "      <td>6.3</td>\n",
              "      <td>150.7</td>\n",
              "      <td>347.2</td>\n",
              "      <td>872.8</td>\n",
              "      <td>1155.7</td>\n",
              "      <td>397.3</td>\n",
              "      <td>...</td>\n",
              "      <td>200.4</td>\n",
              "      <td>151.9</td>\n",
              "      <td>34.0</td>\n",
              "      <td>3746.0</td>\n",
              "      <td>24.3</td>\n",
              "      <td>504.2</td>\n",
              "      <td>2831.2</td>\n",
              "      <td>386.3</td>\n",
              "      <td>2925.487826</td>\n",
              "      <td>Flood</td>\n",
              "    </tr>\n",
              "    <tr>\n",
              "      <th>3947</th>\n",
              "      <td>KERALA</td>\n",
              "      <td>1961</td>\n",
              "      <td>13.7</td>\n",
              "      <td>31.3</td>\n",
              "      <td>11.4</td>\n",
              "      <td>94.1</td>\n",
              "      <td>500.5</td>\n",
              "      <td>1005.2</td>\n",
              "      <td>1146.5</td>\n",
              "      <td>678.3</td>\n",
              "      <td>...</td>\n",
              "      <td>274.2</td>\n",
              "      <td>85.9</td>\n",
              "      <td>17.5</td>\n",
              "      <td>4257.8</td>\n",
              "      <td>45.0</td>\n",
              "      <td>606.0</td>\n",
              "      <td>3229.3</td>\n",
              "      <td>377.6</td>\n",
              "      <td>2925.487826</td>\n",
              "      <td>Flood</td>\n",
              "    </tr>\n",
              "  </tbody>\n",
              "</table>\n",
              "<p>5 rows × 21 columns</p>\n",
              "</div>"
            ],
            "text/plain": [
              "     SUBDIVISION  YEAR   JAN   FEB   MAR    APR    MAY     JUN     JUL    AUG  \\\n",
              "3893      KERALA  1907  18.8   4.8  55.7  170.8  101.4   770.9   760.4  981.5   \n",
              "3910      KERALA  1924  19.3   2.9  66.6  111.0  185.4  1011.7  1526.5  624.0   \n",
              "3919      KERALA  1933   1.0   9.3  36.9  139.5  738.8   859.3   773.4  479.5   \n",
              "3945      KERALA  1959   3.0  21.4   6.3  150.7  347.2   872.8  1155.7  397.3   \n",
              "3947      KERALA  1961  13.7  31.3  11.4   94.1  500.5  1005.2  1146.5  678.3   \n",
              "\n",
              "      ...    OCT    NOV   DEC  ANNUAL  Jan-Feb  Mar-May  Jun-Sep  Oct-Dec  \\\n",
              "3893  ...  309.7  219.1  52.8  3671.1     23.7    328.0   2737.8    581.7   \n",
              "3910  ...  176.5  162.9  50.4  4226.4     22.2    363.0   3451.3    389.9   \n",
              "3919  ...  397.0  126.1  42.3  4072.9     10.3    915.2   2581.9    565.5   \n",
              "3945  ...  200.4  151.9  34.0  3746.0     24.3    504.2   2831.2    386.3   \n",
              "3947  ...  274.2   85.9  17.5  4257.8     45.0    606.0   3229.3    377.6   \n",
              "\n",
              "      MEAN ANNUAL  Prediction  \n",
              "3893  2925.487826       Flood  \n",
              "3910  2925.487826       Flood  \n",
              "3919  2925.487826       Flood  \n",
              "3945  2925.487826       Flood  \n",
              "3947  2925.487826       Flood  \n",
              "\n",
              "[5 rows x 21 columns]"
            ]
          },
          "execution_count": 39,
          "metadata": {},
          "output_type": "execute_result"
        }
      ],
      "source": [
        "kerala_flood_df= df2[df2['Prediction']=='Flood']\n",
        "kerala_flood_df.head()"
      ]
    },
    {
      "cell_type": "code",
      "execution_count": null,
      "id": "a8a9fdb2",
      "metadata": {
        "id": "a8a9fdb2",
        "outputId": "b6eebe90-7e88-4e38-888b-24364498588b"
      },
      "outputs": [
        {
          "data": {
            "text/plain": [
              "<AxesSubplot:xlabel='YEAR', ylabel='ANNUAL'>"
            ]
          },
          "execution_count": 40,
          "metadata": {},
          "output_type": "execute_result"
        },
        {
          "data": {
            "image/png": "[encoded data removed]",
            "text/plain": [
              "<Figure size 720x432 with 1 Axes>"
            ]
          },
          "metadata": {
            "needs_background": "light"
          },
          "output_type": "display_data"
        }
      ],
      "source": [
        "# plotting a bar graph\n",
        "from matplotlib import rcParams\n",
        "\n",
        "rcParams['figure.figsize'] = 10,6\n",
        "plt.xticks(rotation=90)\n",
        "\n",
        "sns.barplot(x ='YEAR', y ='ANNUAL', data = kerala_flood_df, \n",
        "            palette ='plasma')"
      ]
    },
    {
      "cell_type": "markdown",
      "id": "90cb3a09",
      "metadata": {
        "id": "90cb3a09"
      },
      "source": [
        "Inference: The above graph depicts the years when Kerala experienced severe Flood during the time span of 110 years starting from 1905 to 2015 ie. 1907,1924,1933,1959 and 1961. The year 1924 & 1961 seems to be the worst hit."
      ]
    },
    {
      "cell_type": "markdown",
      "id": "60e9d40f",
      "metadata": {
        "id": "60e9d40f"
      },
      "source": [
        "# Kerala Drought Time Line"
      ]
    },
    {
      "cell_type": "code",
      "execution_count": null,
      "id": "12f894d6",
      "metadata": {
        "id": "12f894d6",
        "outputId": "aa1a95ff-2cc4-41e5-e8ca-981a4ffd62c4"
      },
      "outputs": [
        {
          "data": {
            "text/html": [
              "<div>\n",
              "<style scoped>\n",
              "    .dataframe tbody tr th:only-of-type {\n",
              "        vertical-align: middle;\n",
              "    }\n",
              "\n",
              "    .dataframe tbody tr th {\n",
              "        vertical-align: top;\n",
              "    }\n",
              "\n",
              "    .dataframe thead th {\n",
              "        text-align: right;\n",
              "    }\n",
              "</style>\n",
              "<table border=\"1\" class=\"dataframe\">\n",
              "  <thead>\n",
              "    <tr style=\"text-align: right;\">\n",
              "      <th></th>\n",
              "      <th>SUBDIVISION</th>\n",
              "      <th>YEAR</th>\n",
              "      <th>JAN</th>\n",
              "      <th>FEB</th>\n",
              "      <th>MAR</th>\n",
              "      <th>APR</th>\n",
              "      <th>MAY</th>\n",
              "      <th>JUN</th>\n",
              "      <th>JUL</th>\n",
              "      <th>AUG</th>\n",
              "      <th>...</th>\n",
              "      <th>OCT</th>\n",
              "      <th>NOV</th>\n",
              "      <th>DEC</th>\n",
              "      <th>ANNUAL</th>\n",
              "      <th>Jan-Feb</th>\n",
              "      <th>Mar-May</th>\n",
              "      <th>Jun-Sep</th>\n",
              "      <th>Oct-Dec</th>\n",
              "      <th>MEAN ANNUAL</th>\n",
              "      <th>Prediction</th>\n",
              "    </tr>\n",
              "  </thead>\n",
              "  <tbody>\n",
              "    <tr>\n",
              "      <th>3962</th>\n",
              "      <td>KERALA</td>\n",
              "      <td>1976</td>\n",
              "      <td>0.1</td>\n",
              "      <td>1.5</td>\n",
              "      <td>21.0</td>\n",
              "      <td>134.5</td>\n",
              "      <td>75.8</td>\n",
              "      <td>196.8</td>\n",
              "      <td>641.5</td>\n",
              "      <td>342.6</td>\n",
              "      <td>...</td>\n",
              "      <td>221.3</td>\n",
              "      <td>286.7</td>\n",
              "      <td>30.8</td>\n",
              "      <td>2068.8</td>\n",
              "      <td>1.6</td>\n",
              "      <td>231.3</td>\n",
              "      <td>1297.1</td>\n",
              "      <td>538.8</td>\n",
              "      <td>2925.487826</td>\n",
              "      <td>Drought</td>\n",
              "    </tr>\n",
              "    <tr>\n",
              "      <th>3972</th>\n",
              "      <td>KERALA</td>\n",
              "      <td>1986</td>\n",
              "      <td>5.6</td>\n",
              "      <td>18.7</td>\n",
              "      <td>11.2</td>\n",
              "      <td>63.1</td>\n",
              "      <td>126.7</td>\n",
              "      <td>597.9</td>\n",
              "      <td>324.8</td>\n",
              "      <td>340.3</td>\n",
              "      <td>...</td>\n",
              "      <td>165.5</td>\n",
              "      <td>194.7</td>\n",
              "      <td>9.5</td>\n",
              "      <td>2093.2</td>\n",
              "      <td>24.3</td>\n",
              "      <td>200.9</td>\n",
              "      <td>1498.4</td>\n",
              "      <td>369.6</td>\n",
              "      <td>2925.487826</td>\n",
              "      <td>Drought</td>\n",
              "    </tr>\n",
              "    <tr>\n",
              "      <th>3973</th>\n",
              "      <td>KERALA</td>\n",
              "      <td>1987</td>\n",
              "      <td>0.6</td>\n",
              "      <td>0.8</td>\n",
              "      <td>4.3</td>\n",
              "      <td>57.2</td>\n",
              "      <td>108.3</td>\n",
              "      <td>572.6</td>\n",
              "      <td>221.0</td>\n",
              "      <td>396.6</td>\n",
              "      <td>...</td>\n",
              "      <td>272.1</td>\n",
              "      <td>216.0</td>\n",
              "      <td>131.1</td>\n",
              "      <td>2137.6</td>\n",
              "      <td>1.4</td>\n",
              "      <td>169.7</td>\n",
              "      <td>1347.2</td>\n",
              "      <td>619.2</td>\n",
              "      <td>2925.487826</td>\n",
              "      <td>Drought</td>\n",
              "    </tr>\n",
              "    <tr>\n",
              "      <th>3998</th>\n",
              "      <td>KERALA</td>\n",
              "      <td>2012</td>\n",
              "      <td>7.4</td>\n",
              "      <td>11.0</td>\n",
              "      <td>21.0</td>\n",
              "      <td>171.1</td>\n",
              "      <td>95.3</td>\n",
              "      <td>430.3</td>\n",
              "      <td>362.6</td>\n",
              "      <td>501.6</td>\n",
              "      <td>...</td>\n",
              "      <td>187.5</td>\n",
              "      <td>112.9</td>\n",
              "      <td>9.4</td>\n",
              "      <td>2151.1</td>\n",
              "      <td>18.3</td>\n",
              "      <td>287.4</td>\n",
              "      <td>1535.6</td>\n",
              "      <td>309.8</td>\n",
              "      <td>2925.487826</td>\n",
              "      <td>Drought</td>\n",
              "    </tr>\n",
              "  </tbody>\n",
              "</table>\n",
              "<p>4 rows × 21 columns</p>\n",
              "</div>"
            ],
            "text/plain": [
              "     SUBDIVISION  YEAR  JAN   FEB   MAR    APR    MAY    JUN    JUL    AUG  \\\n",
              "3962      KERALA  1976  0.1   1.5  21.0  134.5   75.8  196.8  641.5  342.6   \n",
              "3972      KERALA  1986  5.6  18.7  11.2   63.1  126.7  597.9  324.8  340.3   \n",
              "3973      KERALA  1987  0.6   0.8   4.3   57.2  108.3  572.6  221.0  396.6   \n",
              "3998      KERALA  2012  7.4  11.0  21.0  171.1   95.3  430.3  362.6  501.6   \n",
              "\n",
              "      ...    OCT    NOV    DEC  ANNUAL  Jan-Feb  Mar-May  Jun-Sep  Oct-Dec  \\\n",
              "3962  ...  221.3  286.7   30.8  2068.8      1.6    231.3   1297.1    538.8   \n",
              "3972  ...  165.5  194.7    9.5  2093.2     24.3    200.9   1498.4    369.6   \n",
              "3973  ...  272.1  216.0  131.1  2137.6      1.4    169.7   1347.2    619.2   \n",
              "3998  ...  187.5  112.9    9.4  2151.1     18.3    287.4   1535.6    309.8   \n",
              "\n",
              "      MEAN ANNUAL  Prediction  \n",
              "3962  2925.487826     Drought  \n",
              "3972  2925.487826     Drought  \n",
              "3973  2925.487826     Drought  \n",
              "3998  2925.487826     Drought  \n",
              "\n",
              "[4 rows x 21 columns]"
            ]
          },
          "execution_count": 41,
          "metadata": {},
          "output_type": "execute_result"
        }
      ],
      "source": [
        "kerala_drought_df= df2[df2['Prediction']=='Drought']\n",
        "kerala_drought_df.head()"
      ]
    },
    {
      "cell_type": "code",
      "execution_count": null,
      "id": "10d66072",
      "metadata": {
        "id": "10d66072",
        "outputId": "dbe314f6-a1d0-434d-80dd-becb07ffe8b2"
      },
      "outputs": [
        {
          "data": {
            "text/plain": [
              "<AxesSubplot:xlabel='YEAR', ylabel='ANNUAL'>"
            ]
          },
          "execution_count": 42,
          "metadata": {},
          "output_type": "execute_result"
        },
        {
          "data": {
            "image/png": "[encoded data removed]",
            "text/plain": [
              "<Figure size 720x576 with 1 Axes>"
            ]
          },
          "metadata": {
            "needs_background": "light"
          },
          "output_type": "display_data"
        }
      ],
      "source": [
        "# plotting a bar graph\n",
        "# plotting a bar graph\n",
        "from matplotlib import rcParams\n",
        "\n",
        "rcParams['figure.figsize'] = 10,8\n",
        "plt.xticks(rotation=90)\n",
        "\n",
        "sns.barplot(x ='YEAR', y ='ANNUAL', data = kerala_drought_df, \n",
        "            palette ='plasma')"
      ]
    },
    {
      "cell_type": "markdown",
      "id": "db47d2f8",
      "metadata": {
        "id": "db47d2f8"
      },
      "source": [
        "Inference: The above graph depicts the years when Kerala experienced severe Drought during the time span of 110 years starting from 1905 to 2015 ie. 1976,1986,1987 and 2012. The year 2012 seems to be the worst hit."
      ]
    },
    {
      "cell_type": "markdown",
      "id": "bf73259a",
      "metadata": {
        "id": "bf73259a"
      },
      "source": [
        "# Heat Map of Rainfall"
      ]
    },
    {
      "cell_type": "code",
      "execution_count": null,
      "id": "8fcd37cb",
      "metadata": {
        "id": "8fcd37cb",
        "outputId": "6e86b8cc-db7f-4677-cc12-59c26daf2f75"
      },
      "outputs": [
        {
          "data": {
            "image/png": "[encoded data removed]",
            "text/plain": [
              "<Figure size 1080x1080 with 2 Axes>"
            ]
          },
          "metadata": {
            "needs_background": "light"
          },
          "output_type": "display_data"
        }
      ],
      "source": [
        "fig=plt.gcf()\n",
        "fig.set_size_inches(15,15)\n",
        "colormap=sns.color_palette('Greens')\n",
        "fig=sns.heatmap(df.corr(),annot=True,linewidths=1,linecolor='k',square=True,mask=False, vmin=-1, vmax=1,cbar_kws={\"orientation\": \"vertical\"},cbar=True,cmap=colormap)"
      ]
    },
    {
      "cell_type": "markdown",
      "id": "0082f269",
      "metadata": {
        "id": "0082f269"
      },
      "source": [
        "Insight:\n",
        "\n",
        "From here, we can see that Annual rainfall has very high correlation to the rainfall received in the months of Jun-Sep. Also there is high correlation between seasonal rainfall(ie.'Jan-Feb', 'Mar-May',\n",
        "       'Jun-Sep', 'Oct-Dec') and corresponding months rainfall. "
      ]
    },
    {
      "cell_type": "markdown",
      "id": "99f78dbe",
      "metadata": {
        "id": "99f78dbe"
      },
      "source": [
        "Highly correlated features are dropped"
      ]
    },
    {
      "cell_type": "code",
      "execution_count": null,
      "id": "a1bc949a",
      "metadata": {
        "id": "a1bc949a",
        "outputId": "0011032b-acd7-4362-d498-e84107baaca1"
      },
      "outputs": [
        {
          "data": {
            "text/html": [
              "<div>\n",
              "<style scoped>\n",
              "    .dataframe tbody tr th:only-of-type {\n",
              "        vertical-align: middle;\n",
              "    }\n",
              "\n",
              "    .dataframe tbody tr th {\n",
              "        vertical-align: top;\n",
              "    }\n",
              "\n",
              "    .dataframe thead th {\n",
              "        text-align: right;\n",
              "    }\n",
              "</style>\n",
              "<table border=\"1\" class=\"dataframe\">\n",
              "  <thead>\n",
              "    <tr style=\"text-align: right;\">\n",
              "      <th></th>\n",
              "      <th>SUBDIVISION</th>\n",
              "      <th>YEAR</th>\n",
              "      <th>JAN</th>\n",
              "      <th>FEB</th>\n",
              "      <th>MAR</th>\n",
              "      <th>APR</th>\n",
              "      <th>MAY</th>\n",
              "      <th>JUN</th>\n",
              "      <th>JUL</th>\n",
              "      <th>AUG</th>\n",
              "      <th>SEP</th>\n",
              "      <th>OCT</th>\n",
              "      <th>NOV</th>\n",
              "      <th>DEC</th>\n",
              "      <th>ANNUAL</th>\n",
              "      <th>MEAN ANNUAL</th>\n",
              "      <th>Prediction</th>\n",
              "    </tr>\n",
              "  </thead>\n",
              "  <tbody>\n",
              "    <tr>\n",
              "      <th>0</th>\n",
              "      <td>ANDAMAN &amp; NICOBAR ISLANDS</td>\n",
              "      <td>1901</td>\n",
              "      <td>49.2</td>\n",
              "      <td>87.1</td>\n",
              "      <td>29.2</td>\n",
              "      <td>2.3</td>\n",
              "      <td>528.8</td>\n",
              "      <td>517.5</td>\n",
              "      <td>365.1</td>\n",
              "      <td>481.1</td>\n",
              "      <td>332.6</td>\n",
              "      <td>388.5</td>\n",
              "      <td>558.2</td>\n",
              "      <td>33.6</td>\n",
              "      <td>3373.2</td>\n",
              "      <td>2927.439423</td>\n",
              "      <td>Normal</td>\n",
              "    </tr>\n",
              "    <tr>\n",
              "      <th>1</th>\n",
              "      <td>ANDAMAN &amp; NICOBAR ISLANDS</td>\n",
              "      <td>1902</td>\n",
              "      <td>0.0</td>\n",
              "      <td>159.8</td>\n",
              "      <td>12.2</td>\n",
              "      <td>0.0</td>\n",
              "      <td>446.1</td>\n",
              "      <td>537.1</td>\n",
              "      <td>228.9</td>\n",
              "      <td>753.7</td>\n",
              "      <td>666.2</td>\n",
              "      <td>197.2</td>\n",
              "      <td>359.0</td>\n",
              "      <td>160.5</td>\n",
              "      <td>3520.7</td>\n",
              "      <td>2927.439423</td>\n",
              "      <td>Normal</td>\n",
              "    </tr>\n",
              "    <tr>\n",
              "      <th>2</th>\n",
              "      <td>ANDAMAN &amp; NICOBAR ISLANDS</td>\n",
              "      <td>1903</td>\n",
              "      <td>12.7</td>\n",
              "      <td>144.0</td>\n",
              "      <td>0.0</td>\n",
              "      <td>1.0</td>\n",
              "      <td>235.1</td>\n",
              "      <td>479.9</td>\n",
              "      <td>728.4</td>\n",
              "      <td>326.7</td>\n",
              "      <td>339.0</td>\n",
              "      <td>181.2</td>\n",
              "      <td>284.4</td>\n",
              "      <td>225.0</td>\n",
              "      <td>2957.4</td>\n",
              "      <td>2927.439423</td>\n",
              "      <td>Normal</td>\n",
              "    </tr>\n",
              "    <tr>\n",
              "      <th>3</th>\n",
              "      <td>ANDAMAN &amp; NICOBAR ISLANDS</td>\n",
              "      <td>1904</td>\n",
              "      <td>9.4</td>\n",
              "      <td>14.7</td>\n",
              "      <td>0.0</td>\n",
              "      <td>202.4</td>\n",
              "      <td>304.5</td>\n",
              "      <td>495.1</td>\n",
              "      <td>502.0</td>\n",
              "      <td>160.1</td>\n",
              "      <td>820.4</td>\n",
              "      <td>222.2</td>\n",
              "      <td>308.7</td>\n",
              "      <td>40.1</td>\n",
              "      <td>3079.6</td>\n",
              "      <td>2927.439423</td>\n",
              "      <td>Normal</td>\n",
              "    </tr>\n",
              "    <tr>\n",
              "      <th>4</th>\n",
              "      <td>ANDAMAN &amp; NICOBAR ISLANDS</td>\n",
              "      <td>1905</td>\n",
              "      <td>1.3</td>\n",
              "      <td>0.0</td>\n",
              "      <td>3.3</td>\n",
              "      <td>26.9</td>\n",
              "      <td>279.5</td>\n",
              "      <td>628.7</td>\n",
              "      <td>368.7</td>\n",
              "      <td>330.5</td>\n",
              "      <td>297.0</td>\n",
              "      <td>260.7</td>\n",
              "      <td>25.4</td>\n",
              "      <td>344.7</td>\n",
              "      <td>2566.7</td>\n",
              "      <td>2927.439423</td>\n",
              "      <td>Normal</td>\n",
              "    </tr>\n",
              "  </tbody>\n",
              "</table>\n",
              "</div>"
            ],
            "text/plain": [
              "                 SUBDIVISION  YEAR   JAN    FEB   MAR    APR    MAY    JUN  \\\n",
              "0  ANDAMAN & NICOBAR ISLANDS  1901  49.2   87.1  29.2    2.3  528.8  517.5   \n",
              "1  ANDAMAN & NICOBAR ISLANDS  1902   0.0  159.8  12.2    0.0  446.1  537.1   \n",
              "2  ANDAMAN & NICOBAR ISLANDS  1903  12.7  144.0   0.0    1.0  235.1  479.9   \n",
              "3  ANDAMAN & NICOBAR ISLANDS  1904   9.4   14.7   0.0  202.4  304.5  495.1   \n",
              "4  ANDAMAN & NICOBAR ISLANDS  1905   1.3    0.0   3.3   26.9  279.5  628.7   \n",
              "\n",
              "     JUL    AUG    SEP    OCT    NOV    DEC  ANNUAL  MEAN ANNUAL Prediction  \n",
              "0  365.1  481.1  332.6  388.5  558.2   33.6  3373.2  2927.439423     Normal  \n",
              "1  228.9  753.7  666.2  197.2  359.0  160.5  3520.7  2927.439423     Normal  \n",
              "2  728.4  326.7  339.0  181.2  284.4  225.0  2957.4  2927.439423     Normal  \n",
              "3  502.0  160.1  820.4  222.2  308.7   40.1  3079.6  2927.439423     Normal  \n",
              "4  368.7  330.5  297.0  260.7   25.4  344.7  2566.7  2927.439423     Normal  "
            ]
          },
          "execution_count": 235,
          "metadata": {},
          "output_type": "execute_result"
        }
      ],
      "source": [
        "df.drop(['Jan-Feb', 'Mar-May','Jun-Sep', 'Oct-Dec'],axis=1,inplace=True)\n",
        "df.head()"
      ]
    },
    {
      "cell_type": "markdown",
      "id": "2ec71ef7",
      "metadata": {
        "id": "2ec71ef7"
      },
      "source": [
        "# Outlier detection "
      ]
    },
    {
      "cell_type": "code",
      "execution_count": null,
      "id": "da98decd",
      "metadata": {
        "id": "da98decd"
      },
      "outputs": [],
      "source": [
        "df.columns"
      ]
    },
    {
      "cell_type": "code",
      "execution_count": null,
      "id": "08a1091d",
      "metadata": {
        "id": "08a1091d",
        "outputId": "ab0d355c-5446-44de-f5ae-3631d99fec44"
      },
      "outputs": [
        {
          "data": {
            "image/png": "[encoded data removed]",
            "text/plain": [
              "<Figure size 720x576 with 1 Axes>"
            ]
          },
          "metadata": {
            "needs_background": "light"
          },
          "output_type": "display_data"
        }
      ],
      "source": [
        "df = pd.DataFrame(data = np.random.random(size=(4,20)), columns = ['SUBDIVISION', 'YEAR', 'JAN', 'FEB', 'MAR', 'APR', 'MAY', 'JUN', 'JUL',\n",
        "       'AUG', 'SEP', 'OCT', 'NOV', 'DEC', 'ANNUAL', 'Jan-Feb', 'Mar-May',\n",
        "       'Jun-Sep', 'Oct-Dec', 'MEAN ANNUAL'],)\n",
        "\n",
        "df.boxplot();\n",
        "plt.xticks(rotation=45);"
      ]
    },
    {
      "cell_type": "markdown",
      "id": "9ccab45a",
      "metadata": {
        "id": "9ccab45a"
      },
      "source": [
        "Inference: No outliers are detected in any of the columns"
      ]
    },
    {
      "cell_type": "markdown",
      "id": "368e9291",
      "metadata": {
        "id": "368e9291"
      },
      "source": [
        "# Data Preprocessing Part II"
      ]
    },
    {
      "cell_type": "markdown",
      "id": "8c5b569b",
      "metadata": {
        "id": "8c5b569b"
      },
      "source": [
        "# Encoding\n"
      ]
    },
    {
      "cell_type": "code",
      "execution_count": null,
      "id": "926c1a26",
      "metadata": {
        "id": "926c1a26",
        "outputId": "6720a816-f0b6-48a7-8489-e4d7af6549cf"
      },
      "outputs": [
        {
          "data": {
            "text/plain": [
              "SUBDIVISION     object\n",
              "YEAR             int64\n",
              "JAN            float64\n",
              "FEB            float64\n",
              "MAR            float64\n",
              "APR            float64\n",
              "MAY            float64\n",
              "JUN            float64\n",
              "JUL            float64\n",
              "AUG            float64\n",
              "SEP            float64\n",
              "OCT            float64\n",
              "NOV            float64\n",
              "DEC            float64\n",
              "ANNUAL         float64\n",
              "MEAN ANNUAL    float64\n",
              "Prediction      object\n",
              "dtype: object"
            ]
          },
          "execution_count": 211,
          "metadata": {},
          "output_type": "execute_result"
        }
      ],
      "source": [
        "df.dtypes\n"
      ]
    },
    {
      "cell_type": "code",
      "execution_count": null,
      "id": "08a47ac8",
      "metadata": {
        "id": "08a47ac8",
        "outputId": "51906b61-4c54-4d90-9aa6-787883f393f6"
      },
      "outputs": [
        {
          "data": {
            "text/plain": [
              "WEST MADHYA PRADESH                   115\n",
              "EAST RAJASTHAN                        115\n",
              "COASTAL KARNATAKA                     115\n",
              "TAMIL NADU                            115\n",
              "RAYALSEEMA                            115\n",
              "TELANGANA                             115\n",
              "COASTAL ANDHRA PRADESH                115\n",
              "CHHATTISGARH                          115\n",
              "VIDARBHA                              115\n",
              "MATATHWADA                            115\n",
              "MADHYA MAHARASHTRA                    115\n",
              "KONKAN & GOA                          115\n",
              "SAURASHTRA & KUTCH                    115\n",
              "GUJARAT REGION                        115\n",
              "EAST MADHYA PRADESH                   115\n",
              "KERALA                                115\n",
              "WEST RAJASTHAN                        115\n",
              "SOUTH INTERIOR KARNATAKA              115\n",
              "JAMMU & KASHMIR                       115\n",
              "HIMACHAL PRADESH                      115\n",
              "PUNJAB                                115\n",
              "HARYANA DELHI & CHANDIGARH            115\n",
              "UTTARAKHAND                           115\n",
              "WEST UTTAR PRADESH                    115\n",
              "EAST UTTAR PRADESH                    115\n",
              "BIHAR                                 115\n",
              "JHARKHAND                             115\n",
              "ORISSA                                115\n",
              "GANGETIC WEST BENGAL                  115\n",
              "SUB HIMALAYAN WEST BENGAL & SIKKIM    115\n",
              "NAGA MANI MIZO TRIPURA                115\n",
              "ASSAM & MEGHALAYA                     115\n",
              "NORTH INTERIOR KARNATAKA              115\n",
              "LAKSHADWEEP                           114\n",
              "ANDAMAN & NICOBAR ISLANDS             110\n",
              "ARUNACHAL PRADESH                      97\n",
              "Name: SUBDIVISION, dtype: int64"
            ]
          },
          "execution_count": 212,
          "metadata": {},
          "output_type": "execute_result"
        }
      ],
      "source": [
        "df['SUBDIVISION'].value_counts()"
      ]
    },
    {
      "cell_type": "code",
      "execution_count": null,
      "id": "df0ea382",
      "metadata": {
        "id": "df0ea382",
        "outputId": "a1e8d3c7-eda5-4fe8-eb4a-e1988aecf089"
      },
      "outputs": [
        {
          "data": {
            "text/plain": [
              "array([ 0,  1,  2, 21, 28, 10, 23, 15,  3,  9, 35, 31, 12, 24, 13, 14, 34,\n",
              "        8, 33,  7, 11, 26, 17, 19, 20, 32,  4,  5, 30, 25, 29,  6, 22, 27,\n",
              "       16, 18], dtype=int64)"
            ]
          },
          "execution_count": 273,
          "metadata": {},
          "output_type": "execute_result"
        }
      ],
      "source": [
        "label_encoder = LabelEncoder()\n",
        " \n",
        "# Encode labels in column 'Classification'.\n",
        "df['SUBDIVISION']= label_encoder.fit_transform(df['SUBDIVISION'])\n",
        " \n",
        "df['SUBDIVISION'].unique()"
      ]
    },
    {
      "cell_type": "code",
      "execution_count": null,
      "id": "ef8a285c",
      "metadata": {
        "id": "ef8a285c",
        "outputId": "6dcee74f-7513-474e-f5b4-1c7e7d5a99c6"
      },
      "outputs": [
        {
          "data": {
            "text/plain": [
              "33    115\n",
              "8     115\n",
              "6     115\n",
              "29    115\n",
              "25    115\n",
              "30    115\n",
              "5     115\n",
              "4     115\n",
              "32    115\n",
              "20    115\n",
              "19    115\n",
              "17    115\n",
              "26    115\n",
              "11    115\n",
              "7     115\n",
              "16    115\n",
              "34    115\n",
              "27    115\n",
              "14    115\n",
              "13    115\n",
              "24    115\n",
              "12    115\n",
              "31    115\n",
              "35    115\n",
              "9     115\n",
              "3     115\n",
              "15    115\n",
              "23    115\n",
              "10    115\n",
              "28    115\n",
              "21    115\n",
              "2     115\n",
              "22    115\n",
              "18    114\n",
              "0     110\n",
              "1      97\n",
              "Name: SUBDIVISION, dtype: int64"
            ]
          },
          "execution_count": 142,
          "metadata": {},
          "output_type": "execute_result"
        }
      ],
      "source": [
        "df['SUBDIVISION'].value_counts()"
      ]
    },
    {
      "cell_type": "code",
      "execution_count": null,
      "id": "3e73797d",
      "metadata": {
        "id": "3e73797d",
        "outputId": "7fe0842d-d4d4-49a8-9d6b-2faaa568afb3"
      },
      "outputs": [
        {
          "data": {
            "text/plain": [
              "array([2, 1, 0], dtype=int64)"
            ]
          },
          "execution_count": 274,
          "metadata": {},
          "output_type": "execute_result"
        }
      ],
      "source": [
        "label_encoder = LabelEncoder()\n",
        " \n",
        "# Encode labels in column 'Classification'.\n",
        "df['Prediction']= label_encoder.fit_transform(df['Prediction'])\n",
        " \n",
        "df['Prediction'].unique()"
      ]
    },
    {
      "cell_type": "code",
      "execution_count": null,
      "id": "ed499261",
      "metadata": {
        "id": "ed499261",
        "outputId": "827e109f-15b7-4858-95a8-f4746f444478"
      },
      "outputs": [
        {
          "data": {
            "text/plain": [
              "2    3296\n",
              "1     419\n",
              "0     401\n",
              "Name: Prediction, dtype: int64"
            ]
          },
          "execution_count": 214,
          "metadata": {},
          "output_type": "execute_result"
        }
      ],
      "source": [
        "df['Prediction'].value_counts()"
      ]
    },
    {
      "cell_type": "code",
      "execution_count": null,
      "id": "0840a51a",
      "metadata": {
        "id": "0840a51a",
        "outputId": "2d4a3574-44ba-4bb0-8f65-05009a6b3589"
      },
      "outputs": [
        {
          "data": {
            "text/plain": [
              "SUBDIVISION     object\n",
              "YEAR             int64\n",
              "JAN            float64\n",
              "FEB            float64\n",
              "MAR            float64\n",
              "APR            float64\n",
              "MAY            float64\n",
              "JUN            float64\n",
              "JUL            float64\n",
              "AUG            float64\n",
              "SEP            float64\n",
              "OCT            float64\n",
              "NOV            float64\n",
              "DEC            float64\n",
              "ANNUAL         float64\n",
              "MEAN ANNUAL    float64\n",
              "Prediction       int32\n",
              "dtype: object"
            ]
          },
          "execution_count": 215,
          "metadata": {},
          "output_type": "execute_result"
        }
      ],
      "source": [
        "df.dtypes"
      ]
    },
    {
      "cell_type": "code",
      "execution_count": null,
      "id": "a597a5c2",
      "metadata": {
        "id": "a597a5c2",
        "outputId": "25050a55-49bf-4c3f-9f71-f85db3fc38a0"
      },
      "outputs": [
        {
          "data": {
            "text/plain": [
              "(4116, 17)"
            ]
          },
          "execution_count": 80,
          "metadata": {},
          "output_type": "execute_result"
        }
      ],
      "source": [
        "df.shape"
      ]
    },
    {
      "cell_type": "code",
      "execution_count": null,
      "id": "43f40b55",
      "metadata": {
        "id": "43f40b55"
      },
      "outputs": [],
      "source": [
        "x=df.drop(['Prediction'],axis=1)"
      ]
    },
    {
      "cell_type": "code",
      "execution_count": null,
      "id": "eafcebe7",
      "metadata": {
        "id": "eafcebe7"
      },
      "outputs": [],
      "source": [
        "y=df['Prediction']"
      ]
    },
    {
      "cell_type": "code",
      "execution_count": null,
      "id": "56598d4f",
      "metadata": {
        "id": "56598d4f"
      },
      "outputs": [],
      "source": [
        "#Splitting data into train and test samples in the ratio 80:20\n",
        "\n",
        "x_train,x_test,y_train,y_test=train_test_split(x,y,random_state=42,test_size=0.2)"
      ]
    },
    {
      "cell_type": "code",
      "execution_count": null,
      "id": "1028eb9f",
      "metadata": {
        "id": "1028eb9f",
        "outputId": "d2a4f8dd-142e-4bb8-d344-441e3756bb04"
      },
      "outputs": [
        {
          "data": {
            "text/plain": [
              "(3292, 16)"
            ]
          },
          "execution_count": 244,
          "metadata": {},
          "output_type": "execute_result"
        }
      ],
      "source": [
        "x_train.shape"
      ]
    },
    {
      "cell_type": "code",
      "execution_count": null,
      "id": "505af298",
      "metadata": {
        "id": "505af298",
        "outputId": "10260693-717d-4c7c-c992-3669dd53cda8"
      },
      "outputs": [
        {
          "data": {
            "text/plain": [
              "(3292,)"
            ]
          },
          "execution_count": 85,
          "metadata": {},
          "output_type": "execute_result"
        }
      ],
      "source": [
        "y_train.shape"
      ]
    },
    {
      "cell_type": "code",
      "execution_count": null,
      "id": "f33ce575",
      "metadata": {
        "id": "f33ce575",
        "outputId": "6eb28907-3657-4794-972e-ddbb3ab40289"
      },
      "outputs": [
        {
          "data": {
            "text/plain": [
              "(824, 16)"
            ]
          },
          "execution_count": 86,
          "metadata": {},
          "output_type": "execute_result"
        }
      ],
      "source": [
        "x_test.shape"
      ]
    },
    {
      "cell_type": "code",
      "execution_count": null,
      "id": "65d06135",
      "metadata": {
        "id": "65d06135",
        "outputId": "92613807-a71d-45d6-8a32-a97b8ef19130"
      },
      "outputs": [
        {
          "data": {
            "text/plain": [
              "(824,)"
            ]
          },
          "execution_count": 87,
          "metadata": {},
          "output_type": "execute_result"
        }
      ],
      "source": [
        "y_test.shape"
      ]
    },
    {
      "cell_type": "markdown",
      "id": "8254fc78",
      "metadata": {
        "id": "8254fc78"
      },
      "source": [
        "# Logistic Regression¶"
      ]
    },
    {
      "cell_type": "code",
      "execution_count": null,
      "id": "7cc9cc71",
      "metadata": {
        "id": "7cc9cc71",
        "outputId": "2a24ba47-071a-4638-eff6-6d63983efa11"
      },
      "outputs": [
        {
          "name": "stdout",
          "output_type": "stream",
          "text": [
            "              precision    recall  f1-score   support\n",
            "\n",
            "           0       0.95      0.99      0.97        77\n",
            "           1       0.98      0.93      0.95        86\n",
            "           2       0.99      0.99      0.99       661\n",
            "\n",
            "    accuracy                           0.98       824\n",
            "   macro avg       0.97      0.97      0.97       824\n",
            "weighted avg       0.98      0.98      0.98       824\n",
            "\n",
            "[[ 76   0   1]\n",
            " [  0  80   6]\n",
            " [  4   2 655]]\n",
            "accuracy is 0.9842233009708737\n"
          ]
        }
      ],
      "source": [
        "lr = LogisticRegression()\n",
        "lr.fit(x_train, y_train)\n",
        "\n",
        "y_pred = lr.predict(x_test)\n",
        "\n",
        "# Summary of the predictions made by the classifier\n",
        "print(classification_report(y_test, y_pred))\n",
        "print(confusion_matrix(y_test, y_pred))\n",
        "\n",
        "# Accuracy score\n",
        "print('accuracy is',accuracy_score(y_pred,y_test))"
      ]
    },
    {
      "cell_type": "markdown",
      "id": "2234dcad",
      "metadata": {
        "id": "2234dcad"
      },
      "source": [
        "# KNN Classifier¶"
      ]
    },
    {
      "cell_type": "code",
      "execution_count": null,
      "id": "fb066d64",
      "metadata": {
        "id": "fb066d64"
      },
      "outputs": [],
      "source": [
        "# Finding best k value\n",
        "acc_values=[]\n",
        "\n",
        "neighbors=np.arange(3,15)\n",
        "\n",
        "for k in neighbors:\n",
        "    classifier=KNeighborsClassifier(n_neighbors=k,metric='minkowski')\n",
        "    classifier.fit(x_train,y_train)\n",
        "    y_pred=classifier.predict(x_test)\n",
        "    acc=accuracy_score(y_test,y_pred)\n",
        "    acc_values.append(acc)"
      ]
    },
    {
      "cell_type": "code",
      "execution_count": null,
      "id": "92de5f42",
      "metadata": {
        "id": "92de5f42",
        "outputId": "8d1aade5-926a-4cd5-cb98-fc4ca32b6ef3"
      },
      "outputs": [
        {
          "data": {
            "text/plain": [
              "[0.9308252427184466,\n",
              " 0.9320388349514563,\n",
              " 0.9344660194174758,\n",
              " 0.9259708737864077,\n",
              " 0.9271844660194175,\n",
              " 0.9259708737864077,\n",
              " 0.9199029126213593,\n",
              " 0.9235436893203883,\n",
              " 0.9211165048543689,\n",
              " 0.9247572815533981,\n",
              " 0.9223300970873787,\n",
              " 0.9247572815533981]"
            ]
          },
          "execution_count": 247,
          "metadata": {},
          "output_type": "execute_result"
        }
      ],
      "source": [
        "acc_values"
      ]
    },
    {
      "cell_type": "code",
      "execution_count": null,
      "id": "ccc21d91",
      "metadata": {
        "id": "ccc21d91",
        "outputId": "92e6f053-947a-4c39-f9f3-fdb161b223f4"
      },
      "outputs": [
        {
          "data": {
            "image/png": "[encoded data removed]",
            "text/plain": [
              "<Figure size 720x576 with 1 Axes>"
            ]
          },
          "metadata": {
            "needs_background": "light"
          },
          "output_type": "display_data"
        }
      ],
      "source": [
        "plt.plot(neighbors,acc_values,'o-')\n",
        "plt.xlabel('K Value')\n",
        "plt.ylabel('Accuracy');"
      ]
    },
    {
      "cell_type": "code",
      "execution_count": null,
      "id": "fb3bb523",
      "metadata": {
        "id": "fb3bb523",
        "outputId": "3385971d-a193-413a-d5ca-03a9d72a1d7c"
      },
      "outputs": [
        {
          "name": "stdout",
          "output_type": "stream",
          "text": [
            "              precision    recall  f1-score   support\n",
            "\n",
            "           0       0.97      0.84      0.90        77\n",
            "           1       0.94      0.57      0.71        86\n",
            "           2       0.93      0.99      0.96       661\n",
            "\n",
            "    accuracy                           0.93       824\n",
            "   macro avg       0.95      0.80      0.86       824\n",
            "weighted avg       0.94      0.93      0.93       824\n",
            "\n",
            "[[ 65   0  12]\n",
            " [  0  49  37]\n",
            " [  2   3 656]]\n",
            "accuracy is 0.9344660194174758\n"
          ]
        }
      ],
      "source": [
        "knn = KNeighborsClassifier(n_neighbors=5)\n",
        "knn.fit(x_train, y_train)\n",
        "\n",
        "y_pred = knn.predict(x_test)\n",
        "\n",
        "# Summary of the predictions made by the classifier\n",
        "print(classification_report(y_test, y_pred))\n",
        "print(confusion_matrix(y_test, y_pred))\n",
        "\n",
        "# Accuracy score\n",
        "\n",
        "print('accuracy is',accuracy_score(y_pred,y_test))"
      ]
    },
    {
      "cell_type": "markdown",
      "id": "643ebc08",
      "metadata": {
        "id": "643ebc08"
      },
      "source": [
        "# Gradient Boosting Classifier¶"
      ]
    },
    {
      "cell_type": "code",
      "execution_count": null,
      "id": "09a5228a",
      "metadata": {
        "id": "09a5228a",
        "outputId": "4d09361f-a627-4879-b4a4-b1d22f4591a6"
      },
      "outputs": [
        {
          "name": "stdout",
          "output_type": "stream",
          "text": [
            "              precision    recall  f1-score   support\n",
            "\n",
            "           0       0.97      0.77      0.86        77\n",
            "           1       1.00      0.71      0.83        86\n",
            "           2       0.94      1.00      0.97       661\n",
            "\n",
            "    accuracy                           0.95       824\n",
            "   macro avg       0.97      0.82      0.88       824\n",
            "weighted avg       0.95      0.95      0.94       824\n",
            "\n",
            "[[ 59   0  18]\n",
            " [  0  61  25]\n",
            " [  2   0 659]]\n",
            "accuracy is 0.9453883495145631\n"
          ]
        }
      ],
      "source": [
        "from sklearn.ensemble import GradientBoostingClassifier\n",
        "gb=GradientBoostingClassifier()\n",
        "gb.fit(x_train,y_train)\n",
        "\n",
        "y_pred = gb.predict(x_test)\n",
        "\n",
        "# Summary of the predictions made by the classifier\n",
        "print(classification_report(y_test, y_pred))\n",
        "print(confusion_matrix(y_test, y_pred))\n",
        "\n",
        "# Accuracy score\n",
        "\n",
        "print('accuracy is',accuracy_score(y_pred,y_test))"
      ]
    },
    {
      "cell_type": "markdown",
      "id": "6e32344b",
      "metadata": {
        "id": "6e32344b"
      },
      "source": [
        "# Random Forest Classifier"
      ]
    },
    {
      "cell_type": "code",
      "execution_count": null,
      "id": "e56b768c",
      "metadata": {
        "id": "e56b768c",
        "outputId": "87868844-4498-449a-cebe-e3013120398c"
      },
      "outputs": [
        {
          "name": "stdout",
          "output_type": "stream",
          "text": [
            "              precision    recall  f1-score   support\n",
            "\n",
            "           0       0.96      0.57      0.72        77\n",
            "           1       1.00      0.41      0.58        86\n",
            "           2       0.89      1.00      0.94       661\n",
            "\n",
            "    accuracy                           0.90       824\n",
            "   macro avg       0.95      0.66      0.74       824\n",
            "weighted avg       0.91      0.90      0.88       824\n",
            "\n",
            "[[ 44   0  33]\n",
            " [  0  35  51]\n",
            " [  2   0 659]]\n",
            "accuracy is 0.8956310679611651\n"
          ]
        }
      ],
      "source": [
        "rf=RandomForestClassifier()\n",
        "rf.fit(x_train,y_train)\n",
        "y_pred=rf.predict(x_test)\n",
        "\n",
        "# Summary of the predictions made by the classifier\n",
        "print(classification_report(y_test, y_pred))\n",
        "print(confusion_matrix(y_test, y_pred))\n",
        "\n",
        "# Accuracy score\n",
        "\n",
        "print('accuracy is',accuracy_score(y_pred,y_test))"
      ]
    },
    {
      "cell_type": "markdown",
      "id": "695bafee",
      "metadata": {
        "id": "695bafee"
      },
      "source": [
        "# Gaussian Naive Bayes"
      ]
    },
    {
      "cell_type": "code",
      "execution_count": null,
      "id": "b296c942",
      "metadata": {
        "id": "b296c942",
        "outputId": "ba9a36e0-710f-46b5-e171-08841e79038c"
      },
      "outputs": [
        {
          "data": {
            "text/plain": [
              "GaussianNB()"
            ]
          },
          "execution_count": 265,
          "metadata": {},
          "output_type": "execute_result"
        }
      ],
      "source": [
        "from sklearn.naive_bayes import GaussianNB\n",
        "gnb=GaussianNB()\n",
        "gnb.fit(x_train,y_train)"
      ]
    },
    {
      "cell_type": "code",
      "execution_count": null,
      "id": "e82bc583",
      "metadata": {
        "id": "e82bc583",
        "outputId": "1aec6979-4dc7-47d6-a292-cb7a89cdfd66"
      },
      "outputs": [
        {
          "name": "stdout",
          "output_type": "stream",
          "text": [
            "              precision    recall  f1-score   support\n",
            "\n",
            "           0       0.15      0.73      0.25        77\n",
            "           1       0.18      0.19      0.18        86\n",
            "           2       0.85      0.48      0.61       661\n",
            "\n",
            "    accuracy                           0.47       824\n",
            "   macro avg       0.39      0.46      0.35       824\n",
            "weighted avg       0.71      0.47      0.53       824\n",
            "\n",
            "[[ 56   4  17]\n",
            " [ 31  16  39]\n",
            " [277  69 315]]\n",
            "accuracy is 0.4696601941747573\n"
          ]
        }
      ],
      "source": [
        "y_pred= gnb.predict(x_test)\n",
        "# Summary of the predictions made by the classifier\n",
        "print(classification_report(y_test, y_pred))\n",
        "print(confusion_matrix(y_test, y_pred))\n",
        "print('accuracy is',accuracy_score(y_pred,y_test))"
      ]
    },
    {
      "cell_type": "markdown",
      "id": "0e1dbdee",
      "metadata": {
        "id": "0e1dbdee"
      },
      "source": [
        "# Decision Tree Classifier"
      ]
    },
    {
      "cell_type": "code",
      "execution_count": null,
      "id": "a8ae219e",
      "metadata": {
        "id": "a8ae219e",
        "outputId": "563446c4-a210-45a4-cb4d-94b83deef146"
      },
      "outputs": [
        {
          "name": "stdout",
          "output_type": "stream",
          "text": [
            "              precision    recall  f1-score   support\n",
            "\n",
            "           0       0.93      0.86      0.89        77\n",
            "           1       0.91      0.83      0.87        86\n",
            "           2       0.96      0.98      0.97       661\n",
            "\n",
            "    accuracy                           0.95       824\n",
            "   macro avg       0.93      0.89      0.91       824\n",
            "weighted avg       0.95      0.95      0.95       824\n",
            "\n",
            "[[ 66   0  11]\n",
            " [  0  71  15]\n",
            " [  5   7 649]]\n",
            "Accuracy is  0.9538834951456311\n"
          ]
        }
      ],
      "source": [
        "dt=DecisionTreeClassifier()\n",
        "dt.fit(x_train,y_train)\n",
        "y_pred=dt.predict(x_test)\n",
        "# Summary of the predictions made by the classifier\n",
        "print(classification_report(y_test, y_pred))\n",
        "print(confusion_matrix(y_test, y_pred))\n",
        "print('Accuracy is ',accuracy_score(y_pred,y_test))"
      ]
    },
    {
      "cell_type": "markdown",
      "id": "e2bdcb97",
      "metadata": {
        "id": "e2bdcb97"
      },
      "source": [
        "# SVM"
      ]
    },
    {
      "cell_type": "code",
      "execution_count": null,
      "id": "a45505bf",
      "metadata": {
        "id": "a45505bf",
        "outputId": "dda35b09-b134-43da-b515-5e3cbb13da76"
      },
      "outputs": [
        {
          "name": "stdout",
          "output_type": "stream",
          "text": [
            "              precision    recall  f1-score   support\n",
            "\n",
            "           0       0.93      0.86      0.89        77\n",
            "           1       0.91      0.83      0.87        86\n",
            "           2       0.96      0.98      0.97       661\n",
            "\n",
            "    accuracy                           0.95       824\n",
            "   macro avg       0.93      0.89      0.91       824\n",
            "weighted avg       0.95      0.95      0.95       824\n",
            "\n",
            "[[ 66   0  11]\n",
            " [  0  71  15]\n",
            " [  5   7 649]]\n",
            "Accuracy is  0.9538834951456311\n"
          ]
        }
      ],
      "source": [
        "svc=SVC(kernel='rbf',probability=True)\n",
        "svc_classifier=svc.fit(x_train,y_train)\n",
        "# Summary of the predictions made by the classifier\n",
        "print(classification_report(y_test, y_pred))\n",
        "print(confusion_matrix(y_test, y_pred))\n",
        "print('Accuracy is ',accuracy_score(y_pred,y_test))"
      ]
    },
    {
      "cell_type": "code",
      "execution_count": null,
      "id": "2e90273d",
      "metadata": {
        "id": "2e90273d",
        "outputId": "289e7ed4-d7d1-4cb2-8bcd-bf6df71846fc"
      },
      "outputs": [
        {
          "name": "stdout",
          "output_type": "stream",
          "text": [
            "Actual Flood/Drought/Normal Values:\n",
            "[2 2 1 2 2 2 2 2 2 2 2 2 2 1 0 1 2 2 2 2 2 2 1 1 1 2 2 2 2 2 2 2 2 2 2 2 1\n",
            " 2 1 2 1 2 2 0 2 2 2 2 2 0 0 2 2 2 2 2 1 2 2 2 2 2 2 0 0 1 1 1 2 2 2 2 1 1\n",
            " 2 1 2 2 2 2 2 2 2 2 1 0 2 2 2 0 0 2 2 1 2 0 2 2 2 2 2 2 2 2 2 2 2 2 2 2 2\n",
            " 2 2 2 2 2 2 1 2 1 2 1 0 2 2 2 2 2 2 2 2 0 2 2 1 2 2 2 2 2 2 2 2 1 2 2 2 1\n",
            " 0 2 2 0 2 0 1 2 1 2 2 2 2 2 2 2 2 1 2 2 2 2 2 2 0 2 1 2 2 1 2 2 1 2 2 2 2\n",
            " 2 1 0 2 2 2 2 2 2 2 2 2 2 0 2 2 2 2 2 2 2 2 2 2 2 1 2 0 2 2 2 2 2 2 2 2 1\n",
            " 2 2 2 2 2 1 1 2 2 2 2 2 2 2 2 2 2 2 2 2 2 2 2 2 2 2 0 2 2 2 2 2 2 2 2 2 2\n",
            " 2 1 2 2 1 2 0 2 2 2 2 1 0 0 2 2 2 0 2 2 2 1 2 2 2 2 2 2 2 1 2 2 0 2 2 2 2\n",
            " 2 0 2 2 2 2 2 2 0 2 2 2 2 0 2 2 2 0 2 2 2 2 2 2 2 2 2 0 2 2 2 2 0 0 2 2 2\n",
            " 2 2 2 2 1 0 1 2 1 2 2 0 0 2 2 2 2 2 2 2 2 2 2 2 2 0 2 1 2 2 2 2 2 2 2 2 2\n",
            " 2 2 2 2 2 2 0 2 0 1 2 1 2 2 2 2 1 2 1 2 2 2 0 2 2 2 0 2 2 2 2 2 2 2 2 2 2\n",
            " 2 2 2 2 2 2 2 2 2 2 2 0 1 2 2 2 2 2 2 2 2 2 2 2 2 2 0 2 2 2 2 2 2 2 2 2 2\n",
            " 2 2 1 1 0 2 2 2 2 2 2 2 2 2 0 2 2 2 1 2 2 2 2 2 2 2 0 2 2 2 1 2 2 2 2 2 2\n",
            " 2 2 2 0 2 2 2 2 2 2 2 2 2 0 2 2 2 2 2 2 2 1 2 2 0 2 2 2 1 2 2 2 1 2 2 2 2\n",
            " 2 1 2 2 2 2 2 2 1 2 2 0 2 2 2 2 2 2 2 2 2 2 2 0 2 2 2 2 1 2 2 2 2 0 2 2 2\n",
            " 2 2 2 2 2 2 2 2 2 2 2 2 1 1 2 2 2 2 2 2 2 2 0 0 1 2 2 2 2 2 0 0 2 1 2 1 0\n",
            " 2 2 2 2 2 2 2 2 2 2 1 2 2 2 1 2 2 2 2 2 0 2 2 2 2 2 2 2 2 2 1 0 2 2 1 2 2\n",
            " 2 0 2 2 1 2 2 0 2 2 2 2 2 2 2 2 2 2 2 2 2 2 2 2 2 2 0 2 2 0 2 2 1 2 2 2 2\n",
            " 2 2 1 2 2 2 2 2 2 1 2 2 2 2 2 2 2 2 2 1 2 2 2 2 2 2 2 1 2 1 2 2 1 2 2 2 2\n",
            " 2 2 2 2 2 1 2 2 0 1 2 1 2 2 2 0 2 2 1 0 2 2 2 2 2 2 2 0 0 2 2 0 2 2 2 2 2\n",
            " 2 2 2 0 2 0 2 2 2 2 2 2 0 2 2 2 2 2 2 1 1 2 1 2 2 2 2 2 2 2 2 2 1 2 2 2 2\n",
            " 2 2 2 2 2 1 2 2 0 0 2 2 2 2 2 2 2 0 2 2 2 2 2 0 2 1 2 2 2 0 2 2 2 2 2 2 2\n",
            " 2 2 2 2 2 0 2 2 2 2]\n"
          ]
        }
      ],
      "source": [
        "y_pred=svc.predict(x_test)\n",
        "print('Actual Flood/Drought/Normal Values:')\n",
        "print(y_test.values)"
      ]
    },
    {
      "cell_type": "markdown",
      "id": "a81f0a38",
      "metadata": {
        "id": "a81f0a38"
      },
      "source": [
        "# Enseble Learning"
      ]
    },
    {
      "cell_type": "code",
      "execution_count": null,
      "id": "a9eb7c6a",
      "metadata": {
        "id": "a9eb7c6a"
      },
      "outputs": [],
      "source": [
        "from sklearn.ensemble import VotingClassifier\n",
        "from sklearn.ensemble import RandomForestClassifier\n",
        "from sklearn.linear_model import LogisticRegression\n",
        "from sklearn.neighbors import KNeighborsClassifier\n",
        "from sklearn.naive_bayes import GaussianNB\n",
        "log_clf = LogisticRegression(solver=\"liblinear\", random_state=42)\n",
        "rnd_clf = RandomForestClassifier(n_estimators=10, random_state=42)\n",
        "knn_clf = KNeighborsClassifier()\n",
        "gb_clf=GradientBoostingClassifier()\n",
        "gnb_clf=GaussianNB()\n",
        "dt_clf=DecisionTreeClassifier()\n",
        "svc_clf=SVC()\n",
        "voting = VotingClassifier(\n",
        "    estimators=[('lr', log_clf), ('rf', rnd_clf), ('knn', knn_clf),('gb',gb_clf), ('gnb',gnb_clf),('dt',dt_clf),('svc',svc_clf)],\n",
        "    voting='hard')"
      ]
    },
    {
      "cell_type": "code",
      "execution_count": null,
      "id": "686b68eb",
      "metadata": {
        "id": "686b68eb"
      },
      "outputs": [],
      "source": [
        "voting_clf = voting.fit(x_train, y_train)"
      ]
    },
    {
      "cell_type": "code",
      "execution_count": null,
      "id": "d9ffb897",
      "metadata": {
        "id": "d9ffb897",
        "outputId": "63dc5ea2-5c4e-47b6-dee7-d9738e20c86a"
      },
      "outputs": [
        {
          "name": "stdout",
          "output_type": "stream",
          "text": [
            "LogisticRegression 0.9733009708737864\n",
            "RandomForestClassifier 0.8883495145631068\n",
            "KNeighborsClassifier 0.9344660194174758\n",
            "GradientBoostingClassifier 0.9453883495145631\n",
            "GaussianNB 0.4696601941747573\n",
            "DecisionTreeClassifier 0.9538834951456311\n",
            "SVC 0.8616504854368932\n",
            "VotingClassifier 0.9466019417475728\n"
          ]
        }
      ],
      "source": [
        "from sklearn.metrics import accuracy_score\n",
        "\n",
        "for clf in (log_clf, rnd_clf, knn_clf, gb_clf,gnb_clf,dt_clf,svc_clf,voting_clf):\n",
        "    clf.fit(x_train, y_train)\n",
        "    y_pred = clf.predict(x_test)\n",
        "    print(clf.__class__.__name__, accuracy_score(y_test, y_pred))"
      ]
    },
    {
      "cell_type": "code",
      "execution_count": null,
      "id": "3085fb7c",
      "metadata": {
        "id": "3085fb7c",
        "outputId": "8906d59a-02d6-43ab-8a9d-81a2fa74e67e"
      },
      "outputs": [
        {
          "name": "stdout",
          "output_type": "stream",
          "text": [
            "  Name     Score\n",
            "0  KNN  0.934466\n",
            "1   LR  0.984223\n",
            "2   DT  0.957524\n",
            "3   RF  0.889563\n",
            "4   GB  0.945388\n",
            "5  GNB  0.469660\n",
            "6  SVC  0.861650\n",
            "7   EL  0.946602\n"
          ]
        }
      ],
      "source": [
        "models = []\n",
        "from sklearn.neighbors import KNeighborsClassifier\n",
        "from sklearn.linear_model import LogisticRegression\n",
        "from sklearn.tree import DecisionTreeClassifier\n",
        "from sklearn.svm import SVC\n",
        "from sklearn.naive_bayes import GaussianNB\n",
        "from sklearn.ensemble import RandomForestClassifier\n",
        "from sklearn.ensemble import VotingClassifier\n",
        "models.append(('KNN', KNeighborsClassifier()))\n",
        "models.append(('LR', LogisticRegression()))\n",
        "models.append(('DT', DecisionTreeClassifier()))\n",
        "models.append(('RF', RandomForestClassifier()))\n",
        "models.append(('GB', GradientBoostingClassifier()))\n",
        "models.append(('GNB', GaussianNB()))\n",
        "models.append(('SVC', SVC()))\n",
        "\n",
        "models.append(('EL', VotingClassifier(\n",
        "    estimators=[('lr', log_clf), ('rf', rnd_clf), ('knn', knn_clf),('gb',gb_clf), ('gnb',gnb_clf),('dt',dt_clf),('svc',svc_clf)],\n",
        "    voting='hard')))\n",
        "\n",
        "\n",
        "names = []\n",
        "scores = []\n",
        "for name, model in models:\n",
        "    model.fit(x_train, y_train)\n",
        "    y_pred = model.predict(x_test)\n",
        "    scores.append(accuracy_score(y_test, y_pred))\n",
        "    names.append(name)\n",
        "tr_split = pd.DataFrame({'Name': names, 'Score': scores})\n",
        "print(tr_split)"
      ]
    },
    {
      "cell_type": "code",
      "execution_count": null,
      "id": "0882f539",
      "metadata": {
        "id": "0882f539",
        "outputId": "75d2dcad-5ef3-43e9-856d-c41808ef543c"
      },
      "outputs": [
        {
          "data": {
            "image/png": "[encoded data removed]",
            "text/plain": [
              "<Figure size 720x576 with 1 Axes>"
            ]
          },
          "metadata": {
            "needs_background": "light"
          },
          "output_type": "display_data"
        }
      ],
      "source": [
        "import seaborn as sns\n",
        "axis = sns.barplot(x = 'Name', y = 'Score', data =tr_split )\n",
        "axis.set(xlabel='Classifier', ylabel='Accuracy')\n",
        "for p in axis.patches:\n",
        "    height = p.get_height()\n",
        "    axis.text(p.get_x() + p.get_width()/2, height + 0.005, '{:1.4f}'.format(height), ha=\"center\") \n",
        "plt.title('Graph showing the accuracy of different models')    \n",
        "plt.show()"
      ]
    },
    {
      "cell_type": "code",
      "execution_count": null,
      "id": "cf7fc197",
      "metadata": {
        "id": "cf7fc197"
      },
      "outputs": [],
      "source": [
        "Inference: Comparing different models, Logistic Regression shows highest accuracy and seem to be the best of all models "
      ]
    },
    {
      "cell_type": "code",
      "execution_count": null,
      "id": "a1c7e5b8",
      "metadata": {
        "id": "a1c7e5b8"
      },
      "outputs": [],
      "source": [
        "#Check the pattern of distribution of data in the dataset"
      ]
    },
    {
      "cell_type": "code",
      "execution_count": null,
      "id": "e1bc4139",
      "metadata": {
        "id": "e1bc4139",
        "outputId": "70ee95f7-17c6-485f-ad32-0d17c7414bd5"
      },
      "outputs": [
        {
          "data": {
            "text/html": [
              "<div>\n",
              "<style scoped>\n",
              "    .dataframe tbody tr th:only-of-type {\n",
              "        vertical-align: middle;\n",
              "    }\n",
              "\n",
              "    .dataframe tbody tr th {\n",
              "        vertical-align: top;\n",
              "    }\n",
              "\n",
              "    .dataframe thead th {\n",
              "        text-align: right;\n",
              "    }\n",
              "</style>\n",
              "<table border=\"1\" class=\"dataframe\">\n",
              "  <thead>\n",
              "    <tr style=\"text-align: right;\">\n",
              "      <th></th>\n",
              "      <th>SUBDIVISION</th>\n",
              "      <th>YEAR</th>\n",
              "      <th>JAN</th>\n",
              "      <th>FEB</th>\n",
              "      <th>MAR</th>\n",
              "      <th>APR</th>\n",
              "      <th>MAY</th>\n",
              "      <th>JUN</th>\n",
              "      <th>JUL</th>\n",
              "      <th>AUG</th>\n",
              "      <th>SEP</th>\n",
              "      <th>OCT</th>\n",
              "      <th>NOV</th>\n",
              "      <th>DEC</th>\n",
              "      <th>ANNUAL</th>\n",
              "      <th>MEAN ANNUAL</th>\n",
              "    </tr>\n",
              "  </thead>\n",
              "  <tbody>\n",
              "    <tr>\n",
              "      <th>count</th>\n",
              "      <td>4116.000000</td>\n",
              "      <td>4116.000000</td>\n",
              "      <td>4116.000000</td>\n",
              "      <td>4116.000000</td>\n",
              "      <td>4116.000000</td>\n",
              "      <td>4116.000000</td>\n",
              "      <td>4116.000000</td>\n",
              "      <td>4116.000000</td>\n",
              "      <td>4116.000000</td>\n",
              "      <td>4116.000000</td>\n",
              "      <td>4116.000000</td>\n",
              "      <td>4116.000000</td>\n",
              "      <td>4116.000000</td>\n",
              "      <td>4116.000000</td>\n",
              "      <td>4116.000000</td>\n",
              "      <td>4116.000000</td>\n",
              "    </tr>\n",
              "    <tr>\n",
              "      <th>mean</th>\n",
              "      <td>17.593294</td>\n",
              "      <td>1958.218659</td>\n",
              "      <td>18.990051</td>\n",
              "      <td>21.809836</td>\n",
              "      <td>27.365706</td>\n",
              "      <td>43.155708</td>\n",
              "      <td>85.943166</td>\n",
              "      <td>230.527625</td>\n",
              "      <td>347.304178</td>\n",
              "      <td>290.370187</td>\n",
              "      <td>197.714867</td>\n",
              "      <td>95.838230</td>\n",
              "      <td>40.384302</td>\n",
              "      <td>19.196805</td>\n",
              "      <td>1420.587907</td>\n",
              "      <td>1416.933038</td>\n",
              "    </tr>\n",
              "    <tr>\n",
              "      <th>std</th>\n",
              "      <td>10.344106</td>\n",
              "      <td>33.140898</td>\n",
              "      <td>33.585447</td>\n",
              "      <td>35.896784</td>\n",
              "      <td>46.925485</td>\n",
              "      <td>67.804255</td>\n",
              "      <td>123.407435</td>\n",
              "      <td>234.718751</td>\n",
              "      <td>269.319112</td>\n",
              "      <td>188.709721</td>\n",
              "      <td>135.624617</td>\n",
              "      <td>99.757827</td>\n",
              "      <td>69.320172</td>\n",
              "      <td>42.831405</td>\n",
              "      <td>908.963454</td>\n",
              "      <td>856.290787</td>\n",
              "    </tr>\n",
              "    <tr>\n",
              "      <th>min</th>\n",
              "      <td>0.000000</td>\n",
              "      <td>1901.000000</td>\n",
              "      <td>0.000000</td>\n",
              "      <td>0.000000</td>\n",
              "      <td>0.000000</td>\n",
              "      <td>0.000000</td>\n",
              "      <td>0.000000</td>\n",
              "      <td>0.400000</td>\n",
              "      <td>0.000000</td>\n",
              "      <td>0.000000</td>\n",
              "      <td>0.100000</td>\n",
              "      <td>0.000000</td>\n",
              "      <td>0.000000</td>\n",
              "      <td>0.000000</td>\n",
              "      <td>62.300000</td>\n",
              "      <td>292.673043</td>\n",
              "    </tr>\n",
              "    <tr>\n",
              "      <th>25%</th>\n",
              "      <td>9.000000</td>\n",
              "      <td>1930.000000</td>\n",
              "      <td>0.600000</td>\n",
              "      <td>0.600000</td>\n",
              "      <td>1.000000</td>\n",
              "      <td>3.000000</td>\n",
              "      <td>8.600000</td>\n",
              "      <td>70.475000</td>\n",
              "      <td>175.900000</td>\n",
              "      <td>156.150000</td>\n",
              "      <td>100.600000</td>\n",
              "      <td>14.600000</td>\n",
              "      <td>0.700000</td>\n",
              "      <td>0.100000</td>\n",
              "      <td>806.450000</td>\n",
              "      <td>827.114783</td>\n",
              "    </tr>\n",
              "    <tr>\n",
              "      <th>50%</th>\n",
              "      <td>18.000000</td>\n",
              "      <td>1958.000000</td>\n",
              "      <td>6.000000</td>\n",
              "      <td>6.700000</td>\n",
              "      <td>7.900000</td>\n",
              "      <td>15.700000</td>\n",
              "      <td>36.700000</td>\n",
              "      <td>138.900000</td>\n",
              "      <td>284.900000</td>\n",
              "      <td>259.500000</td>\n",
              "      <td>174.100000</td>\n",
              "      <td>65.750000</td>\n",
              "      <td>9.700000</td>\n",
              "      <td>3.100000</td>\n",
              "      <td>1125.450000</td>\n",
              "      <td>1095.459130</td>\n",
              "    </tr>\n",
              "    <tr>\n",
              "      <th>75%</th>\n",
              "      <td>27.000000</td>\n",
              "      <td>1987.000000</td>\n",
              "      <td>22.200000</td>\n",
              "      <td>26.825000</td>\n",
              "      <td>31.400000</td>\n",
              "      <td>50.200000</td>\n",
              "      <td>97.725000</td>\n",
              "      <td>306.150000</td>\n",
              "      <td>418.225000</td>\n",
              "      <td>378.950000</td>\n",
              "      <td>266.400000</td>\n",
              "      <td>148.700000</td>\n",
              "      <td>46.500000</td>\n",
              "      <td>17.700000</td>\n",
              "      <td>1667.200000</td>\n",
              "      <td>1490.487826</td>\n",
              "    </tr>\n",
              "    <tr>\n",
              "      <th>max</th>\n",
              "      <td>35.000000</td>\n",
              "      <td>2015.000000</td>\n",
              "      <td>583.700000</td>\n",
              "      <td>403.500000</td>\n",
              "      <td>605.600000</td>\n",
              "      <td>595.100000</td>\n",
              "      <td>1168.600000</td>\n",
              "      <td>1609.900000</td>\n",
              "      <td>2362.800000</td>\n",
              "      <td>1664.600000</td>\n",
              "      <td>1222.000000</td>\n",
              "      <td>948.300000</td>\n",
              "      <td>648.900000</td>\n",
              "      <td>617.500000</td>\n",
              "      <td>6331.100000</td>\n",
              "      <td>3418.857143</td>\n",
              "    </tr>\n",
              "  </tbody>\n",
              "</table>\n",
              "</div>"
            ],
            "text/plain": [
              "       SUBDIVISION         YEAR          JAN          FEB          MAR  \\\n",
              "count  4116.000000  4116.000000  4116.000000  4116.000000  4116.000000   \n",
              "mean     17.593294  1958.218659    18.990051    21.809836    27.365706   \n",
              "std      10.344106    33.140898    33.585447    35.896784    46.925485   \n",
              "min       0.000000  1901.000000     0.000000     0.000000     0.000000   \n",
              "25%       9.000000  1930.000000     0.600000     0.600000     1.000000   \n",
              "50%      18.000000  1958.000000     6.000000     6.700000     7.900000   \n",
              "75%      27.000000  1987.000000    22.200000    26.825000    31.400000   \n",
              "max      35.000000  2015.000000   583.700000   403.500000   605.600000   \n",
              "\n",
              "               APR          MAY          JUN          JUL          AUG  \\\n",
              "count  4116.000000  4116.000000  4116.000000  4116.000000  4116.000000   \n",
              "mean     43.155708    85.943166   230.527625   347.304178   290.370187   \n",
              "std      67.804255   123.407435   234.718751   269.319112   188.709721   \n",
              "min       0.000000     0.000000     0.400000     0.000000     0.000000   \n",
              "25%       3.000000     8.600000    70.475000   175.900000   156.150000   \n",
              "50%      15.700000    36.700000   138.900000   284.900000   259.500000   \n",
              "75%      50.200000    97.725000   306.150000   418.225000   378.950000   \n",
              "max     595.100000  1168.600000  1609.900000  2362.800000  1664.600000   \n",
              "\n",
              "               SEP          OCT          NOV          DEC       ANNUAL  \\\n",
              "count  4116.000000  4116.000000  4116.000000  4116.000000  4116.000000   \n",
              "mean    197.714867    95.838230    40.384302    19.196805  1420.587907   \n",
              "std     135.624617    99.757827    69.320172    42.831405   908.963454   \n",
              "min       0.100000     0.000000     0.000000     0.000000    62.300000   \n",
              "25%     100.600000    14.600000     0.700000     0.100000   806.450000   \n",
              "50%     174.100000    65.750000     9.700000     3.100000  1125.450000   \n",
              "75%     266.400000   148.700000    46.500000    17.700000  1667.200000   \n",
              "max    1222.000000   948.300000   648.900000   617.500000  6331.100000   \n",
              "\n",
              "       MEAN ANNUAL  \n",
              "count  4116.000000  \n",
              "mean   1416.933038  \n",
              "std     856.290787  \n",
              "min     292.673043  \n",
              "25%     827.114783  \n",
              "50%    1095.459130  \n",
              "75%    1490.487826  \n",
              "max    3418.857143  "
            ]
          },
          "execution_count": 106,
          "metadata": {},
          "output_type": "execute_result"
        }
      ],
      "source": [
        "x.describe()\n"
      ]
    },
    {
      "cell_type": "code",
      "execution_count": null,
      "id": "e1cce38f",
      "metadata": {
        "id": "e1cce38f",
        "outputId": "d612184a-9076-4f12-b50c-d2b2b882cac6"
      },
      "outputs": [
        {
          "data": {
            "text/plain": [
              "pandas.core.frame.DataFrame"
            ]
          },
          "execution_count": 112,
          "metadata": {},
          "output_type": "execute_result"
        }
      ],
      "source": [
        "type(x)"
      ]
    },
    {
      "cell_type": "code",
      "execution_count": null,
      "id": "299b02ac",
      "metadata": {
        "id": "299b02ac",
        "outputId": "4e214d7d-1917-48c8-a2fe-84a87eeb16cf"
      },
      "outputs": [
        {
          "data": {
            "image/png": "[encoded data removed]",
            "text/plain": [
              "<Figure size 576x432 with 1 Axes>"
            ]
          },
          "metadata": {
            "needs_background": "light"
          },
          "output_type": "display_data"
        }
      ],
      "source": [
        "import numpy as np\n",
        "import matplotlib.pyplot as plt\n",
        "  \n",
        "# Generating some random data\n",
        "# for an example\n",
        "data = np.random.normal(170, 10, 250)\n",
        "  \n",
        "# Plotting the histogram.\n",
        "plt.figure(figsize=(8,6))\n",
        "plt.hist(data, bins=15, density=True, alpha=0.6, color='b')\n",
        "plt.title('Histogram before standardization')  \n",
        "plt.show()"
      ]
    },
    {
      "cell_type": "code",
      "execution_count": null,
      "id": "7d39c69e",
      "metadata": {
        "id": "7d39c69e"
      },
      "outputs": [],
      "source": [
        "# The data are skewly distributed, hence it is to be standardized "
      ]
    },
    {
      "cell_type": "code",
      "execution_count": null,
      "id": "e1ec3a78",
      "metadata": {
        "id": "e1ec3a78"
      },
      "outputs": [],
      "source": [
        "from sklearn.preprocessing import StandardScaler\n",
        "scaler = StandardScaler()\n",
        "x_train=scaler.fit_transform(x_train)\n",
        "x_test=scaler.fit_transform(x_test)"
      ]
    },
    {
      "cell_type": "code",
      "execution_count": null,
      "id": "e9833fcf",
      "metadata": {
        "id": "e9833fcf"
      },
      "outputs": [],
      "source": [
        "x=pd.DataFrame(x)"
      ]
    },
    {
      "cell_type": "code",
      "execution_count": null,
      "id": "3145c183",
      "metadata": {
        "id": "3145c183",
        "outputId": "06ee79f9-9849-4457-ba90-89f2277eabe9"
      },
      "outputs": [
        {
          "data": {
            "text/html": [
              "<div>\n",
              "<style scoped>\n",
              "    .dataframe tbody tr th:only-of-type {\n",
              "        vertical-align: middle;\n",
              "    }\n",
              "\n",
              "    .dataframe tbody tr th {\n",
              "        vertical-align: top;\n",
              "    }\n",
              "\n",
              "    .dataframe thead th {\n",
              "        text-align: right;\n",
              "    }\n",
              "</style>\n",
              "<table border=\"1\" class=\"dataframe\">\n",
              "  <thead>\n",
              "    <tr style=\"text-align: right;\">\n",
              "      <th></th>\n",
              "      <th>SUBDIVISION</th>\n",
              "      <th>YEAR</th>\n",
              "      <th>JAN</th>\n",
              "      <th>FEB</th>\n",
              "      <th>MAR</th>\n",
              "      <th>APR</th>\n",
              "      <th>MAY</th>\n",
              "      <th>JUN</th>\n",
              "      <th>JUL</th>\n",
              "      <th>AUG</th>\n",
              "      <th>SEP</th>\n",
              "      <th>OCT</th>\n",
              "      <th>NOV</th>\n",
              "      <th>DEC</th>\n",
              "      <th>ANNUAL</th>\n",
              "      <th>MEAN ANNUAL</th>\n",
              "    </tr>\n",
              "  </thead>\n",
              "  <tbody>\n",
              "    <tr>\n",
              "      <th>count</th>\n",
              "      <td>4116.000000</td>\n",
              "      <td>4116.000000</td>\n",
              "      <td>4116.000000</td>\n",
              "      <td>4116.000000</td>\n",
              "      <td>4116.000000</td>\n",
              "      <td>4116.000000</td>\n",
              "      <td>4116.000000</td>\n",
              "      <td>4116.000000</td>\n",
              "      <td>4116.000000</td>\n",
              "      <td>4116.000000</td>\n",
              "      <td>4116.000000</td>\n",
              "      <td>4116.000000</td>\n",
              "      <td>4116.000000</td>\n",
              "      <td>4116.000000</td>\n",
              "      <td>4116.000000</td>\n",
              "      <td>4116.000000</td>\n",
              "    </tr>\n",
              "    <tr>\n",
              "      <th>mean</th>\n",
              "      <td>17.593294</td>\n",
              "      <td>1958.218659</td>\n",
              "      <td>18.990051</td>\n",
              "      <td>21.809836</td>\n",
              "      <td>27.365706</td>\n",
              "      <td>43.155708</td>\n",
              "      <td>85.943166</td>\n",
              "      <td>230.527625</td>\n",
              "      <td>347.304178</td>\n",
              "      <td>290.370187</td>\n",
              "      <td>197.714867</td>\n",
              "      <td>95.838230</td>\n",
              "      <td>40.384302</td>\n",
              "      <td>19.196805</td>\n",
              "      <td>1420.587907</td>\n",
              "      <td>1416.933038</td>\n",
              "    </tr>\n",
              "    <tr>\n",
              "      <th>std</th>\n",
              "      <td>10.344106</td>\n",
              "      <td>33.140898</td>\n",
              "      <td>33.585447</td>\n",
              "      <td>35.896784</td>\n",
              "      <td>46.925485</td>\n",
              "      <td>67.804255</td>\n",
              "      <td>123.407435</td>\n",
              "      <td>234.718751</td>\n",
              "      <td>269.319112</td>\n",
              "      <td>188.709721</td>\n",
              "      <td>135.624617</td>\n",
              "      <td>99.757827</td>\n",
              "      <td>69.320172</td>\n",
              "      <td>42.831405</td>\n",
              "      <td>908.963454</td>\n",
              "      <td>856.290787</td>\n",
              "    </tr>\n",
              "    <tr>\n",
              "      <th>min</th>\n",
              "      <td>0.000000</td>\n",
              "      <td>1901.000000</td>\n",
              "      <td>0.000000</td>\n",
              "      <td>0.000000</td>\n",
              "      <td>0.000000</td>\n",
              "      <td>0.000000</td>\n",
              "      <td>0.000000</td>\n",
              "      <td>0.400000</td>\n",
              "      <td>0.000000</td>\n",
              "      <td>0.000000</td>\n",
              "      <td>0.100000</td>\n",
              "      <td>0.000000</td>\n",
              "      <td>0.000000</td>\n",
              "      <td>0.000000</td>\n",
              "      <td>62.300000</td>\n",
              "      <td>292.673043</td>\n",
              "    </tr>\n",
              "    <tr>\n",
              "      <th>25%</th>\n",
              "      <td>9.000000</td>\n",
              "      <td>1930.000000</td>\n",
              "      <td>0.600000</td>\n",
              "      <td>0.600000</td>\n",
              "      <td>1.000000</td>\n",
              "      <td>3.000000</td>\n",
              "      <td>8.600000</td>\n",
              "      <td>70.475000</td>\n",
              "      <td>175.900000</td>\n",
              "      <td>156.150000</td>\n",
              "      <td>100.600000</td>\n",
              "      <td>14.600000</td>\n",
              "      <td>0.700000</td>\n",
              "      <td>0.100000</td>\n",
              "      <td>806.450000</td>\n",
              "      <td>827.114783</td>\n",
              "    </tr>\n",
              "    <tr>\n",
              "      <th>50%</th>\n",
              "      <td>18.000000</td>\n",
              "      <td>1958.000000</td>\n",
              "      <td>6.000000</td>\n",
              "      <td>6.700000</td>\n",
              "      <td>7.900000</td>\n",
              "      <td>15.700000</td>\n",
              "      <td>36.700000</td>\n",
              "      <td>138.900000</td>\n",
              "      <td>284.900000</td>\n",
              "      <td>259.500000</td>\n",
              "      <td>174.100000</td>\n",
              "      <td>65.750000</td>\n",
              "      <td>9.700000</td>\n",
              "      <td>3.100000</td>\n",
              "      <td>1125.450000</td>\n",
              "      <td>1095.459130</td>\n",
              "    </tr>\n",
              "    <tr>\n",
              "      <th>75%</th>\n",
              "      <td>27.000000</td>\n",
              "      <td>1987.000000</td>\n",
              "      <td>22.200000</td>\n",
              "      <td>26.825000</td>\n",
              "      <td>31.400000</td>\n",
              "      <td>50.200000</td>\n",
              "      <td>97.725000</td>\n",
              "      <td>306.150000</td>\n",
              "      <td>418.225000</td>\n",
              "      <td>378.950000</td>\n",
              "      <td>266.400000</td>\n",
              "      <td>148.700000</td>\n",
              "      <td>46.500000</td>\n",
              "      <td>17.700000</td>\n",
              "      <td>1667.200000</td>\n",
              "      <td>1490.487826</td>\n",
              "    </tr>\n",
              "    <tr>\n",
              "      <th>max</th>\n",
              "      <td>35.000000</td>\n",
              "      <td>2015.000000</td>\n",
              "      <td>583.700000</td>\n",
              "      <td>403.500000</td>\n",
              "      <td>605.600000</td>\n",
              "      <td>595.100000</td>\n",
              "      <td>1168.600000</td>\n",
              "      <td>1609.900000</td>\n",
              "      <td>2362.800000</td>\n",
              "      <td>1664.600000</td>\n",
              "      <td>1222.000000</td>\n",
              "      <td>948.300000</td>\n",
              "      <td>648.900000</td>\n",
              "      <td>617.500000</td>\n",
              "      <td>6331.100000</td>\n",
              "      <td>3418.857143</td>\n",
              "    </tr>\n",
              "  </tbody>\n",
              "</table>\n",
              "</div>"
            ],
            "text/plain": [
              "       SUBDIVISION         YEAR          JAN          FEB          MAR  \\\n",
              "count  4116.000000  4116.000000  4116.000000  4116.000000  4116.000000   \n",
              "mean     17.593294  1958.218659    18.990051    21.809836    27.365706   \n",
              "std      10.344106    33.140898    33.585447    35.896784    46.925485   \n",
              "min       0.000000  1901.000000     0.000000     0.000000     0.000000   \n",
              "25%       9.000000  1930.000000     0.600000     0.600000     1.000000   \n",
              "50%      18.000000  1958.000000     6.000000     6.700000     7.900000   \n",
              "75%      27.000000  1987.000000    22.200000    26.825000    31.400000   \n",
              "max      35.000000  2015.000000   583.700000   403.500000   605.600000   \n",
              "\n",
              "               APR          MAY          JUN          JUL          AUG  \\\n",
              "count  4116.000000  4116.000000  4116.000000  4116.000000  4116.000000   \n",
              "mean     43.155708    85.943166   230.527625   347.304178   290.370187   \n",
              "std      67.804255   123.407435   234.718751   269.319112   188.709721   \n",
              "min       0.000000     0.000000     0.400000     0.000000     0.000000   \n",
              "25%       3.000000     8.600000    70.475000   175.900000   156.150000   \n",
              "50%      15.700000    36.700000   138.900000   284.900000   259.500000   \n",
              "75%      50.200000    97.725000   306.150000   418.225000   378.950000   \n",
              "max     595.100000  1168.600000  1609.900000  2362.800000  1664.600000   \n",
              "\n",
              "               SEP          OCT          NOV          DEC       ANNUAL  \\\n",
              "count  4116.000000  4116.000000  4116.000000  4116.000000  4116.000000   \n",
              "mean    197.714867    95.838230    40.384302    19.196805  1420.587907   \n",
              "std     135.624617    99.757827    69.320172    42.831405   908.963454   \n",
              "min       0.100000     0.000000     0.000000     0.000000    62.300000   \n",
              "25%     100.600000    14.600000     0.700000     0.100000   806.450000   \n",
              "50%     174.100000    65.750000     9.700000     3.100000  1125.450000   \n",
              "75%     266.400000   148.700000    46.500000    17.700000  1667.200000   \n",
              "max    1222.000000   948.300000   648.900000   617.500000  6331.100000   \n",
              "\n",
              "       MEAN ANNUAL  \n",
              "count  4116.000000  \n",
              "mean   1416.933038  \n",
              "std     856.290787  \n",
              "min     292.673043  \n",
              "25%     827.114783  \n",
              "50%    1095.459130  \n",
              "75%    1490.487826  \n",
              "max    3418.857143  "
            ]
          },
          "execution_count": 116,
          "metadata": {},
          "output_type": "execute_result"
        }
      ],
      "source": [
        "x.describe()"
      ]
    },
    {
      "cell_type": "code",
      "execution_count": null,
      "id": "efed1e54",
      "metadata": {
        "id": "efed1e54",
        "outputId": "c035b7a0-8e6e-4d7e-a2aa-9429a462ccc3"
      },
      "outputs": [
        {
          "data": {
            "image/png": "[encoded data removed]",
            "text/plain": [
              "<Figure size 576x432 with 1 Axes>"
            ]
          },
          "metadata": {
            "needs_background": "light"
          },
          "output_type": "display_data"
        }
      ],
      "source": [
        "# Plotting the histogram.\n",
        "plt.figure(figsize=(8,6))\n",
        "plt.hist(data, bins=15, density=True, alpha=0.6, color='b')\n",
        "plt.title('Histogram after standardization')  \n",
        "plt.show()"
      ]
    },
    {
      "cell_type": "markdown",
      "id": "c466c11f",
      "metadata": {
        "id": "c466c11f"
      },
      "source": [
        "Inference: Standardisation has nothing to do with this dataset. No change in the distribution pattern of data after standardization. "
      ]
    },
    {
      "cell_type": "markdown",
      "id": "a4da3666",
      "metadata": {
        "id": "a4da3666"
      },
      "source": [
        "# Applying standardized feature values to logistic regression model"
      ]
    },
    {
      "cell_type": "code",
      "execution_count": null,
      "id": "ad95fddc",
      "metadata": {
        "id": "ad95fddc"
      },
      "outputs": [],
      "source": [
        "#Splitting into train and test sample\n",
        "x1_train,x1_test,y_train,y_test=train_test_split(x1,y,random_state=42,test_size=0.2)"
      ]
    },
    {
      "cell_type": "code",
      "execution_count": null,
      "id": "ea9fd694",
      "metadata": {
        "id": "ea9fd694",
        "outputId": "65041e6c-15c2-4b0a-8b06-511f8a24b91a"
      },
      "outputs": [
        {
          "name": "stdout",
          "output_type": "stream",
          "text": [
            "              precision    recall  f1-score   support\n",
            "\n",
            "           0       0.93      0.88      0.91        77\n",
            "           1       0.91      0.59      0.72        86\n",
            "           2       0.94      0.98      0.96       661\n",
            "\n",
            "    accuracy                           0.93       824\n",
            "   macro avg       0.93      0.82      0.86       824\n",
            "weighted avg       0.93      0.93      0.93       824\n",
            "\n",
            "[[ 68   0   9]\n",
            " [  0  51  35]\n",
            " [  5   5 651]]\n",
            "accuracy is 0.9344660194174758\n"
          ]
        }
      ],
      "source": [
        "lr = LogisticRegression()\n",
        "lr.fit(x_train, y_train)\n",
        "\n",
        "y_pred = lr.predict(x_test)\n",
        "\n",
        "# Summary of the predictions made by the classifier\n",
        "print(classification_report(y_test, y_pred))\n",
        "print(confusion_matrix(y_test, y_pred))\n",
        "\n",
        "# Accuracy score\n",
        "print('accuracy is',accuracy_score(y_pred,y_test))"
      ]
    },
    {
      "cell_type": "markdown",
      "id": "3746497b",
      "metadata": {
        "id": "3746497b"
      },
      "source": [
        "Inference: As standardization of values had no impact in the dataset, there is no change in the accuracy score of Logistic Regression"
      ]
    },
    {
      "cell_type": "code",
      "execution_count": null,
      "id": "866ba545",
      "metadata": {
        "id": "866ba545"
      },
      "outputs": [],
      "source": [
        "#Changing values of n_estimators,max_depth,random_state and criterion to see if performance of model improves\n",
        "\n",
        "rft=RandomForestClassifier(n_estimators=700,max_depth=100, random_state=42, criterion='entropy', max_features='sqrt')"
      ]
    },
    {
      "cell_type": "code",
      "execution_count": null,
      "id": "0c89be27",
      "metadata": {
        "id": "0c89be27"
      },
      "outputs": [],
      "source": [
        "#Fine tuning of hyper parameters"
      ]
    },
    {
      "cell_type": "code",
      "execution_count": null,
      "id": "374a4780",
      "metadata": {
        "id": "374a4780",
        "outputId": "3969e2b0-ef4e-4766-ad3c-16c6d5d8c68d"
      },
      "outputs": [
        {
          "data": {
            "text/plain": [
              "RandomForestClassifier(criterion='entropy', max_depth=100, max_features='sqrt',\n",
              "                       n_estimators=700, random_state=42)"
            ]
          },
          "execution_count": 125,
          "metadata": {},
          "output_type": "execute_result"
        }
      ],
      "source": [
        "rft.fit(x_train,y_train)"
      ]
    },
    {
      "cell_type": "code",
      "execution_count": null,
      "id": "44a39886",
      "metadata": {
        "id": "44a39886",
        "outputId": "34787e62-2405-4526-8cae-418fc9441be0"
      },
      "outputs": [
        {
          "data": {
            "text/plain": [
              "0.8622700448494036"
            ]
          },
          "execution_count": 126,
          "metadata": {},
          "output_type": "execute_result"
        }
      ],
      "source": [
        "y_pred=rft.predict(x_test)\n",
        "f1_score(y_test,y_pred,average='weighted')"
      ]
    },
    {
      "cell_type": "code",
      "execution_count": null,
      "id": "cffc36de",
      "metadata": {
        "id": "cffc36de",
        "outputId": "daa92bad-2fdf-4b86-d658-ee61ca91265d"
      },
      "outputs": [
        {
          "data": {
            "text/plain": [
              "LogisticRegression(C=1, dual=True, intercept_scaling=1.0)"
            ]
          },
          "execution_count": 127,
          "metadata": {},
          "output_type": "execute_result"
        }
      ],
      "source": [
        "LogisticRegression(penalty='l2', dual=True, tol=0.0001, \n",
        "                           C=1, fit_intercept=True, intercept_scaling=1.0, \n",
        "                           class_weight=None, random_state=None)"
      ]
    },
    {
      "cell_type": "code",
      "execution_count": null,
      "id": "e8104018",
      "metadata": {
        "id": "e8104018",
        "outputId": "a608f760-a592-47b5-c3b6-842c329f99c9"
      },
      "outputs": [
        {
          "data": {
            "text/plain": [
              "0.9299332188969657"
            ]
          },
          "execution_count": 128,
          "metadata": {},
          "output_type": "execute_result"
        }
      ],
      "source": [
        "y_pred=lr.predict(x_test)\n",
        "f1_score(y_test,y_pred,average='weighted')"
      ]
    },
    {
      "cell_type": "markdown",
      "id": "5440a561",
      "metadata": {
        "id": "5440a561"
      },
      "source": [
        "Inference: Changing few of hyperparameters like n_estimators=700,max_depth=100, random_state=42, criterion='entropy', max_features='sqrt',does not  increase the accuracy. Fine tuning does not seem to increase the efficiency of the model."
      ]
    },
    {
      "cell_type": "code",
      "execution_count": null,
      "id": "953d0094",
      "metadata": {
        "id": "953d0094"
      },
      "outputs": [],
      "source": [
        ""
      ]
    }
  ],
  "metadata": {
    "kernelspec": {
      "display_name": "Python 3 (ipykernel)",
      "language": "python",
      "name": "python3"
    },
    "language_info": {
      "codemirror_mode": {
        "name": "ipython",
        "version": 3
      },
      "file_extension": ".py",
      "mimetype": "text/x-python",
      "name": "python",
      "nbconvert_exporter": "python",
      "pygments_lexer": "ipython3",
      "version": "3.8.12"
    },
    "colab": {
      "name": "final_project_1.ipynb",
      "provenance": []
    }
  },
  "nbformat": 4,
  "nbformat_minor": 5
}